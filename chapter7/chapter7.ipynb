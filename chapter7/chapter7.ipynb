{
 "cells": [
  {
   "cell_type": "markdown",
   "metadata": {
    "collapsed": true
   },
   "source": [
    "# nlp100 chapter7\n",
    "\n",
    "Try:http://www.cl.ecei.tohoku.ac.jp/nlp100"
   ]
  },
  {
   "cell_type": "markdown",
   "metadata": {},
   "source": [
    "## 60. KVSの構築"
   ]
  },
  {
   "cell_type": "code",
   "execution_count": 1,
   "metadata": {},
   "outputs": [],
   "source": [
    "import json\n",
    "import redis\n",
    "import codecs\n",
    "\n",
    "r = redis.Redis(host='localhost', port=6379, db=0)\n",
    "with open('data/artist.json') as reader:\n",
    "    for line in reader:\n",
    "        data = json.loads(line.rstrip())\n",
    "        if \"name\" in data and \"area\" in data:\n",
    "            r.set(data['name'], data['area'])"
   ]
  },
  {
   "cell_type": "markdown",
   "metadata": {},
   "source": [
    "## 61. KVSの検索"
   ]
  },
  {
   "cell_type": "code",
   "execution_count": 2,
   "metadata": {},
   "outputs": [
    {
     "name": "stdout",
     "output_type": "stream",
     "text": [
      "Germany\nChina\n"
     ]
    }
   ],
   "source": [
    "print(r.get('Thomas Selditz').decode())\n",
    "print(r.get('George Gao').decode())"
   ]
  },
  {
   "cell_type": "markdown",
   "metadata": {},
   "source": [
    "## 62. KVS内の反復処理"
   ]
  },
  {
   "cell_type": "code",
   "execution_count": 3,
   "metadata": {},
   "outputs": [
    {
     "name": "stdout",
     "output_type": "stream",
     "text": [
      "The number of Japanese: 22128\n"
     ]
    }
   ],
   "source": [
    "count = 0\n",
    "for k in r.keys():\n",
    "    if r.get(k) == 'Japan'.encode():\n",
    "        count += 1\n",
    "print('The number of Japanese:', count)"
   ]
  },
  {
   "cell_type": "markdown",
   "metadata": {},
   "source": [
    "## 63. オブジェクトを値に格納したKVS"
   ]
  },
  {
   "cell_type": "code",
   "execution_count": 4,
   "metadata": {},
   "outputs": [],
   "source": [
    "r2 = redis.Redis(host='localhost', port=6379, db=0)\n",
    "with open('data/artist.json') as reader:\n",
    "    for line in reader:\n",
    "        data = json.loads(line.rstrip())\n",
    "        if 'tags' in data:\n",
    "            tags = json.dumps(data['tags'])\n",
    "            r2.set(data['name'].encode(), tags.encode())"
   ]
  },
  {
   "cell_type": "code",
   "execution_count": 5,
   "metadata": {},
   "outputs": [
    {
     "data": {
      "text/plain": [
       "'[{\"value\": \"rock\", \"count\": 1}, {\"value\": \"britpop\", \"count\": 3}, {\"value\": \"british\", \"count\": 4}, {\"value\": \"uk\", \"count\": 1}, {\"value\": \"britannique\", \"count\": 1}, {\"value\": \"rock and indie\", \"count\": 1}, {\"value\": \"england\", \"count\": 1}, {\"value\": \"manchester\", \"count\": 1}]'"
      ]
     },
     "execution_count": 5,
     "metadata": {},
     "output_type": "execute_result"
    }
   ],
   "source": [
    "r2.get('Oasis'.encode()).decode()"
   ]
  },
  {
   "cell_type": "markdown",
   "metadata": {},
   "source": [
    "## 64. MongoDBの構築"
   ]
  },
  {
   "cell_type": "code",
   "execution_count": 10,
   "metadata": {},
   "outputs": [
    {
     "name": "stdout",
     "output_type": "stream",
     "text": [
      "db: musics\n"
     ]
    }
   ],
   "source": [
    "import pymongo\n",
    "\n",
    "with open('data/artist.json') as reader:\n",
    "    client = pymongo.MongoClient()\n",
    "    db = client.musics\n",
    "    print('db:', db.name)\n",
    "    collection = db.artist\n",
    "    \n",
    "    for line in reader:\n",
    "        data = json.loads(line)\n",
    "        collection.insert_one(data)"
   ]
  },
  {
   "cell_type": "code",
   "execution_count": 11,
   "metadata": {},
   "outputs": [
    {
     "data": {
      "text/plain": [
       "'rating.value_1'"
      ]
     },
     "execution_count": 11,
     "metadata": {},
     "output_type": "execute_result"
    }
   ],
   "source": [
    "collection.create_index([('name', pymongo.ASCENDING)])  \n",
    "collection.create_index([('aliases.name', pymongo.ASCENDING)])  \n",
    "collection.create_index([('tags.value', pymongo.ASCENDING)])\n",
    "collection.create_index([('rating.value', pymongo.ASCENDING)])"
   ]
  },
  {
   "cell_type": "markdown",
   "metadata": {},
   "source": [
    "## 65. MongoDBの検索"
   ]
  },
  {
   "cell_type": "code",
   "execution_count": 12,
   "metadata": {},
   "outputs": [
    {
     "name": "stdout",
     "output_type": "stream",
     "text": [
      "{'tags': [{'value': 'kamen rider w', 'count': 1}, {'value': 'related-akb48', 'count': 1}], 'gender': 'Female', 'aliases': [{'name': 'Queen', 'sort_name': 'Queen'}], 'type': 'Character', 'sort_name': 'Queen', 'gid': '420ca290-76c5-41af-999e-564d7c71f1a7', '_id': ObjectId('58d1d74425c5cf3a7164608a'), 'ended': True, 'name': 'Queen', 'id': 701492, 'area': 'Japan'}\n{'tags': [{'value': 'hard rock', 'count': 2}, {'value': '70s', 'count': 1}, {'value': 'queen family', 'count': 1}, {'value': '90s', 'count': 1}, {'value': '80s', 'count': 1}, {'value': 'glam rock', 'count': 1}, {'value': 'british', 'count': 4}, {'value': 'english', 'count': 1}, {'value': 'uk', 'count': 2}, {'value': 'pop/rock', 'count': 1}, {'value': 'pop-rock', 'count': 1}, {'value': 'britannique', 'count': 1}, {'value': 'classic pop and rock', 'count': 1}, {'value': 'queen', 'count': 1}, {'value': 'united kingdom', 'count': 1}, {'value': 'langham 1 studio bbc', 'count': 1}, {'value': 'kind of magic', 'count': 1}, {'value': 'band', 'count': 1}, {'value': 'rock', 'count': 6}, {'value': 'platinum', 'count': 1}], 'type': 'Group', 'gid': '0383dadf-2a4e-4d10-a46a-e9e041da8eb3', 'begin': {'year': 1970, 'month': 6, 'date': 27}, 'ended': True, 'sort_name': 'Queen', 'id': 192, 'aliases': [{'name': '女王', 'sort_name': '女王'}], '_id': ObjectId('58d1d75525c5cf3a71652736'), 'rating': {'value': 92, 'count': 24}, 'name': 'Queen', 'area': 'United Kingdom'}\n{'ended': True, '_id': ObjectId('58d1d77a25c5cf3a7166e18e'), 'gid': '5eecaf18-02ec-47af-a4f2-7831db373419', 'name': 'Queen', 'id': 992994, 'sort_name': 'Queen'}\n"
     ]
    }
   ],
   "source": [
    "for name in collection.find({'name': 'Queen'}):\n",
    "    print(name)"
   ]
  },
  {
   "cell_type": "markdown",
   "metadata": {},
   "source": [
    "## 66. 検索件数の取得"
   ]
  },
  {
   "cell_type": "code",
   "execution_count": 13,
   "metadata": {},
   "outputs": [
    {
     "name": "stdout",
     "output_type": "stream",
     "text": [
      "22821\n"
     ]
    }
   ],
   "source": [
    "count = 0\n",
    "for v in collection.find({'area': 'Japan'}):\n",
    "    count += 1\n",
    "print(count)"
   ]
  },
  {
   "cell_type": "markdown",
   "metadata": {},
   "source": [
    "## 67. 複数のドキュメントの取得"
   ]
  },
  {
   "cell_type": "code",
   "execution_count": 14,
   "metadata": {},
   "outputs": [
    {
     "name": "stdout",
     "output_type": "stream",
     "text": [
      "{'tags': [{'value': 'kamen rider w', 'count': 1}, {'value': 'related-akb48', 'count': 1}], 'gender': 'Female', 'aliases': [{'name': 'Queen', 'sort_name': 'Queen'}], 'type': 'Character', 'sort_name': 'Queen', 'gid': '420ca290-76c5-41af-999e-564d7c71f1a7', '_id': ObjectId('58d1d74425c5cf3a7164608a'), 'ended': True, 'name': 'Queen', 'id': 701492, 'area': 'Japan'}\n"
     ]
    }
   ],
   "source": [
    "aliases_name = \"Queen\"\n",
    "\n",
    "for aliases in collection.find({\"aliases.name\": aliases_name}):\n",
    "    print(aliases)"
   ]
  },
  {
   "cell_type": "markdown",
   "metadata": {},
   "source": [
    "## 68. ソート"
   ]
  },
  {
   "cell_type": "code",
   "execution_count": 17,
   "metadata": {},
   "outputs": [
    {
     "name": "stdout",
     "output_type": "stream",
     "text": [
      "Dance artist rating count top 10:\nNo.1: Madonna 26\nNo.2: Björk 23\nNo.3: The Prodigy 23\nNo.4: Rihanna 15\nNo.5: Britney Spears 13\nNo.6: Maroon 5 11\nNo.7: Adam Lambert 7\nNo.8: Fatboy Slim 7\nNo.9: Basement Jaxx 6\nNo.10: Cornershop 5\n"
     ]
    }
   ],
   "source": [
    "dancer = []\n",
    "for dance in collection.find({\"tags.value\": \"dance\"}):\n",
    "    if 'rating' in dance:\n",
    "        dancer.append([dance['name'],dance['rating']['count']])\n",
    "\n",
    "dancecount = sorted(dancer, key=lambda x:x[1], reverse=True)\n",
    "\n",
    "print('Dance artist rating count top 10:')\n",
    "\n",
    "n = 1\n",
    "for dance in dancecount:\n",
    "    if n > 10:\n",
    "        break\n",
    "    print('No.'+str(n)+':', dance[0], dance[1])\n",
    "    n += 1"
   ]
  }
 ],
 "metadata": {
  "kernelspec": {
   "display_name": "Python 2",
   "language": "python",
   "name": "python2"
  },
  "language_info": {
   "codemirror_mode": {
    "name": "ipython",
    "version": 2.0
   },
   "file_extension": ".py",
   "mimetype": "text/x-python",
   "name": "python",
   "nbconvert_exporter": "python",
   "pygments_lexer": "ipython2",
   "version": "2.7.6"
  }
 },
 "nbformat": 4,
 "nbformat_minor": 0
}