{
 "cells": [
  {
   "cell_type": "markdown",
   "metadata": {
    "collapsed": true
   },
   "source": [
    "# nlp100 chapter7\n",
    "\n",
    "Try:http://www.cl.ecei.tohoku.ac.jp/nlp100"
   ]
  },
  {
   "cell_type": "markdown",
   "metadata": {},
   "source": [
    "## 60. KVSの構築"
   ]
  },
  {
   "cell_type": "code",
   "execution_count": 1,
   "metadata": {},
   "outputs": [],
   "source": [
    "import json\n",
    "import redis\n",
    "import codecs\n",
    "\n",
    "r = redis.Redis(host='localhost', port=6379, db=0)\n",
    "with open('data/artist.json') as reader:\n",
    "    for line in reader:\n",
    "        data = json.loads(line.rstrip())\n",
    "        if \"name\" in data and \"area\" in data:\n",
    "            r.set(data['name'], data['area'])"
   ]
  },
  {
   "cell_type": "markdown",
   "metadata": {},
   "source": [
    "## 61. KVSの検索"
   ]
  },
  {
   "cell_type": "code",
   "execution_count": 2,
   "metadata": {},
   "outputs": [
    {
     "name": "stdout",
     "output_type": "stream",
     "text": [
      "Germany\nChina\n"
     ]
    }
   ],
   "source": [
    "print(r.get('Thomas Selditz').decode())\n",
    "print(r.get('George Gao').decode())"
   ]
  },
  {
   "cell_type": "markdown",
   "metadata": {},
   "source": [
    "## 62. KVS内の反復処理"
   ]
  },
  {
   "cell_type": "code",
   "execution_count": 3,
   "metadata": {},
   "outputs": [
    {
     "name": "stdout",
     "output_type": "stream",
     "text": [
      "The number of Japanese: 22128\n"
     ]
    }
   ],
   "source": [
    "count = 0\n",
    "for k in r.keys():\n",
    "    if r.get(k) == 'Japan'.encode():\n",
    "        count += 1\n",
    "print('The number of Japanese:', count)"
   ]
  },
  {
   "cell_type": "markdown",
   "metadata": {},
   "source": [
    "## 63. オブジェクトを値に格納したKVS"
   ]
  },
  {
   "cell_type": "code",
   "execution_count": 4,
   "metadata": {},
   "outputs": [],
   "source": [
    "r2 = redis.Redis(host='localhost', port=6379, db=0)\n",
    "with open('data/artist.json') as reader:\n",
    "    for line in reader:\n",
    "        data = json.loads(line.rstrip())\n",
    "        if 'tags' in data:\n",
    "            tags = json.dumps(data['tags'])\n",
    "            r2.set(data['name'].encode(), tags.encode())"
   ]
  },
  {
   "cell_type": "code",
   "execution_count": 5,
   "metadata": {},
   "outputs": [
    {
     "data": {
      "text/plain": [
       "'[{\"count\": 1, \"value\": \"rock\"}, {\"count\": 3, \"value\": \"britpop\"}, {\"count\": 4, \"value\": \"british\"}, {\"count\": 1, \"value\": \"uk\"}, {\"count\": 1, \"value\": \"britannique\"}, {\"count\": 1, \"value\": \"rock and indie\"}, {\"count\": 1, \"value\": \"england\"}, {\"count\": 1, \"value\": \"manchester\"}]'"
      ]
     },
     "execution_count": 5,
     "metadata": {},
     "output_type": "execute_result"
    }
   ],
   "source": [
    "r2.get('Oasis'.encode()).decode()"
   ]
  },
  {
   "cell_type": "markdown",
   "metadata": {},
   "source": [
    "## 64. MongoDBの構築"
   ]
  },
  {
   "cell_type": "code",
   "execution_count": 6,
   "metadata": {},
   "outputs": [
    {
     "name": "stdout",
     "output_type": "stream",
     "text": [
      "db: musics\n"
     ]
    }
   ],
   "source": [
    "import pymongo\n",
    "\n",
    "with open('data/artist.json') as reader:\n",
    "    client = pymongo.MongoClient()\n",
    "    db = client.musics\n",
    "    print('db:', db.name)\n",
    "    collection = db.artist\n",
    "    \n",
    "    for line in reader:\n",
    "        data = json.loads(line)\n",
    "        collection.insert_one(data)"
   ]
  },
  {
   "cell_type": "code",
   "execution_count": 7,
   "metadata": {},
   "outputs": [
    {
     "data": {
      "text/plain": [
       "'rating.value_1'"
      ]
     },
     "execution_count": 7,
     "metadata": {},
     "output_type": "execute_result"
    }
   ],
   "source": [
    "collection.create_index([('name', pymongo.ASCENDING)])  \n",
    "collection.create_index([('aliases.name', pymongo.ASCENDING)])  \n",
    "collection.create_index([('tags.value', pymongo.ASCENDING)])\n",
    "collection.create_index([('rating.value', pymongo.ASCENDING)])"
   ]
  },
  {
   "cell_type": "markdown",
   "metadata": {},
   "source": [
    "## 65. MongoDBの検索"
   ]
  },
  {
   "cell_type": "code",
   "execution_count": 8,
   "metadata": {},
   "outputs": [
    {
     "name": "stdout",
     "output_type": "stream",
     "text": [
      "{'aliases': [{'sort_name': 'Queen', 'name': 'Queen'}], 'gid': '420ca290-76c5-41af-999e-564d7c71f1a7', 'ended': True, 'id': 701492, 'gender': 'Female', 'type': 'Character', 'sort_name': 'Queen', '_id': ObjectId('58d1d74425c5cf3a7164608a'), 'tags': [{'count': 1, 'value': 'kamen rider w'}, {'count': 1, 'value': 'related-akb48'}], 'area': 'Japan', 'name': 'Queen'}\n{'aliases': [{'sort_name': '女王', 'name': '女王'}], 'rating': {'count': 24, 'value': 92}, 'ended': True, 'id': 192, 'type': 'Group', 'tags': [{'count': 2, 'value': 'hard rock'}, {'count': 1, 'value': '70s'}, {'count': 1, 'value': 'queen family'}, {'count': 1, 'value': '90s'}, {'count': 1, 'value': '80s'}, {'count': 1, 'value': 'glam rock'}, {'count': 4, 'value': 'british'}, {'count': 1, 'value': 'english'}, {'count': 2, 'value': 'uk'}, {'count': 1, 'value': 'pop/rock'}, {'count': 1, 'value': 'pop-rock'}, {'count': 1, 'value': 'britannique'}, {'count': 1, 'value': 'classic pop and rock'}, {'count': 1, 'value': 'queen'}, {'count': 1, 'value': 'united kingdom'}, {'count': 1, 'value': 'langham 1 studio bbc'}, {'count': 1, 'value': 'kind of magic'}, {'count': 1, 'value': 'band'}, {'count': 6, 'value': 'rock'}, {'count': 1, 'value': 'platinum'}], 'begin': {'date': 27, 'month': 6, 'year': 1970}, 'gid': '0383dadf-2a4e-4d10-a46a-e9e041da8eb3', '_id': ObjectId('58d1d75525c5cf3a71652736'), 'sort_name': 'Queen', 'area': 'United Kingdom', 'name': 'Queen'}\n{'gid': '5eecaf18-02ec-47af-a4f2-7831db373419', 'ended': True, 'id': 992994, '_id': ObjectId('58d1d77a25c5cf3a7166e18e'), 'sort_name': 'Queen', 'name': 'Queen'}\n{'aliases': [{'sort_name': 'Queen', 'name': 'Queen'}], 'gid': '420ca290-76c5-41af-999e-564d7c71f1a7', 'ended': True, 'id': 701492, 'gender': 'Female', 'type': 'Character', 'sort_name': 'Queen', '_id': ObjectId('58d3d0e325c5cf3a71726f86'), 'tags': [{'count': 1, 'value': 'kamen rider w'}, {'count': 1, 'value': 'related-akb48'}], 'area': 'Japan', 'name': 'Queen'}\n{'aliases': [{'sort_name': '女王', 'name': '女王'}], 'rating': {'count': 24, 'value': 92}, 'ended': True, 'id': 192, 'type': 'Group', 'tags': [{'count': 2, 'value': 'hard rock'}, {'count': 1, 'value': '70s'}, {'count': 1, 'value': 'queen family'}, {'count': 1, 'value': '90s'}, {'count': 1, 'value': '80s'}, {'count': 1, 'value': 'glam rock'}, {'count': 4, 'value': 'british'}, {'count': 1, 'value': 'english'}, {'count': 2, 'value': 'uk'}, {'count': 1, 'value': 'pop/rock'}, {'count': 1, 'value': 'pop-rock'}, {'count': 1, 'value': 'britannique'}, {'count': 1, 'value': 'classic pop and rock'}, {'count': 1, 'value': 'queen'}, {'count': 1, 'value': 'united kingdom'}, {'count': 1, 'value': 'langham 1 studio bbc'}, {'count': 1, 'value': 'kind of magic'}, {'count': 1, 'value': 'band'}, {'count': 6, 'value': 'rock'}, {'count': 1, 'value': 'platinum'}], 'begin': {'date': 27, 'month': 6, 'year': 1970}, 'gid': '0383dadf-2a4e-4d10-a46a-e9e041da8eb3', '_id': ObjectId('58d3d0f125c5cf3a71733632'), 'sort_name': 'Queen', 'area': 'United Kingdom', 'name': 'Queen'}\n{'gid': '5eecaf18-02ec-47af-a4f2-7831db373419', 'ended': True, 'id': 992994, '_id': ObjectId('58d3d11b25c5cf3a7174f08a'), 'sort_name': 'Queen', 'name': 'Queen'}\n{'aliases': [{'sort_name': 'Queen', 'name': 'Queen'}], 'gid': '420ca290-76c5-41af-999e-564d7c71f1a7', 'ended': True, 'id': 701492, 'gender': 'Female', 'type': 'Character', 'sort_name': 'Queen', '_id': ObjectId('58d3d26325c5cf3a71807e80'), 'tags': [{'count': 1, 'value': 'kamen rider w'}, {'count': 1, 'value': 'related-akb48'}], 'area': 'Japan', 'name': 'Queen'}\n{'aliases': [{'sort_name': '女王', 'name': '女王'}], 'rating': {'count': 24, 'value': 92}, 'ended': True, 'id': 192, 'type': 'Group', 'tags': [{'count': 2, 'value': 'hard rock'}, {'count': 1, 'value': '70s'}, {'count': 1, 'value': 'queen family'}, {'count': 1, 'value': '90s'}, {'count': 1, 'value': '80s'}, {'count': 1, 'value': 'glam rock'}, {'count': 4, 'value': 'british'}, {'count': 1, 'value': 'english'}, {'count': 2, 'value': 'uk'}, {'count': 1, 'value': 'pop/rock'}, {'count': 1, 'value': 'pop-rock'}, {'count': 1, 'value': 'britannique'}, {'count': 1, 'value': 'classic pop and rock'}, {'count': 1, 'value': 'queen'}, {'count': 1, 'value': 'united kingdom'}, {'count': 1, 'value': 'langham 1 studio bbc'}, {'count': 1, 'value': 'kind of magic'}, {'count': 1, 'value': 'band'}, {'count': 6, 'value': 'rock'}, {'count': 1, 'value': 'platinum'}], 'begin': {'date': 27, 'month': 6, 'year': 1970}, 'gid': '0383dadf-2a4e-4d10-a46a-e9e041da8eb3', '_id': ObjectId('58d3d27525c5cf3a7181452c'), 'sort_name': 'Queen', 'area': 'United Kingdom', 'name': 'Queen'}\n{'gid': '5eecaf18-02ec-47af-a4f2-7831db373419', 'ended': True, 'id': 992994, '_id': ObjectId('58d3d29c25c5cf3a7182ff84'), 'sort_name': 'Queen', 'name': 'Queen'}\n{'aliases': [{'sort_name': 'Queen', 'name': 'Queen'}], 'gid': '420ca290-76c5-41af-999e-564d7c71f1a7', 'ended': True, 'id': 701492, 'gender': 'Female', 'type': 'Character', 'sort_name': 'Queen', '_id': ObjectId('58d3e14125c5cfbdb6cf4ce6'), 'tags': [{'count': 1, 'value': 'kamen rider w'}, {'count': 1, 'value': 'related-akb48'}], 'area': 'Japan', 'name': 'Queen'}\n{'aliases': [{'sort_name': '女王', 'name': '女王'}], 'rating': {'count': 24, 'value': 92}, 'ended': True, 'id': 192, 'type': 'Group', 'tags': [{'count': 2, 'value': 'hard rock'}, {'count': 1, 'value': '70s'}, {'count': 1, 'value': 'queen family'}, {'count': 1, 'value': '90s'}, {'count': 1, 'value': '80s'}, {'count': 1, 'value': 'glam rock'}, {'count': 4, 'value': 'british'}, {'count': 1, 'value': 'english'}, {'count': 2, 'value': 'uk'}, {'count': 1, 'value': 'pop/rock'}, {'count': 1, 'value': 'pop-rock'}, {'count': 1, 'value': 'britannique'}, {'count': 1, 'value': 'classic pop and rock'}, {'count': 1, 'value': 'queen'}, {'count': 1, 'value': 'united kingdom'}, {'count': 1, 'value': 'langham 1 studio bbc'}, {'count': 1, 'value': 'kind of magic'}, {'count': 1, 'value': 'band'}, {'count': 6, 'value': 'rock'}, {'count': 1, 'value': 'platinum'}], 'begin': {'date': 27, 'month': 6, 'year': 1970}, 'gid': '0383dadf-2a4e-4d10-a46a-e9e041da8eb3', '_id': ObjectId('58d3e15525c5cfbdb6d01392'), 'sort_name': 'Queen', 'area': 'United Kingdom', 'name': 'Queen'}\n{'gid': '5eecaf18-02ec-47af-a4f2-7831db373419', 'ended': True, 'id': 992994, '_id': ObjectId('58d3e17e25c5cfbdb6d1cdea'), 'sort_name': 'Queen', 'name': 'Queen'}\n"
     ]
    }
   ],
   "source": [
    "for name in collection.find({'name': 'Queen'}):\n",
    "    print(name)"
   ]
  },
  {
   "cell_type": "markdown",
   "metadata": {},
   "source": [
    "## 66. 検索件数の取得"
   ]
  },
  {
   "cell_type": "code",
   "execution_count": 9,
   "metadata": {},
   "outputs": [
    {
     "name": "stdout",
     "output_type": "stream",
     "text": [
      "91284\n"
     ]
    }
   ],
   "source": [
    "count = 0\n",
    "for v in collection.find({'area': 'Japan'}):\n",
    "    count += 1\n",
    "print(count)"
   ]
  },
  {
   "cell_type": "markdown",
   "metadata": {},
   "source": [
    "## 67. 複数のドキュメントの取得"
   ]
  },
  {
   "cell_type": "code",
   "execution_count": 10,
   "metadata": {},
   "outputs": [
    {
     "name": "stdout",
     "output_type": "stream",
     "text": [
      "{'aliases': [{'sort_name': 'Queen', 'name': 'Queen'}], 'gid': '420ca290-76c5-41af-999e-564d7c71f1a7', 'ended': True, 'id': 701492, 'gender': 'Female', 'type': 'Character', 'sort_name': 'Queen', '_id': ObjectId('58d1d74425c5cf3a7164608a'), 'tags': [{'count': 1, 'value': 'kamen rider w'}, {'count': 1, 'value': 'related-akb48'}], 'area': 'Japan', 'name': 'Queen'}\n{'aliases': [{'sort_name': 'Queen', 'name': 'Queen'}], 'gid': '420ca290-76c5-41af-999e-564d7c71f1a7', 'ended': True, 'id': 701492, 'gender': 'Female', 'type': 'Character', 'sort_name': 'Queen', '_id': ObjectId('58d3d0e325c5cf3a71726f86'), 'tags': [{'count': 1, 'value': 'kamen rider w'}, {'count': 1, 'value': 'related-akb48'}], 'area': 'Japan', 'name': 'Queen'}\n{'aliases': [{'sort_name': 'Queen', 'name': 'Queen'}], 'gid': '420ca290-76c5-41af-999e-564d7c71f1a7', 'ended': True, 'id': 701492, 'gender': 'Female', 'type': 'Character', 'sort_name': 'Queen', '_id': ObjectId('58d3d26325c5cf3a71807e80'), 'tags': [{'count': 1, 'value': 'kamen rider w'}, {'count': 1, 'value': 'related-akb48'}], 'area': 'Japan', 'name': 'Queen'}\n{'aliases': [{'sort_name': 'Queen', 'name': 'Queen'}], 'gid': '420ca290-76c5-41af-999e-564d7c71f1a7', 'ended': True, 'id': 701492, 'gender': 'Female', 'type': 'Character', 'sort_name': 'Queen', '_id': ObjectId('58d3e14125c5cfbdb6cf4ce6'), 'tags': [{'count': 1, 'value': 'kamen rider w'}, {'count': 1, 'value': 'related-akb48'}], 'area': 'Japan', 'name': 'Queen'}\n"
     ]
    }
   ],
   "source": [
    "aliases_name = \"Queen\"\n",
    "\n",
    "for aliases in collection.find({\"aliases.name\": aliases_name}):\n",
    "    print(aliases)"
   ]
  },
  {
   "cell_type": "markdown",
   "metadata": {},
   "source": [
    "## 68. ソート"
   ]
  },
  {
   "cell_type": "code",
   "execution_count": 11,
   "metadata": {},
   "outputs": [
    {
     "name": "stdout",
     "output_type": "stream",
     "text": [
      "Dance artist rating count top 10:\nNo.1: Madonna 26\nNo.2: Madonna 26\nNo.3: Madonna 26\nNo.4: Madonna 26\nNo.5: Björk 23\nNo.6: The Prodigy 23\nNo.7: Björk 23\nNo.8: The Prodigy 23\nNo.9: Björk 23\nNo.10: The Prodigy 23\n"
     ]
    }
   ],
   "source": [
    "dancer = []\n",
    "for dance in collection.find({\"tags.value\": \"dance\"}):\n",
    "    if 'rating' in dance:\n",
    "        dancer.append([dance['name'],dance['rating']['count']])\n",
    "\n",
    "dancecount = sorted(dancer, key=lambda x:x[1], reverse=True)\n",
    "\n",
    "print('Dance artist rating count top 10:')\n",
    "\n",
    "n = 1\n",
    "for dance in dancecount:\n",
    "    if n > 10:\n",
    "        break\n",
    "    print('No.'+str(n)+':', dance[0], dance[1])\n",
    "    n += 1"
   ]
  },
  {
   "cell_type": "markdown",
   "metadata": {},
   "source": [
    "## 69. Webアプリケーションの作成\n",
    "cgi-bin/に切り出し"
   ]
  }
 ],
 "metadata": {
  "kernelspec": {
   "display_name": "Python 2",
   "language": "python",
   "name": "python2"
  },
  "language_info": {
   "codemirror_mode": {
    "name": "ipython",
    "version": 2.0
   },
   "file_extension": ".py",
   "mimetype": "text/x-python",
   "name": "python",
   "nbconvert_exporter": "python",
   "pygments_lexer": "ipython2",
   "version": "2.7.6"
  }
 },
 "nbformat": 4,
 "nbformat_minor": 0
}