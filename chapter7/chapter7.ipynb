{
 "cells": [
  {
   "cell_type": "markdown",
   "metadata": {
    "collapsed": true
   },
   "source": [
    "# nlp100 chapter7\n",
    "\n",
    "Try:http://www.cl.ecei.tohoku.ac.jp/nlp100"
   ]
  },
  {
   "cell_type": "markdown",
   "metadata": {},
   "source": [
    "## 60. KVSの構築"
   ]
  },
  {
   "cell_type": "code",
   "execution_count": 1,
   "metadata": {},
   "outputs": [],
   "source": [
    "import json\n",
    "import redis\n",
    "import codecs\n",
    "\n",
    "r = redis.Redis(host='localhost', port=6379, db=0)\n",
    "with open('data/artist.json') as reader:\n",
    "    for line in reader:\n",
    "        data = json.loads(line.rstrip())\n",
    "        if \"name\" in data and \"area\" in data:\n",
    "            r.set(data['name'], data['area'])"
   ]
  },
  {
   "cell_type": "markdown",
   "metadata": {},
   "source": [
    "## 61. KVSの検索"
   ]
  },
  {
   "cell_type": "code",
   "execution_count": 2,
   "metadata": {},
   "outputs": [
    {
     "name": "stdout",
     "output_type": "stream",
     "text": [
      "Germany\nChina\n"
     ]
    }
   ],
   "source": [
    "print(r.get('Thomas Selditz').decode())\n",
    "print(r.get('George Gao').decode())"
   ]
  },
  {
   "cell_type": "code",
   "execution_count": null,
   "metadata": {},
   "outputs": [],
   "source": [
    "## 62. KVS内の反復処理"
   ]
  },
  {
   "cell_type": "code",
   "execution_count": 3,
   "metadata": {},
   "outputs": [
    {
     "name": "stdout",
     "output_type": "stream",
     "text": [
      "The number of Japanese: 22128\n"
     ]
    }
   ],
   "source": [
    "count = 0\n",
    "for k in r.keys():\n",
    "    if r.get(k) == 'Japan'.encode():\n",
    "        count += 1\n",
    "print('The number of Japanese:', count)"
   ]
  },
  {
   "cell_type": "markdown",
   "metadata": {},
   "source": [
    "## 63. オブジェクトを値に格納したKVS"
   ]
  },
  {
   "cell_type": "code",
   "execution_count": 4,
   "metadata": {},
   "outputs": [],
   "source": [
    "r2 = redis.Redis(host='localhost', port=6379, db=0)\n",
    "with open('data/artist.json') as reader:\n",
    "    for line in reader:\n",
    "        data = json.loads(line.rstrip())\n",
    "        if 'tags' in data:\n",
    "            tags = json.dumps(data['tags'])\n",
    "            r2.set(data['name'].encode(), tags.encode())"
   ]
  },
  {
   "cell_type": "code",
   "execution_count": 5,
   "metadata": {},
   "outputs": [
    {
     "data": {
      "text/plain": [
       "'[{\"value\": \"rock\", \"count\": 1}, {\"value\": \"britpop\", \"count\": 3}, {\"value\": \"british\", \"count\": 4}, {\"value\": \"uk\", \"count\": 1}, {\"value\": \"britannique\", \"count\": 1}, {\"value\": \"rock and indie\", \"count\": 1}, {\"value\": \"england\", \"count\": 1}, {\"value\": \"manchester\", \"count\": 1}]'"
      ]
     },
     "execution_count": 5,
     "metadata": {},
     "output_type": "execute_result"
    }
   ],
   "source": [
    "r2.get('Oasis'.encode()).decode()"
   ]
  }
 ],
 "metadata": {
  "kernelspec": {
   "display_name": "Python 2",
   "language": "python",
   "name": "python2"
  },
  "language_info": {
   "codemirror_mode": {
    "name": "ipython",
    "version": 2.0
   },
   "file_extension": ".py",
   "mimetype": "text/x-python",
   "name": "python",
   "nbconvert_exporter": "python",
   "pygments_lexer": "ipython2",
   "version": "2.7.6"
  }
 },
 "nbformat": 4,
 "nbformat_minor": 0
}