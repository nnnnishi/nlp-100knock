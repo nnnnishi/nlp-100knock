{
 "cells": [
  {
   "cell_type": "code",
   "execution_count": null,
   "metadata": {
    "collapsed": true
   },
   "outputs": [],
   "source": [
    "# nlp100 chapter8\n",
    "\n",
    "Try:http://www.cl.ecei.tohoku.ac.jp/nlp100"
   ]
  },
  {
   "cell_type": "markdown",
   "metadata": {},
   "source": [
    "## 70. データの入手・整形"
   ]
  },
  {
   "cell_type": "code",
   "execution_count": 19,
   "metadata": {},
   "outputs": [
    {
     "name": "stdout",
     "output_type": "stream",
     "text": [
      "positive:5331 negative:5331\n"
     ]
    }
   ],
   "source": [
    "import codecs\n",
    "import random\n",
    "\n",
    "f_p = codecs.open('data/rt-polaritydata/rt-polarity.pos', 'r', 'cp1252')\n",
    "f_n = codecs.open('data/rt-polaritydata/rt-polarity.neg', 'r', 'cp1252')\n",
    "f_s = codecs.open('data/rt-polaritydata/sentiment.txt', 'w', 'cp1252')\n",
    "\n",
    "with f_p as reader:\n",
    "    pos = [\"+1 \"+line for line in reader]\n",
    "with f_n as reader:\n",
    "    neg = [\"-1 \"+line for line in reader]\n",
    "\n",
    "sentiment = pos + neg\n",
    "random.shuffle(sentiment)\n",
    "[f_s.writelines(line) for line in sentiment]\n",
    "\n",
    "count_pos = 0\n",
    "count_neg = 0\n",
    "for line in sentiment:\n",
    "    token = line.split(' ')\n",
    "    if token[0] == '+1':\n",
    "        count_pos += 1\n",
    "    elif token[0] == '-1':\n",
    "        count_neg += 1\n",
    "print('positive:'+str(count_pos), 'negative:'+str(count_neg))"
   ]
  },
  {
   "cell_type": "markdown",
   "metadata": {},
   "source": [
    "## 71. ストップワード"
   ]
  },
  {
   "cell_type": "code",
   "execution_count": 29,
   "metadata": {},
   "outputs": [
    {
     "name": "stdout",
     "output_type": "stream",
     "text": [
      " 70096\nthe 10097\na 7281\nand 6196\nof 6061\n+1 5331\n-1 5331\nto 4233\nis 3367\nin 2628\nthat 2471\nit 2282\nas 1801\nbut 1638\nwith 1560\nfilm 1445\nthis 1440\nfor 1438\nits 1335\nan 1321\nmovie 1268\nit's 1119\nbe 939\non 895\nyou 892\nnot 803\nby 795\nabout 733\none 727\nmore 727\nlike 720\nhas 709\nare 708\nat 705\nfrom 673\nthan 664\n\" 655\nall 641\n-- 629\nhis 628\nhave 623\nso 555\nif 537\nor 519\nstory 476\ni 466\ntoo 459\njust 438\nwho 432\ninto 417\nwhat 413\nmost 402\nout 398\nno 387\nmuch 386\neven 383\ngood 377\nup 376\nwill 374\ncomedy 353\ntime 339\ncan 337\nsome 334\ncharacters 313\nonly 308\nlittle 302\nway 296\ntheir 292\nfunny 283\nmake 278\nenough 267\nbeen 266\nvery 265\nyour 264\nnever 262\nwhen 262\nmakes 252\nthere 250\nmay 245\nwhich 241\nus 241\nwork 236\nbest 235\nhe 234\nbad 233\ndoesn't 232\ndirector 231\n) 229\n( 227\n? 227\nany 227\nlove 224\nwould 222\nlife 221\nwhile 219\nthey 219\nwe 217\nwas 216\nthere's 209\nmovies 208\n"
     ]
    }
   ],
   "source": [
    "import codecs\n",
    "import re\n",
    "from collections import Counter\n",
    "\n",
    "f_s = codecs.open('data/rt-polaritydata/sentiment.txt', 'r', 'cp1252')\n",
    "words = []\n",
    "\n",
    "for line in f_s:\n",
    "    words = words + re.compile(r'[,.:;\\s]').split(line)\n",
    "\n",
    "counter = Counter(words)\n",
    "[print(word, count) for word, count in counter.most_common(100)]\n",
    "stopwords = [word for word, count in counter.most_common(100)]\n",
    "remove_words = ['-1', '+1', 'good', 'bad', 'funny', 'best', 'love']\n",
    "\n",
    "for w in remove_words:\n",
    "    stopwords.remove(w)\n",
    "\n",
    "with codecs.open('data/rt-polaritydata/stopwords.txt', 'w', 'cp1252') as writer:\n",
    "    for w in stopwords:\n",
    "        writer.write(w+'\\n')"
   ]
  },
  {
   "cell_type": "code",
   "execution_count": 28,
   "metadata": {},
   "outputs": [
    {
     "name": "stdout",
     "output_type": "stream",
     "text": [
      "movie True\nbob False\n"
     ]
    }
   ],
   "source": [
    "# 引数に与えられた単語（文字列）がストップリストに含まれている場合は真，\n",
    "# それ以外は偽を返す関数を実装せよ．さらに，その関数に対するテストを記述せよ．\n",
    "\n",
    "\n",
    "def check_stopwords(word):\n",
    "    with codecs.open('data/rt-polaritydata/stopwords.txt', 'r', 'cp1252') as reader:\n",
    "        stopwords = [line.rstrip() for line in reader]\n",
    "    return True if word in stopwords else False\n",
    "\n",
    "word = 'movie'\n",
    "print(word, check_stopwords(word))\n",
    "word = 'bob'\n",
    "print(word, check_stopwords(word))"
   ]
  },
  {
   "cell_type": "markdown",
   "metadata": {},
   "source": [
    "## 72. 素性抽出"
   ]
  },
  {
   "cell_type": "code",
   "execution_count": 35,
   "metadata": {},
   "outputs": [],
   "source": [
    "from nltk import stem\n",
    "\n",
    "\n",
    "def checkstopwords(word, stopwords):\n",
    "    return True if word in stopwords else False\n",
    "\n",
    "stopwords = []\n",
    "features = []\n",
    "\n",
    "lemmatizer = stem.WordNetLemmatizer()\n",
    "\n",
    "with codecs.open('data/rt-polaritydata/stopwords.txt', 'r', 'cp1252') as reader:\n",
    "    stopwords = [line.rstrip() for line in reader]\n",
    "\n",
    "with codecs.open('data/72.txt', 'w', 'cp1252') as writer:\n",
    "    with codecs.open('data/rt-polaritydata/sentiment.txt', 'r', 'cp1252') as reader:\n",
    "        for line in reader:\n",
    "            string = re.compile(r'[,.:;\\s]').split(line)\n",
    "            for word in string:\n",
    "                if not checkstopwords(word, stopwords):\n",
    "                    feature = lemmatizer.lemmatize(word)\n",
    "                    features.append(feature)\n",
    "            line = \" \".join(features) + \"\\n\"\n",
    "            writer.writelines(line)\n",
    "            features = []"
   ]
  },
  {
   "cell_type": "markdown",
   "metadata": {},
   "source": [
    "## 73. 学習"
   ]
  },
  {
   "cell_type": "code",
   "execution_count": 48,
   "metadata": {},
   "outputs": [
    {
     "data": {
      "text/plain": [
       "LogisticRegression(C=0.001, class_weight=None, dual=False, fit_intercept=True,\n          intercept_scaling=1, max_iter=100, multi_class='ovr', n_jobs=1,\n          penalty='l2', random_state=None, solver='liblinear', tol=0.0001,\n          verbose=0, warm_start=False)"
      ]
     },
     "execution_count": 48,
     "metadata": {},
     "output_type": "execute_result"
    }
   ],
   "source": [
    "import codecs\n",
    "import pandas as pd\n",
    "import numpy as np\n",
    "from sklearn.preprocessing import StandardScaler\n",
    "from sklearn.linear_model import LogisticRegression\n",
    "\n",
    "# make feature\n",
    "feature = {}\n",
    "with codecs.open('data/72.txt', 'r', 'cp1252') as reader:\n",
    "    for line in reader:\n",
    "        token = line.rstrip().split(' ')\n",
    "        for w in token[1:]:\n",
    "            feature.setdefault(w, 0)\n",
    "            feature[w] += 1\n",
    "\n",
    "# delete minor features\n",
    "del_list = []\n",
    "for k in feature:\n",
    "    if feature[k] < 6:\n",
    "        del_list.append(k)\n",
    "\n",
    "for k in del_list:\n",
    "    del feature[k]\n",
    "\n",
    "with codecs.open('data/72.txt', 'r', 'cp1252') as reader:\n",
    "    include_words = []\n",
    "    for line in reader:\n",
    "        token = line.rstrip().split(' ')\n",
    "        l = []\n",
    "        for w in token[1:]:\n",
    "            if w in set(feature):\n",
    "                l.append(w)\n",
    "        include_words.append(tuple(l))\n",
    "\n",
    "# output features\n",
    "df = pd.Series(include_words, name='words')\n",
    "df.str.join(sep='*').str.get_dummies(sep='*').to_csv('data/73_feature.csv', header=None, index=None)\n",
    "\n",
    "# output answer\n",
    "with open('data/73_answer.csv', 'w') as writer:\n",
    "    with codecs.open('data/72.txt', 'r', 'cp1252') as reader:\n",
    "        for line in reader:\n",
    "            token = line.split(' ')\n",
    "            if token[0] == '+1':\n",
    "                writer.write('1\\n')\n",
    "            else:\n",
    "                writer.write('0\\n')\n",
    "                             \n",
    "# input training data  \n",
    "X = np.loadtxt('data/73_feature.csv', delimiter=',')\n",
    "\n",
    "# input test data\n",
    "y = np.loadtxt('data/73_answer.csv', delimiter=',')    \n",
    "\n",
    "# scaling training data\n",
    "sc = StandardScaler()\n",
    "sc.fit(X)\n",
    "X_scale = sc.transform(X)\n",
    "\n",
    "# learning model\n",
    "lr = LogisticRegression(C=0.001)\n",
    "lr.fit(X_scale, y)"
   ]
  },
  {
   "cell_type": "markdown",
   "metadata": {},
   "source": [
    "## 74. 予測"
   ]
  },
  {
   "cell_type": "code",
   "execution_count": 49,
   "metadata": {},
   "outputs": [
    {
     "name": "stdout",
     "output_type": "stream",
     "text": [
      "predict:+1 score:0.560352688885 +1 some people march to the beat of a different drum , and if you ever wondered what kind of houses those people live in , this documentary takes a look at 5 alternative housing options .\npredict:+1 score:0.506925305449 +1 williams plays sy , another of his open-faced , smiling madmen , like the killer in insomnia . he does this so well you don't have the slightest difficulty accepting him in the role .\npredict:+1 score:0.519921751279 +1 manages to please its intended audience -- children -- without placing their parents in a coma-like state .\npredict:-1 score:0.491751635853 -1 if jews were catholics , this would be catechism\npredict:-1 score:0.493362578517 -1 it's crap on a leash--far too polite to scale the lunatic heights of joe dante's similarly styled gremlins .\npredict:-1 score:0.489767839776 +1 if nothing else , this movie introduces a promising , unusual kind of psychological horror .\n"
     ]
    }
   ],
   "source": [
    "y_pred = lr.predict_proba(X)\n",
    "count = 0\n",
    "with codecs.open('data/rt-polaritydata/sentiment.txt', 'r', 'cp1252') as reader:\n",
    "    for line in reader:\n",
    "        if y_pred[count][1] > 0.5:\n",
    "            print('predict:+1','score:'+str(y_pred[count][1]), line.rstrip())\n",
    "        else:\n",
    "            print('predict:-1','score:'+str(y_pred[count][1]), line.rstrip())\n",
    "        count += 1\n",
    "        if count > 5: break"
   ]
  },
  {
   "cell_type": "markdown",
   "metadata": {},
   "source": [
    "## 75. 素性の重み"
   ]
  },
  {
   "cell_type": "code",
   "execution_count": 50,
   "metadata": {},
   "outputs": [
    {
     "name": "stdout",
     "output_type": "stream",
     "text": [
      "Positive feature\n['entertaining', 0.092834972429215609]\n['performance', 0.083976096110303239]\n['enjoyable', 0.078251399413405087]\n['powerful', 0.078014285748017706]\n['best', 0.075114311647993051]\n['wonderful', 0.073297562947856429]\n['fun', 0.072016718575160718]\n['engrossing', 0.069891139775250938]\n['funny', 0.067300795619410589]\n['still', 0.063237359104859739]\n['cinema', 0.06268318384304343]\nNegative feature\n['bad', -0.10143438123029441]\n['dull', -0.092624081227884583]\n['boring', -0.082973325269830672]\n['fails', -0.078295325961009479]\n['worst', -0.072069956275299399]\n['lack', -0.071468726755713141]\n['flat', -0.066471221410403056]\n['bore', -0.064793454317475088]\n['neither', -0.062474782192893881]\n['waste', -0.06214003535017408]\n['mess', -0.062122754923324294]\n"
     ]
    }
   ],
   "source": [
    "features = list(df.str.join(sep='*').str.get_dummies(sep='*').columns.values)\n",
    "feature_score = [[f, score] for f,score in zip(features, lr.coef_[0])]\n",
    "\n",
    "print('Positive feature')\n",
    "count = 0\n",
    "for x in sorted(feature_score, key=lambda x:x[1], reverse=True):\n",
    "    print(x)\n",
    "    count += 1\n",
    "    if count > 10:\n",
    "        break\n",
    "print('Negative feature')\n",
    "count = 0\n",
    "for x in sorted(feature_score, key=lambda x:x[1]):\n",
    "    print(x)\n",
    "    count += 1\n",
    "    if count > 10:\n",
    "        break"
   ]
  },
  {
   "cell_type": "markdown",
   "metadata": {},
   "source": [
    "## 76. ラベル付け"
   ]
  },
  {
   "cell_type": "code",
   "execution_count": 106,
   "metadata": {},
   "outputs": [],
   "source": [
    "y_pred = lr.predict_proba(X)\n",
    "count = 0\n",
    "with open('data/76.tsv', 'w') as writer:\n",
    "    with codecs.open('data/rt-polaritydata/sentiment.txt', 'r', 'cp1252') as reader:\n",
    "        for line in reader:\n",
    "            if y_pred[count][1] > 0.5:\n",
    "                writer.write('\\t'.join([line.split(' ')[0], '+1',str(y_pred[count][1])])+'\\n')\n",
    "            else:\n",
    "                writer.write('\\t'.join([line.split(' ')[0], '-1',str(y_pred[count][0])])+'\\n')\n",
    "            count += 1"
   ]
  },
  {
   "cell_type": "markdown",
   "metadata": {},
   "source": [
    "## 77. 正解率の計測"
   ]
  },
  {
   "cell_type": "code",
   "execution_count": 108,
   "metadata": {},
   "outputs": [
    {
     "name": "stdout",
     "output_type": "stream",
     "text": [
      "precision: 0.665597330938\nrecall: 0.97298818233\nf1_score: 0.790460225541\n"
     ]
    }
   ],
   "source": [
    "from sklearn.metrics import precision_score\n",
    "from sklearn.metrics import recall_score\n",
    "from sklearn.metrics import f1_score\n",
    "\n",
    "y_true = []\n",
    "y_pred = []\n",
    "with open('data/76.tsv') as reader:\n",
    "    for line in reader:\n",
    "        token = line.split('\\t')\n",
    "        if token[0] == '+1':\n",
    "            y_true.append(1)\n",
    "        else:\n",
    "            y_true.append(0)\n",
    "        if token[1] == '+1':\n",
    "            y_pred.append(1)\n",
    "        else:\n",
    "            y_pred.append(0)\n",
    "print('precision:', precision_score(y_true, y_pred))\n",
    "print('recall:', recall_score(y_true, y_pred))\n",
    "print('f1_score:', f1_score(y_true, y_pred))"
   ]
  },
  {
   "cell_type": "markdown",
   "metadata": {},
   "source": [
    "## 78. 5分割交差検定"
   ]
  },
  {
   "cell_type": "code",
   "execution_count": 44,
   "metadata": {},
   "outputs": [
    {
     "name": "stdout",
     "output_type": "stream",
     "text": [
      "accuracy: 0.743553680263\nprecision: 0.752390057361\nrecall: 0.732093023256\nf1_score: 0.742102781707\n"
     ]
    }
   ],
   "source": [
    "from sklearn.model_selection import train_test_split\n",
    "from sklearn.metrics import accuracy_score\n",
    "\n",
    "y_pred = []\n",
    "\n",
    "X_train, X_test, y_train, y_test = train_test_split(X_scale, y, test_size=0.2, random_state=1)\n",
    "\n",
    "lr = LogisticRegression(C=0.001)\n",
    "lr.fit(X_train, y_train)\n",
    "scores = lr.predict_proba(X_test)\n",
    "y_true = y_test\n",
    "\n",
    "for i in range(len(y_true)):\n",
    "    if scores[i][1] > 0.5:\n",
    "        y_pred.append(1)\n",
    "    else:\n",
    "        y_pred.append(0)\n",
    "        \n",
    "print('accuracy:', accuracy_score(y_true, y_pred))\n",
    "print('precision:', precision_score(y_true, y_pred))\n",
    "print('recall:', recall_score(y_true, y_pred))\n",
    "print('f1_score:', f1_score(y_true, y_pred))"
   ]
  },
  {
   "cell_type": "markdown",
   "metadata": {},
   "source": [
    "## 79. 適合率-再現率グラフの描画"
   ]
  },
  {
   "cell_type": "code",
   "execution_count": 45,
   "metadata": {},
   "outputs": [
    {
     "data": {
      "image/png": "[encoded data removed]",
      "text/plain": [
       "<matplotlib.figure.Figure at 0x1050b6a90>"
      ]
     },
     "metadata": {},
     "output_type": "display_data"
    }
   ],
   "source": [
    "%matplotlib inline\n",
    "import matplotlib.pyplot as plt\n",
    "import matplotlib.font_manager as fm\n",
    "\n",
    "thresholds = []\n",
    "precision = []\n",
    "recall = []\n",
    "\n",
    "for threshold in range(5, 96):\n",
    "    y_pred = []\n",
    "    \n",
    "    for i in range(len(y_true)):\n",
    "        if scores[i][1] > threshold * 0.01:\n",
    "            y_pred.append(1)\n",
    "        else:\n",
    "            y_pred.append(0)\n",
    "            \n",
    "    thresholds.append(threshold * 0.01)\n",
    "    precision.append(precision_score(y_true, y_pred))\n",
    "    recall.append(recall_score(y_true, y_pred))\n",
    "\n",
    "plt.plot(thresholds, precision, label=\"precision\", color=\"red\")\n",
    "plt.plot(thresholds, recall, label=\"recall\", color=\"blue\")\n",
    "\n",
    "plt.xlabel(\"threshold\")\n",
    "plt.ylabel(\"rate\")\n",
    "plt.xlim(0, 1)\n",
    "plt.ylim(0, 1)\n",
    "plt.title(\"Logistic Regression\")\n",
    "plt.legend(loc = 3)\n",
    "\n",
    "plt.show()"
   ]
  },
  {
   "cell_type": "code",
   "execution_count": 46,
   "metadata": {},
   "outputs": [
    {
     "data": {
      "text/plain": [
       "array([[ 0.03838159,  0.96161841],\n       [ 0.15479446,  0.84520554],\n       [ 0.80338249,  0.19661751],\n       ..., \n       [ 0.85163518,  0.14836482],\n       [ 0.45942007,  0.54057993],\n       [ 0.47381614,  0.52618386]])"
      ]
     },
     "execution_count": 46,
     "metadata": {},
     "output_type": "execute_result"
    }
   ],
   "source": [
    "scores"
   ]
  },
  {
   "cell_type": "code",
   "execution_count": 5,
   "metadata": {},
   "outputs": [],
   "source": [
    "# input training data  \n",
    "X = np.loadtxt('data/73_feature.csv', delimiter=',')\n",
    "\n",
    "# input test data\n",
    "y = np.loadtxt('data/73_answer.csv', delimiter=',')    \n",
    "\n",
    "# scaling training data\n",
    "sc = StandardScaler()\n",
    "sc.fit(X)\n",
    "X_scale = sc.transform(X)"
   ]
  },
  {
   "cell_type": "code",
   "execution_count": 7,
   "metadata": {},
   "outputs": [
    {
     "ename": "ValueError",
     "evalue": "The truth value of an array with more than one element is ambiguous. Use a.any() or a.all()",
     "traceback": [
      "\u001b[0;31m\u001b[0m",
      "\u001b[0;31mValueError\u001b[0mTraceback (most recent call last)",
      "\u001b[0;32m<ipython-input-7-d7fe30df7160>\u001b[0m in \u001b[0;36m<module>\u001b[0;34m()\u001b[0m\n\u001b[1;32m      8\u001b[0m         \u001b[0;32melse\u001b[0m\u001b[0;34m:\u001b[0m\u001b[0;34m\u001b[0m\u001b[0m\n\u001b[1;32m      9\u001b[0m             \u001b[0my_true\u001b[0m\u001b[0;34m.\u001b[0m\u001b[0mappend\u001b[0m\u001b[0;34m(\u001b[0m\u001b[0;36m0\u001b[0m\u001b[0;34m)\u001b[0m\u001b[0;34m\u001b[0m\u001b[0m\n\u001b[0;32m---> 10\u001b[0;31m         \u001b[0;32mif\u001b[0m \u001b[0mscores\u001b[0m \u001b[0;34m>\u001b[0m \u001b[0;36m0.5\u001b[0m\u001b[0;34m:\u001b[0m\u001b[0;34m\u001b[0m\u001b[0m\n\u001b[0m\u001b[1;32m     11\u001b[0m             \u001b[0my_pred\u001b[0m\u001b[0;34m.\u001b[0m\u001b[0mappend\u001b[0m\u001b[0;34m(\u001b[0m\u001b[0;36m1\u001b[0m\u001b[0;34m)\u001b[0m\u001b[0;34m\u001b[0m\u001b[0m\n\u001b[1;32m     12\u001b[0m         \u001b[0;32melse\u001b[0m\u001b[0;34m:\u001b[0m\u001b[0;34m\u001b[0m\u001b[0m\n",
      "\u001b[0;31mValueError\u001b[0m: The truth value of an array with more than one element is ambiguous. Use a.any() or a.all()"
     ],
     "output_type": "error"
    }
   ],
   "source": [
    "y_true = []\n",
    "y_pred = []\n",
    "with open('data/76.tsv') as reader:\n",
    "    for line in reader:\n",
    "        token = line.split('\\t')\n",
    "        if token[0] == '+1':\n",
    "            y_true.append(1)\n",
    "        else:\n",
    "            y_true.append(0)\n",
    "        if scores > 0.5:\n",
    "            y_pred.append(1)\n",
    "        else:\n",
    "            y_pred.append(0)\n",
    "            \n",
    "print('accuracy:', accuracy_score(y_true, y_pred))\n",
    "print('precision:', precision_score(y_true, y_pred))\n",
    "print('recall:', recall_score(y_true, y_pred))\n",
    "print('f1_score:', f1_score(y_true, y_pred))"
   ]
  },
  {
   "cell_type": "code",
   "execution_count": 10,
   "metadata": {},
   "outputs": [],
   "source": [
    "from sklearn.model_selection import train_test_split\n",
    "X_train, X_test, y_train, y_test = train_test_split(X_scale, y, test_size=0.2, random_state=1)"
   ]
  },
  {
   "cell_type": "code",
   "execution_count": 30,
   "metadata": {},
   "outputs": [
    {
     "name": "stdout",
     "output_type": "stream",
     "text": [
      "accuracy: 0.665260196906\nprecision: 0.666975023127\nrecall: 0.670697674419\nf1_score: 0.668831168831\n"
     ]
    }
   ],
   "source": [
    "from sklearn.metrics import precision_score\n",
    "from sklearn.metrics import recall_score\n",
    "from sklearn.metrics import f1_score\n",
    "\n",
    "y_pred = []\n",
    "for i in range(len(y_true)):\n",
    "    if scores[i][1] > 0.5:\n",
    "        y_pred.append(1)\n",
    "    else:\n",
    "        y_pred.append(0)\n",
    "        \n",
    "print('accuracy:', accuracy_score(y_true, y_pred))\n",
    "print('precision:', precision_score(y_true, y_pred))\n",
    "print('recall:', recall_score(y_true, y_pred))\n",
    "print('f1_score:', f1_score(y_true, y_pred))"
   ]
  },
  {
   "cell_type": "code",
   "execution_count": 32,
   "metadata": {},
   "outputs": [
    {
     "data": {
      "text/plain": [
       "array([ 1.,  1.,  0., ...,  0.,  0.,  1.])"
      ]
     },
     "execution_count": 32,
     "metadata": {},
     "output_type": "execute_result"
    }
   ],
   "source": [
    "y_true"
   ]
  }
 ],
 "metadata": {
  "kernelspec": {
   "display_name": "Python 2",
   "language": "python",
   "name": "python2"
  },
  "language_info": {
   "codemirror_mode": {
    "name": "ipython",
    "version": 2.0
   },
   "file_extension": ".py",
   "mimetype": "text/x-python",
   "name": "python",
   "nbconvert_exporter": "python",
   "pygments_lexer": "ipython2",
   "version": "2.7.6"
  }
 },
 "nbformat": 4,
 "nbformat_minor": 0
}