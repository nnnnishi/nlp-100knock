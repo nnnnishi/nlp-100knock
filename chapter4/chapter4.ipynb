{
 "cells": [
  {
   "cell_type": "markdown",
   "metadata": {
    "collapsed": true
   },
   "source": [
    "# nlp100 chapter4\n",
    "\n",
    "Try:http://www.cl.ecei.tohoku.ac.jp/nlp100"
   ]
  },
  {
   "cell_type": "markdown",
   "metadata": {},
   "source": [
    "## 30. 形態素解析結果の読み込み\n",
    "reference:http://qiita.com/taroc/items/b9afd914432da08dafc8"
   ]
  },
  {
   "cell_type": "code",
   "execution_count": 1,
   "metadata": {
    "collapsed": false
   },
   "outputs": [],
   "source": [
    "%matplotlib inline\n",
    "import os\n",
    "import sys\n",
    "import re\n",
    "import MeCab\n",
    "import ngram\n",
    "import numpy as np\n",
    "import pandas as pd\n",
    "import matplotlib\n",
    "import matplotlib.pyplot as plt\n",
    "from matplotlib.font_manager import FontProperties\n",
    "os.chdir('../../nnnnishi/nlp-100knock')"
   ]
  },
  {
   "cell_type": "code",
   "execution_count": 2,
   "metadata": {},
   "outputs": [],
   "source": [
    "def to_mecab(input_file, output_file):\n",
    "    mecab = MeCab.Tagger ('-d /usr/local/lib/mecab/dic/mecab-ipadic-neologd')\n",
    "    with open(input_file) as reader:\n",
    "        with open(output_file, 'w') as writer:\n",
    "            writer.write(mecab.parse(reader.read()))\n",
    "\n",
    "to_mecab('data/neko.txt', 'data/neko.txt.mecab')"
   ]
  },
  {
   "cell_type": "code",
   "execution_count": 3,
   "metadata": {},
   "outputs": [
    {
     "name": "stdout",
     "output_type": "stream",
     "text": [
      "[[{'pos': '名詞', 'base': '一', 'pos1': '数', 'surface': '一'}, {'pos': '記号', 'base': '\\u3000', 'pos1': '空白', 'surface': '\\u3000'}, {'pos': '名詞', 'base': '吾輩は猫である', 'pos1': '固有名詞', 'surface': '吾輩は猫である'}, {'pos': '記号', 'base': '。', 'pos1': '句点', 'surface': '。'}], [{'pos': '名詞', 'base': '名前', 'pos1': '一般', 'surface': '名前'}, {'pos': '助詞', 'base': 'は', 'pos1': '係助詞', 'surface': 'は'}, {'pos': '副詞', 'base': 'まだ', 'pos1': '助詞類接続', 'surface': 'まだ'}, {'pos': '形容詞', 'base': '無い', 'pos1': '自立', 'surface': '無い'}, {'pos': '記号', 'base': '。', 'pos1': '句点', 'surface': '。'}]]\n"
     ]
    }
   ],
   "source": [
    "def get_morphemes(line):\n",
    "    m_dic = {}\n",
    "    line = re.sub(r\"\\t\", \",\", line)\n",
    "    token = re.split(\",\", line)\n",
    "    if len(token) > 7:\n",
    "        m_dic['surface'] = token[0]\n",
    "        m_dic['base'] = token[7]\n",
    "        m_dic['pos'] = token[1]\n",
    "        m_dic['pos1'] = token[2]\n",
    "    else:\n",
    "        m_dic['surface'] = token[0]\n",
    "        m_dic['base'] = ''\n",
    "        m_dic['pos'] = ''\n",
    "        m_dic['pos1'] = ''\n",
    "    return m_dic\n",
    "\n",
    "\n",
    "def morphemes_to_sentence(morphemes):\n",
    "\n",
    "    sentences = []\n",
    "    sentence = []\n",
    "    for morpheme in morphemes:\n",
    "        sentence.append(morpheme)\n",
    "        if morpheme['pos1'] == '句点':\n",
    "            sentences.append(sentence)\n",
    "            sentence = []\n",
    "\n",
    "    return sentences\n",
    "\n",
    "f = os.path.join('data', 'neko.txt.mecab')\n",
    "with open(f) as reader:\n",
    "    ms = [get_morphemes(line) for line in reader]\n",
    "\n",
    "results = morphemes_to_sentence(ms)\n",
    "print(results[0:2])"
   ]
  },
  {
   "cell_type": "markdown",
   "metadata": {},
   "source": [
    "## 31. 動詞"
   ]
  },
  {
   "cell_type": "code",
   "execution_count": 4,
   "metadata": {},
   "outputs": [
    {
     "name": "stdout",
     "output_type": "stream",
     "text": [
      "['生れ', 'つか', '泣い', 'し', 'いる', '始め', '見', '聞く', '捕え', '煮']\n"
     ]
    }
   ],
   "source": [
    "def get_verb1(file):\n",
    "    with open(file) as reader:\n",
    "        l =[]\n",
    "        for line in reader:\n",
    "            line = re.sub(r\"\\t\", \",\", line)\n",
    "            token = re.split(\",\", line)\n",
    "            if len(token) > 7:\n",
    "                surface = token[0]\n",
    "                pos = token[1]\n",
    "                if pos == '動詞':\n",
    "                    l.append(surface)    \n",
    "    return l\n",
    "\n",
    "f = os.path.join('data', 'neko.txt.mecab')\n",
    "results = get_verb1(f)\n",
    "\n",
    "print(results[0:10])"
   ]
  },
  {
   "cell_type": "markdown",
   "metadata": {},
   "source": [
    "## 32. 動詞の原形"
   ]
  },
  {
   "cell_type": "code",
   "execution_count": 5,
   "metadata": {},
   "outputs": [
    {
     "name": "stdout",
     "output_type": "stream",
     "text": [
      "['生れる', 'つく', '泣く', 'する', 'いる', '始める', '見る', '聞く', '捕える', '煮る']\n"
     ]
    }
   ],
   "source": [
    "def get_verb2(file):\n",
    "    with open(file) as reader:\n",
    "        l =[]\n",
    "        for line in reader:\n",
    "            line = re.sub(r\"\\t\", \",\", line)\n",
    "            token = re.split(\",\", line)\n",
    "            if len(token) > 7:\n",
    "                base = token[7]\n",
    "                pos = token[1]\n",
    "                if pos == '動詞':\n",
    "                    l.append(base)    \n",
    "    return l\n",
    "\n",
    "\n",
    "f = os.path.join('data', 'neko.txt.mecab')\n",
    "results = get_verb2(f)\n",
    "\n",
    "print(results[0:10])"
   ]
  },
  {
   "cell_type": "markdown",
   "metadata": {},
   "source": [
    "## 33. サ変名詞"
   ]
  },
  {
   "cell_type": "code",
   "execution_count": 6,
   "metadata": {},
   "outputs": [
    {
     "name": "stdout",
     "output_type": "stream",
     "text": [
      "['見当', '記憶', 'そうだ', '話', '装飾', '突起', '運転', '記憶', 'ようやく', '分別']\n"
     ]
    }
   ],
   "source": [
    "def get_sahen_connect_noun(file):\n",
    "    with open(file) as reader:\n",
    "        l =[]\n",
    "        for line in reader:\n",
    "            line = re.sub(r\"\\t\", \",\", line)\n",
    "            token = re.split(\",\", line)\n",
    "            if len(token) > 7:\n",
    "                surface = token[0]\n",
    "                pos = token[1]\n",
    "                pos1 = token[2]\n",
    "                if pos == '名詞' and pos1 == 'サ変接続':\n",
    "                    l.append(surface)    \n",
    "    return l\n",
    "\n",
    "\n",
    "f = os.path.join('data', 'neko.txt.mecab')\n",
    "results = get_sahen_connect_noun(f)\n",
    "\n",
    "print(results[0:10])"
   ]
  },
  {
   "cell_type": "markdown",
   "metadata": {},
   "source": [
    "## 34. 「AのB」"
   ]
  },
  {
   "cell_type": "code",
   "execution_count": 7,
   "metadata": {},
   "outputs": [
    {
     "name": "stdout",
     "output_type": "stream",
     "text": [
      "['彼の掌', '掌の上', '書生の顔', 'はずの顔', '顔の真中', '穴の中', '書生の掌', '掌の裏', '何の事', '肝心の母親']\n"
     ]
    }
   ],
   "source": [
    "def get_morphemes(line):\n",
    "    m_dic = {}\n",
    "    line = re.sub(r\"\\t\", \",\", line)\n",
    "    token = re.split(\",\", line)\n",
    "    if len(token) > 7:\n",
    "        m_dic['surface'] = token[0]\n",
    "        m_dic['base'] = token[7]\n",
    "        m_dic['pos'] = token[1]\n",
    "        m_dic['pos1'] = token[2]\n",
    "    else:\n",
    "        m_dic['surface'] = token[0]\n",
    "        m_dic['base'] = ''\n",
    "        m_dic['pos'] = ''\n",
    "        m_dic['pos1'] = ''\n",
    "    return m_dic\n",
    "\n",
    "f = os.path.join('data', 'neko.txt.mecab')\n",
    "results = []\n",
    "with open(f) as reader:\n",
    "    ms = [get_morphemes(line) for line in reader]\n",
    "    for i in range(len(ms)-2):\n",
    "        if ms[i]['pos'] == '名詞':\n",
    "            if ms[i+1]['surface'] == 'の':\n",
    "                if ms[i+2]['pos'] == '名詞':\n",
    "                    results.append(''.join([ms[j]['surface'] for j in range(i, i+3)]))\n",
    "print(results[0:10])"
   ]
  },
  {
   "cell_type": "markdown",
   "metadata": {},
   "source": [
    "## 35. 名詞の連接"
   ]
  },
  {
   "cell_type": "code",
   "execution_count": 8,
   "metadata": {},
   "outputs": [
    {
     "name": "stdout",
     "output_type": "stream",
     "text": [
      "['した所', '人間中', '一番獰悪', '時妙', '一毛', 'その後猫', '一度', '邸内', '書生以外', '四五遍', 'この間おさん', '三馬', '御台所', 'まま奥', '終日書斎', '勉強家', '勉強家', '勤勉家', '二三ページ', '主人以外', '限り吾輩', '朝主人', '一番心持', '一つ床', '吾輩はいつ', '最後大変', '神経胃弱性', '言語同断', 'しようもの', '家内総がかり', '筋向', '白君', '度毎', '白君', '先日玉', '四疋', '三日目', '四疋', '白君', '我等猫族', '家族的生活', '三毛君', '我々同族間', '一番先', 'もし相手', '彼等人間', '我等', '吾人', '白君', '三毛君', 'いくら人間', 'いって人', '間違いだらけ', '後架先生', 'にも関', '月給日', '毎日毎日書斎', '人の', '自ら筆', '眼鏡越', '一室内', '以太利', '大家アンドレア・デル・サルト', '自然その物', '露華', '寒鴉', 'これ一幅', '活画', '翌日吾輩', '出て心持', '辛棒', '今吾輩', '今吾輩', '波斯産', 'ただ一種', '上不思議', '盲猫', '心中ひそか', 'あと大', '打ち壊わし', '辛棒した人', '馬鹿野郎呼わり', '平生吾輩', '元来人間', 'みんな増長', '先どこ', '数倍', '十坪', '腹加減', '吾輩はいつ', '出て浩然の気', '穏かな日', '二時頃', '昼飯後', '運動かたがた', '一本一本', '心付く', '横えて', '庭内', '忍び入り']\n"
     ]
    }
   ],
   "source": [
    "def get_morphemes(line):\n",
    "    m_dic = {}\n",
    "    line = re.sub(r\"\\t\", \",\", line)\n",
    "    token = re.split(\",\", line)\n",
    "    if len(token) > 7:\n",
    "        m_dic['surface'] = token[0]\n",
    "        m_dic['base'] = token[7]\n",
    "        m_dic['pos'] = token[1]\n",
    "        m_dic['pos1'] = token[2]\n",
    "    else:\n",
    "        m_dic['surface'] = token[0]\n",
    "        m_dic['base'] = ''\n",
    "        m_dic['pos'] = ''\n",
    "        m_dic['pos1'] = ''\n",
    "    return m_dic\n",
    "\n",
    "f = os.path.join('data', 'neko.txt.mecab')\n",
    "results = []\n",
    "continuous_noun = []\n",
    "with open(f) as reader:\n",
    "    ms = [get_morphemes(line) for line in reader]\n",
    "    for i in range(len(ms)):\n",
    "        if ms[i]['pos'] == '名詞':\n",
    "            continuous_noun.append(ms[i]['surface'])\n",
    "        if len(continuous_noun) > 1 and ms[i]['pos'] != '名詞':\n",
    "            results.append(''.join(continuous_noun))\n",
    "            continuous_noun = []\n",
    "        if ms[i]['pos'] != '名詞':\n",
    "            continuous_noun = []\n",
    "\n",
    "print(results[0:100])"
   ]
  },
  {
   "cell_type": "markdown",
   "metadata": {},
   "source": [
    "## 36. 単語の出現頻度"
   ]
  },
  {
   "cell_type": "code",
   "execution_count": 9,
   "metadata": {},
   "outputs": [
    {
     "name": "stdout",
     "output_type": "stream",
     "text": [
      "の 9113\n。 7484\n、 6772\nて 6703\nは 6370\nに 6191\nを 6069\nと 5483\nが 5261\nた 3915\nで 3793\n"
     ]
    }
   ],
   "source": [
    "def get_morphemes(line):\n",
    "    m_dic = {}\n",
    "    line = re.sub(r\"\\t\", \",\", line)\n",
    "    token = re.split(\",\", line)\n",
    "    if len(token) > 7:\n",
    "        m_dic['surface'] = token[0]\n",
    "        m_dic['base'] = token[7]\n",
    "        m_dic['pos'] = token[1]\n",
    "        m_dic['pos1'] = token[2]\n",
    "    else:\n",
    "        m_dic['surface'] = token[0]\n",
    "        m_dic['base'] = ''\n",
    "        m_dic['pos'] = ''\n",
    "        m_dic['pos1'] = ''\n",
    "    return m_dic\n",
    "\n",
    "f = os.path.join('data', 'neko.txt.mecab')\n",
    "word2count = {}\n",
    "with open(f) as reader:\n",
    "    ms = [get_morphemes(line) for line in reader]\n",
    "    for i in range(len(ms)):\n",
    "        word2count.setdefault(ms[i]['surface'], 0)\n",
    "        word2count[ms[i]['surface']] += 1\n",
    "\n",
    "count = 0\n",
    "for k, v in sorted(word2count.items(), key=lambda x:x[1], reverse = True):\n",
    "    print(k, v)\n",
    "    count += 1\n",
    "    if count > 10:\n",
    "        break"
   ]
  },
  {
   "cell_type": "markdown",
   "metadata": {},
   "source": [
    "## 37. 頻度上位10語"
   ]
  },
  {
   "cell_type": "code",
   "execution_count": 10,
   "metadata": {},
   "outputs": [
    {
     "data": {
      "text/plain": [
       "<matplotlib.axes._subplots.AxesSubplot at 0x11b945208>"
      ]
     },
     "execution_count": 10,
     "metadata": {},
     "output_type": "execute_result"
    },
    {
     "data": {
      "image/png": "[encoded data removed]",
      "text/plain": [
       "<matplotlib.figure.Figure at 0x113e36908>"
      ]
     },
     "metadata": {},
     "output_type": "display_data"
    }
   ],
   "source": [
    "def get_morphemes(line):\n",
    "    m_dic = {}\n",
    "    line = re.sub(r\"\\t\", \",\", line)\n",
    "    token = re.split(\",\", line)\n",
    "    if len(token) > 7:\n",
    "        m_dic['surface'] = token[0]\n",
    "        m_dic['base'] = token[7]\n",
    "        m_dic['pos'] = token[1]\n",
    "        m_dic['pos1'] = token[2]\n",
    "    else:\n",
    "        m_dic['surface'] = token[0]\n",
    "        m_dic['base'] = ''\n",
    "        m_dic['pos'] = ''\n",
    "        m_dic['pos1'] = ''\n",
    "    return m_dic\n",
    "\n",
    "        \n",
    "font = {'family' : 'Osaka'}\n",
    "matplotlib.rc('font', **font)\n",
    "f = os.path.join('data', 'neko.txt.mecab')\n",
    "word2count = {}\n",
    "with open(f) as reader:\n",
    "    ms = [get_morphemes(line) for line in reader]\n",
    "    for i in range(len(ms)):\n",
    "        word2count.setdefault(ms[i]['surface'], 0)\n",
    "        word2count[ms[i]['surface']] += 1\n",
    "freq_words = [] \n",
    "count = 0\n",
    "for k, v in sorted(word2count.items(), key=lambda x:x[1], reverse = True):\n",
    "    count += 1\n",
    "    freq_words.append([k, v])\n",
    "    if count > 9:\n",
    "        break\n",
    "\n",
    "df = pd.DataFrame(freq_words, index=None, columns=['Word', 'Frequency'])\n",
    "df.plot.bar(x='Word',y='Frequency')"
   ]
  },
  {
   "cell_type": "markdown",
   "metadata": {},
   "source": [
    "## 38. ヒストグラム"
   ]
  },
  {
   "cell_type": "code",
   "execution_count": 11,
   "metadata": {},
   "outputs": [
    {
     "data": {
      "text/plain": [
       "<matplotlib.axes._subplots.AxesSubplot at 0x12328ab38>"
      ]
     },
     "execution_count": 11,
     "metadata": {},
     "output_type": "execute_result"
    },
    {
     "data": {
      "image/png": "[encoded data removed]",
      "text/plain": [
       "<matplotlib.figure.Figure at 0x11fd18dd8>"
      ]
     },
     "metadata": {},
     "output_type": "display_data"
    }
   ],
   "source": [
    "def get_morphemes(line):\n",
    "    m_dic = {}\n",
    "    line = re.sub(r\"\\t\", \",\", line)\n",
    "    token = re.split(\",\", line)\n",
    "    if len(token) > 7:\n",
    "        m_dic['surface'] = token[0]\n",
    "        m_dic['base'] = token[7]\n",
    "        m_dic['pos'] = token[1]\n",
    "        m_dic['pos1'] = token[2]\n",
    "    else:\n",
    "        m_dic['surface'] = token[0]\n",
    "        m_dic['base'] = ''\n",
    "        m_dic['pos'] = ''\n",
    "        m_dic['pos1'] = ''\n",
    "    return m_dic\n",
    "\n",
    "        \n",
    "font = {'family' : 'Osaka'}\n",
    "matplotlib.rc('font', **font)\n",
    "f = os.path.join('data', 'neko.txt.mecab')\n",
    "word2count = {}\n",
    "with open(f) as reader:\n",
    "    ms = [get_morphemes(line) for line in reader]\n",
    "    for i in range(len(ms)):\n",
    "        word2count.setdefault(ms[i]['surface'], 0)\n",
    "        word2count[ms[i]['surface']] += 1\n",
    "freq_words = [] \n",
    "count = 0\n",
    "for k, v in sorted(word2count.items(), key=lambda x:x[1], reverse = True):\n",
    "    count += 1\n",
    "    freq_words.append([k, v])\n",
    "\n",
    "df = pd.DataFrame(freq_words, index=None, columns=['Word', 'Frequency'])\n",
    "df = df.groupby(by='Frequency').count()\n",
    "df = df.reset_index(drop=True)\n",
    "df.columns = ['Frequency']\n",
    "index_df = pd.DataFrame(np.arange(1, df.shape[0]+1), columns=['rank'])\n",
    "df = pd.concat([df,index_df],axis=1)\n",
    "df.plot.bar(x='rank',y='Frequency')"
   ]
  },
  {
   "cell_type": "markdown",
   "metadata": {},
   "source": [
    "## 39. Zipfの法則"
   ]
  },
  {
   "cell_type": "code",
   "execution_count": 12,
   "metadata": {},
   "outputs": [
    {
     "data": {
      "text/plain": [
       "<matplotlib.axes._subplots.AxesSubplot at 0x113e383c8>"
      ]
     },
     "execution_count": 12,
     "metadata": {},
     "output_type": "execute_result"
    },
    {
     "data": {
      "image/png": "[encoded data removed]",
      "text/plain": [
       "<matplotlib.figure.Figure at 0x122ff3a58>"
      ]
     },
     "metadata": {},
     "output_type": "display_data"
    }
   ],
   "source": [
    "def get_morphemes(line):\n",
    "    m_dic = {}\n",
    "    line = re.sub(r\"\\t\", \",\", line)\n",
    "    token = re.split(\",\", line)\n",
    "    if len(token) > 7:\n",
    "        m_dic['surface'] = token[0]\n",
    "        m_dic['base'] = token[7]\n",
    "        m_dic['pos'] = token[1]\n",
    "        m_dic['pos1'] = token[2]\n",
    "    else:\n",
    "        m_dic['surface'] = token[0]\n",
    "        m_dic['base'] = ''\n",
    "        m_dic['pos'] = ''\n",
    "        m_dic['pos1'] = ''\n",
    "    return m_dic\n",
    "\n",
    "        \n",
    "font = {'family' : 'Osaka'}\n",
    "matplotlib.rc('font', **font)\n",
    "f = os.path.join('data', 'neko.txt.mecab')\n",
    "word2count = {}\n",
    "with open(f) as reader:\n",
    "    ms = [get_morphemes(line) for line in reader]\n",
    "    for i in range(len(ms)):\n",
    "        word2count.setdefault(ms[i]['surface'], 0)\n",
    "        word2count[ms[i]['surface']] += 1\n",
    "freq_words = [] \n",
    "count = 0\n",
    "for k, v in sorted(word2count.items(), key=lambda x:x[1], reverse = True):\n",
    "    count += 1\n",
    "    freq_words.append([k, v])\n",
    "\n",
    "df = pd.DataFrame(freq_words, index=None, columns=['Word', 'Frequency'])\n",
    "df.head()\n",
    "index_df = pd.DataFrame(np.arange(1, df.shape[0]+1), columns=['rank'])\n",
    "df = pd.concat([df['Frequency'],index_df],axis=1)\n",
    "df.plot(logx=True,logy=True,x='rank',y='Frequency')"
   ]
  }
 ],
 "metadata": {
  "anaconda-cloud": {},
  "kernelspec": {
   "display_name": "Python [conda root]",
   "language": "python",
   "name": "conda-root-py"
  },
  "language_info": {
   "codemirror_mode": {
    "name": "ipython",
    "version": 3.0
   },
   "file_extension": ".py",
   "mimetype": "text/x-python",
   "name": "python",
   "nbconvert_exporter": "python",
   "pygments_lexer": "ipython3",
   "version": "3.5.2"
  }
 },
 "nbformat": 4,
 "nbformat_minor": 0
}