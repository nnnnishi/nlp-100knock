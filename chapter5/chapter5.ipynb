{
 "cells": [
  {
   "cell_type": "markdown",
   "metadata": {
    "collapsed": true
   },
   "source": [
    "# nlp100 chapter5\n",
    "\n",
    "Try:http://www.cl.ecei.tohoku.ac.jp/nlp100"
   ]
  },
  {
   "cell_type": "code",
   "execution_count": 1,
   "metadata": {},
   "outputs": [],
   "source": [
    "%matplotlib inline\n",
    "import os\n",
    "import sys\n",
    "import re\n",
    "import MeCab\n",
    "import ngram\n",
    "import numpy as np\n",
    "import pandas as pd\n",
    "import pydot\n",
    "from PIL import Image\n",
    "import itertools\n",
    "import matplotlib.pyplot as plt\n",
    "os.chdir('../../nnnnishi/nlp-100knock')"
   ]
  },
  {
   "cell_type": "markdown",
   "metadata": {},
   "source": [
    "## 40. 係り受け解析結果の読み込み（形態素）\n",
    "reference:http://taku910.github.io/cabocha/"
   ]
  },
  {
   "cell_type": "code",
   "execution_count": 2,
   "metadata": {},
   "outputs": [],
   "source": [
    "import CaboCha\n",
    "\n",
    "c = CaboCha.Parser()\n",
    "\n",
    "with open('data/neko.txt.cabocha', 'w') as writer:\n",
    "    with open('data/neko.txt') as reader:\n",
    "        for line in reader:\n",
    "            tree = c.parse(line)\n",
    "            if len(line) > 1: \n",
    "                writer.write(tree.toString(CaboCha.FORMAT_LATTICE))"
   ]
  },
  {
   "cell_type": "code",
   "execution_count": 3,
   "metadata": {},
   "outputs": [
    {
     "name": "stdout",
     "output_type": "stream",
     "text": [
      "{'surface': '名前', 'pos1': '一般', 'base': '名前', 'pos': '名詞'}\n{'surface': 'は', 'pos1': '係助詞', 'base': 'は', 'pos': '助詞'}\n{'surface': 'まだ', 'pos1': '助詞類接続', 'base': 'まだ', 'pos': '副詞'}\n{'surface': '無い', 'pos1': '自立', 'base': '無い', 'pos': '形容詞'}\n{'surface': '。', 'pos1': '句点', 'base': '。', 'pos': '記号'}\n"
     ]
    }
   ],
   "source": [
    "class Morph(object):\n",
    "    def __init__(self, l):\n",
    "        l = re.sub(r'\\t', ',', l)\n",
    "        token = re.split(',', l)\n",
    "        if len(token) > 7:\n",
    "            self.surface = token[0]\n",
    "            self.base = token[7]\n",
    "            self.pos = token[1]\n",
    "            self.pos1 = token[2]\n",
    "        else:\n",
    "            self.surface = token[0]\n",
    "            self.base = ''\n",
    "            self.pos = ''\n",
    "            self.pos1 = '' \n",
    "\n",
    "\n",
    "f = os.path.join('data', 'neko.txt.cabocha')\n",
    "\n",
    "ms = []\n",
    "mss = []\n",
    "with open(f) as reader:\n",
    "    for line in reader:\n",
    "        if re.search('EOS', line):\n",
    "            mss.append(ms)\n",
    "            ms = []\n",
    "            continue\n",
    "        if re.search(r'^\\*',line):\n",
    "            continue\n",
    "        m = Morph(line)\n",
    "        ms.append(m)\n",
    "        \n",
    "for i in range(len(mss[2])):\n",
    "    print(mss[2][i].__dict__)"
   ]
  },
  {
   "cell_type": "markdown",
   "metadata": {},
   "source": [
    "## 41. 係り受け解析結果の読み込み（文節・係り受け）"
   ]
  },
  {
   "cell_type": "code",
   "execution_count": 4,
   "metadata": {},
   "outputs": [
    {
     "name": "stdout",
     "output_type": "stream",
     "text": [
      "文番号: 8\n文節番号: 0 文節の文字列: この 係り先: 1\n文節番号: 1 文節の文字列: 書生というのは 係り先: 7\n文節番号: 2 文節の文字列: 時々 係り先: 4\n文節番号: 3 文節の文字列: 我々を 係り先: 4\n文節番号: 4 文節の文字列: 捕えて 係り先: 5\n文節番号: 5 文節の文字列: 煮て 係り先: 6\n文節番号: 6 文節の文字列: 食うという 係り先: 7\n文節番号: 7 文節の文字列: 話である。 係り先: -1\n"
     ]
    }
   ],
   "source": [
    "class Morph(object):\n",
    "    def __init__(self, l):\n",
    "        l = re.sub(r'\\t', ',', l)\n",
    "        t = re.split(',', l)\n",
    "        if len(t) > 7:\n",
    "            self.surface = t[0]\n",
    "            self.base = t[7]\n",
    "            self.pos = t[1]\n",
    "            self.pos1 = t[2]\n",
    "        else:\n",
    "            self.surface = t[0]\n",
    "            self.base = ''\n",
    "            self.pos = ''\n",
    "            self.pos1 = '' \n",
    "\n",
    "            \n",
    "class Chunk:\n",
    "    def __init__(self):\n",
    "        self.morphs = []\n",
    "        self.dst = 0\n",
    "        self.srcs = []\n",
    "\n",
    "\n",
    "d = {}\n",
    "sentence_num = 0\n",
    "chunk_num = -1\n",
    "\n",
    "with open(f) as reader:\n",
    "    for line in reader:\n",
    "        if \"EOS\" == line[0:3]:\n",
    "            chunk_num = -1\n",
    "            for i in d[sentence_num]:\n",
    "                if d[sentence_num][i].dst != \"-1\":\n",
    "                    d[sentence_num][int(d[sentence_num][i].dst)].srcs.append(i)\n",
    "            sentence_num += 1\n",
    "            d[sentence_num] = {}\n",
    "        elif \"*\" == line[0:1]:\n",
    "            token = line.split(' ')\n",
    "            chunk_num += 1\n",
    "            d.setdefault(sentence_num, {})\n",
    "            d[sentence_num][chunk_num] = Chunk()\n",
    "            d[sentence_num][chunk_num].dst = token[2][:-1]\n",
    "        else:\n",
    "            d[sentence_num][chunk_num].morphs.append(Morph(line))\n",
    "\n",
    "N = 7\n",
    "print('文番号:', N+1)\n",
    "for i in d[N]:\n",
    "    txt = []\n",
    "    for j in d[N][i].morphs:\n",
    "        txt.append(j.surface)\n",
    "    print('文節番号:', i, '文節の文字列:', ''.join(txt), '係り先:', d[N][i].dst)"
   ]
  },
  {
   "cell_type": "markdown",
   "metadata": {},
   "source": [
    "## 42. 係り元と係り先の文節の表示"
   ]
  },
  {
   "cell_type": "code",
   "execution_count": 5,
   "metadata": {},
   "outputs": [
    {
     "name": "stdout",
     "output_type": "stream",
     "text": [
      "吾輩は\t猫である\n名前は\t無い\nまだ\t無い\nどこで\t生れたか\n生れたか\tつかぬ\nとんと\tつかぬ\n見当が\tつかぬ\n何でも\t薄暗い\n薄暗い\t所で\nじめじめした\t所で\n所で\t泣いて\nニャーニャー\t泣いて\n泣いて\t記憶している\nいた事だけは\t記憶している\n"
     ]
    }
   ],
   "source": [
    "d = {}\n",
    "sentence_num = 0\n",
    "chunk_num = -1\n",
    "\n",
    "with open(f) as reader:\n",
    "    for line in reader:\n",
    "        if \"EOS\" == line[0:3]:\n",
    "            chunk_num = -1\n",
    "            for i in d[sentence_num]:\n",
    "                if d[sentence_num][i].dst != \"-1\":\n",
    "                    d[sentence_num][int(d[sentence_num][i].dst)].srcs.append(i)\n",
    "            sentence_num += 1\n",
    "            d[sentence_num] = {}\n",
    "        elif \"*\" == line[0:1]:\n",
    "            token = line.split(' ')\n",
    "            chunk_num += 1\n",
    "            d.setdefault(sentence_num, {})\n",
    "            d[sentence_num][chunk_num] = Chunk()\n",
    "            d[sentence_num][chunk_num].dst = token[2][:-1]\n",
    "        elif Morph(line).pos == '記号':\n",
    "            continue\n",
    "        else:\n",
    "            d[sentence_num][chunk_num].morphs.append(Morph(line))\n",
    "\n",
    "\n",
    "for N in range(5):\n",
    "    i2depend = {}\n",
    "    i2w = {}\n",
    "    for i in d[N]:\n",
    "        txt = []\n",
    "        for j in d[N][i].morphs:\n",
    "            txt.append(j.surface)\n",
    "        i2depend[i] = d[N][i].dst\n",
    "        i2w[i] = ''.join(txt)\n",
    "    \n",
    "    for i in d[N]:\n",
    "        if i2w[i] != '' and i2depend[i] != '-1':\n",
    "            print(i2w[i]+'\\t'+i2w[int(i2depend[i])])"
   ]
  },
  {
   "cell_type": "markdown",
   "metadata": {},
   "source": [
    "## 43. 名詞を含む文節が動詞を含む文節に係るものを抽出"
   ]
  },
  {
   "cell_type": "code",
   "execution_count": 6,
   "metadata": {},
   "outputs": [
    {
     "name": "stdout",
     "output_type": "stream",
     "text": [
      "どこで\t生れたか\n見当が\tつかぬ\n所で\t泣いて\nニャーニャー\t泣いて\nいた事だけは\t記憶している\n吾輩は\t見た\nここで\t始めて\nものを\t見た\nあとで\t聞くと\n我々を\t捕えて\n掌に\t載せられて\nスーと\t持ち上げられた\n時\tフワフワした\n感じが\tあったばかりである\n"
     ]
    }
   ],
   "source": [
    "for N in range(10):\n",
    "    i2depend = {}\n",
    "    i2w = {}\n",
    "    i2existN = {}\n",
    "    i2existV = {}\n",
    "    for i in d[N]:\n",
    "        txt = []\n",
    "        i2existN[i] = 0\n",
    "        i2existV[i] = 0\n",
    "        for j in d[N][i].morphs:\n",
    "            txt.append(j.surface)\n",
    "            if j.pos == '名詞':\n",
    "                i2existN[i] = 1\n",
    "            if j.pos == '動詞':\n",
    "                i2existV[i] = 1\n",
    "        i2depend[i] = d[N][i].dst\n",
    "        i2w[i] = ''.join(txt)\n",
    "    \n",
    "    for i in d[N]:\n",
    "        if i2depend[i] != '-1':\n",
    "            if i2existN[i] == 1 and i2existV[int(i2depend[i])]:\n",
    "                print(i2w[i]+'\\t'+i2w[int(i2depend[i])])"
   ]
  },
  {
   "cell_type": "markdown",
   "metadata": {},
   "source": [
    "## 44. 係り受け木の可視化"
   ]
  },
  {
   "cell_type": "code",
   "execution_count": 5,
   "metadata": {},
   "outputs": [
    {
     "name": "stdout",
     "output_type": "stream",
     "text": [
      "[['しかも', '種族であったそうだ。'], ['あとで', '聞くと'], ['聞くと', '種族であったそうだ。'], ['それは', '種族であったそうだ。'], ['書生という', '人間中で'], ['人間中で', '種族であったそうだ。'], ['一番', '獰悪な'], ['獰悪な', '種族であったそうだ。']]\n"
     ]
    },
    {
     "data": {
      "image/png": "[encoded data removed]",
      "text/plain": [
       "<matplotlib.figure.Figure at 0x12bc762e8>"
      ]
     },
     "metadata": {},
     "output_type": "display_data"
    }
   ],
   "source": [
    "N = 6\n",
    "edges = []\n",
    "i2depend = {}\n",
    "i2w = {}\n",
    "\n",
    "for i in d[N]:\n",
    "    txt = []\n",
    "    for j in d[N][i].morphs:\n",
    "        txt.append(j.surface)\n",
    "    i2depend[i] = d[N][i].dst\n",
    "    i2w[i] = ''.join(txt)\n",
    "    \n",
    "for i in d[N]:\n",
    "    if i2w[i] != '' and i2depend[i] != '-1':\n",
    "        edges.append([i2w[i], i2w[int(i2depend[i])]])\n",
    "            \n",
    "print(edges)\n",
    "\n",
    "g=pydot.graph_from_edges(edges, directed=True)\n",
    "g.write_jpeg('data/neko.jpg', prog='dot')\n",
    "im = Image.open(\"data/neko.jpg\")\n",
    "im_list = np.asarray(im)\n",
    "plt.imshow(im_list)\n",
    "plt.show()"
   ]
  },
  {
   "cell_type": "markdown",
   "metadata": {},
   "source": [
    "## 45. 動詞の格パターンの抽出"
   ]
  },
  {
   "cell_type": "code",
   "execution_count": 6,
   "metadata": {},
   "outputs": [
    {
     "name": "stdout",
     "output_type": "stream",
     "text": [
      "       count\n動詞 助詞       \n云う と     565\n思う と     249\nする を     219\nある が     198\nなる に     184\n        count\n動詞 助詞        \nする を      219\n   に       82\n   に を     58\n   と       47\n   て を     44\n        count\n動詞 助詞        \n見る て      173\n   を       94\n   て て     21\n   から      20\n   て を     18\n                     count\n動詞  助詞                    \n与える に を                  3\n    て に は を              2\n    か じゃあ て と は を        1\n    か として を              1\n    が て て と に は は を      1\n"
     ]
    }
   ],
   "source": [
    "pattern = []\n",
    "with open('data/45.tsv', 'w') as writer: \n",
    "    for N in range(len(d)):\n",
    "        for i in range(len(d[N])):\n",
    "            for j in range(len(d[N][i].morphs)):\n",
    "                if d[N][i].morphs[j].pos == '動詞':\n",
    "                    combination = []\n",
    "                    combination.append(d[N][i].morphs[j].base)\n",
    "                    for k in range(len(d[N])):\n",
    "                        if int(d[N][k].dst) == i:\n",
    "                            for l in range(len(d[N][k].morphs)):\n",
    "                                if d[N][k].morphs[l].pos == '助詞':\n",
    "                                    combination.append(d[N][k].morphs[l].surface)\n",
    "                    if len(combination) > 1:\n",
    "                        writer.write('\\t'.join(combination)+'\\n')\n",
    "                        pattern.append([combination[0], ' '.join(sorted(combination[1:]))])\n",
    "                break\n",
    "                \n",
    "df = pd.DataFrame(pattern, columns=['動詞', '助詞'])\n",
    "df['count'] = 1\n",
    "count_df = df.groupby(['動詞', '助詞']).sum().sort_values('count', ascending=False)\n",
    "print(count_df.head())\n",
    "suru_df = df[df['動詞']=='する'].groupby(['動詞', '助詞']).sum().sort_values('count', ascending=False)\n",
    "print(suru_df.head())\n",
    "miru_df = df[df['動詞']=='見る'].groupby(['動詞', '助詞']).sum().sort_values('count', ascending=False)\n",
    "print(miru_df.head())\n",
    "ataeru_df = df[df['動詞']=='与える'].groupby(['動詞', '助詞']).sum().sort_values('count', ascending=False)\n",
    "print(ataeru_df.head())"
   ]
  },
  {
   "cell_type": "markdown",
   "metadata": {},
   "source": [
    "## 46. 動詞の格フレーム情報の抽出"
   ]
  },
  {
   "cell_type": "code",
   "execution_count": 7,
   "metadata": {},
   "outputs": [
    {
     "name": "stdout",
     "output_type": "stream",
     "text": [
      "生れる\t　どこで\tで\nつく\tか が\t生れたか 見当が\n泣く\tで\t所で\n始める\tここで\tで\n見る\tは を\t吾輩は ものを\n聞く\tあとで\tで\n捕える\tを\t我々を\n煮る\tて\t捕えて\n食う\tて\t煮て\n思う\tから\tなかったから\n載せる\tに\t掌に\n持ち上げる\tて と\t載せられて スーと\nある\tが\t感じが\n"
     ]
    }
   ],
   "source": [
    "with open('data/46.tsv', 'w') as writer: \n",
    "    for N in range(len(d)):\n",
    "        for i in range(len(d[N])):\n",
    "            for j in range(len(d[N][i].morphs)):\n",
    "                if d[N][i].morphs[j].pos == '動詞':\n",
    "                    v = [d[N][i].morphs[j].base]\n",
    "                    pp = []\n",
    "                    pp_last = []\n",
    "                    src = []\n",
    "                    for k in range(len(d[N])):\n",
    "                        if int(d[N][k].dst) == i:\n",
    "                            sr = []\n",
    "                            exist_pp = False\n",
    "                            for l in range(len(d[N][k].morphs)):\n",
    "                                if d[N][k].morphs[l].pos == '助詞':\n",
    "                                    pp.append(d[N][k].morphs[l].surface)\n",
    "                                    exist_pp = True\n",
    "                                sr.append(d[N][k].morphs[l].surface)\n",
    "                            if exist_pp:\n",
    "                                src.append(''.join(sr))\n",
    "                                pp_last.append(pp[-1])\n",
    "                            \n",
    "                    if len(v+pp) > 1:\n",
    "                        sort_list = sorted([pp_last, src])\n",
    "                        pp = ' '.join(sort_list[0])\n",
    "                        src = ' '.join(sort_list[1])\n",
    "                        writer.write('\\t'.join(v + [pp, src])+'\\n')\n",
    "                        if N < 10:\n",
    "                            print('\\t'.join(v + [pp, src]))\n",
    "                break"
   ]
  },
  {
   "cell_type": "markdown",
   "metadata": {},
   "source": [
    "## 47. 機能動詞構文のマイニング"
   ]
  },
  {
   "cell_type": "code",
   "execution_count": 8,
   "metadata": {},
   "outputs": [
    {
     "name": "stdout",
     "output_type": "stream",
     "text": [
      "決心をする\tこうと\tと\n返報をする\tんで\t偸んで\n昼寝をする\tが\t彼が\n"
     ]
    }
   ],
   "source": [
    "with open('data/47.tsv', 'w') as writer: \n",
    "    for N in range(len(d)):\n",
    "        for i in range(len(d[N])):\n",
    "            for j in range(len(d[N][i].morphs)):\n",
    "                if d[N][i].morphs[j].pos == '動詞':\n",
    "                    v = [d[N][i].morphs[j].base]\n",
    "                    pp = []\n",
    "                    pp_last = []\n",
    "                    src = []    \n",
    "                    sahen_connect = ''\n",
    "                    exist_sahen_plus_wo = False\n",
    "                    for k in range(len(d[N])):\n",
    "                        if int(d[N][k].dst) == i:\n",
    "                            sr = []\n",
    "                            exist_pp = False\n",
    "                            exist_sahen_connect = False\n",
    "                            exist_wo = False        \n",
    "                            for l in range(len(d[N][k].morphs)):\n",
    "                                if d[N][k].morphs[l].pos1 == 'サ変接続':\n",
    "                                    exist_sahen_connect = True\n",
    "                                    sahen_connect = d[N][k].morphs[l].surface\n",
    "                                \n",
    "                                if d[N][k].morphs[l].pos == '助詞':\n",
    "                                    exist_pp = True\n",
    "                                    if d[N][k].morphs[l].surface == 'を':\n",
    "                                        exist_wo = True\n",
    "                                        \n",
    "                                if exist_pp and (not (exist_sahen_connect and exist_wo)):\n",
    "                                    pp.append(d[N][k].morphs[l].surface)  \n",
    "                                        \n",
    "                                sr.append(d[N][k].morphs[l].surface)\n",
    "                            \n",
    "                            if exist_sahen_connect and exist_wo:\n",
    "                                exist_sahen_plus_wo = True\n",
    "\n",
    "                            if exist_pp and (not exist_sahen_connect):\n",
    "                                src.append(''.join(sr))\n",
    "                                pp_last.append(pp[-1])\n",
    "                         \n",
    "                    if len(v+pp) > 1 and exist_sahen_plus_wo:\n",
    "                        sort_list = sorted([pp_last, src])\n",
    "                        pp = ' '.join(sort_list[0])\n",
    "                        src = ' '.join(sort_list[1])\n",
    "                        writer.write('\\t'.join([sahen_connect+'を'+v[0]] + [pp, src])+'\\n')\n",
    "                        if N < 100:\n",
    "                            print('\\t'.join([sahen_connect+'を'+v[0]] + [pp, src]))\n",
    "                break"
   ]
  },
  {
   "cell_type": "code",
   "execution_count": 9,
   "metadata": {},
   "outputs": [
    {
     "data": {
      "text/html": [
       "<div>\n",
       "<table border=\"1\" class=\"dataframe\">\n",
       "  <thead>\n",
       "    <tr style=\"text-align: right;\">\n",
       "      <th></th>\n",
       "      <th>count</th>\n",
       "    </tr>\n",
       "    <tr>\n",
       "      <th>述語</th>\n",
       "      <th></th>\n",
       "    </tr>\n",
       "  </thead>\n",
       "  <tbody>\n",
       "    <tr>\n",
       "      <th>返事をする</th>\n",
       "      <td>26</td>\n",
       "    </tr>\n",
       "    <tr>\n",
       "      <th>挨拶をする</th>\n",
       "      <td>19</td>\n",
       "    </tr>\n",
       "    <tr>\n",
       "      <th>話をする</th>\n",
       "      <td>10</td>\n",
       "    </tr>\n",
       "    <tr>\n",
       "      <th>喧嘩をする</th>\n",
       "      <td>7</td>\n",
       "    </tr>\n",
       "    <tr>\n",
       "      <th>真似をする</th>\n",
       "      <td>6</td>\n",
       "    </tr>\n",
       "  </tbody>\n",
       "</table>\n",
       "</div>"
      ],
      "text/plain": [
       "<div>\n",
       "<table border=\"1\" class=\"dataframe\">\n",
       "  <thead>\n",
       "    <tr style=\"text-align: right;\">\n",
       "      <th></th>\n",
       "      <th>count</th>\n",
       "    </tr>\n",
       "    <tr>\n",
       "      <th>述語</th>\n",
       "      <th></th>\n",
       "    </tr>\n",
       "  </thead>\n",
       "  <tbody>\n",
       "    <tr>\n",
       "      <th>返事をする</th>\n",
       "      <td>26</td>\n",
       "    </tr>\n",
       "    <tr>\n",
       "      <th>挨拶をする</th>\n",
       "      <td>19</td>\n",
       "    </tr>\n",
       "    <tr>\n",
       "      <th>話をする</th>\n",
       "      <td>10</td>\n",
       "    </tr>\n",
       "    <tr>\n",
       "      <th>喧嘩をする</th>\n",
       "      <td>7</td>\n",
       "    </tr>\n",
       "    <tr>\n",
       "      <th>真似をする</th>\n",
       "      <td>6</td>\n",
       "    </tr>\n",
       "  </tbody>\n",
       "</table>\n",
       "</div>"
      ]
     },
     "execution_count": 9,
     "metadata": {},
     "output_type": "execute_result"
    }
   ],
   "source": [
    "df = pd.read_csv('data/47.tsv', delimiter='\\t', header=None, names=['述語', '助詞', '文節'])\n",
    "df['count'] = 1\n",
    "df = df.groupby(by='述語').sum().sort_values(by='count',ascending=False)\n",
    "df.head()"
   ]
  },
  {
   "cell_type": "code",
   "execution_count": 10,
   "metadata": {},
   "outputs": [
    {
     "data": {
      "text/html": [
       "<div>\n",
       "<table border=\"1\" class=\"dataframe\">\n",
       "  <thead>\n",
       "    <tr style=\"text-align: right;\">\n",
       "      <th></th>\n",
       "      <th></th>\n",
       "      <th>count</th>\n",
       "    </tr>\n",
       "    <tr>\n",
       "      <th>述語</th>\n",
       "      <th>助詞</th>\n",
       "      <th></th>\n",
       "    </tr>\n",
       "  </thead>\n",
       "  <tbody>\n",
       "    <tr>\n",
       "      <th rowspan=\"2\" valign=\"top\">返事をする</th>\n",
       "      <th>と</th>\n",
       "      <td>4</td>\n",
       "    </tr>\n",
       "    <tr>\n",
       "      <th>は と</th>\n",
       "      <td>3</td>\n",
       "    </tr>\n",
       "    <tr>\n",
       "      <th>喧嘩をする</th>\n",
       "      <th>と</th>\n",
       "      <td>3</td>\n",
       "    </tr>\n",
       "    <tr>\n",
       "      <th>話をつづける</th>\n",
       "      <th>は</th>\n",
       "      <td>2</td>\n",
       "    </tr>\n",
       "    <tr>\n",
       "      <th>往来をあるく</th>\n",
       "      <th>て</th>\n",
       "      <td>2</td>\n",
       "    </tr>\n",
       "  </tbody>\n",
       "</table>\n",
       "</div>"
      ],
      "text/plain": [
       "<div>\n",
       "<table border=\"1\" class=\"dataframe\">\n",
       "  <thead>\n",
       "    <tr style=\"text-align: right;\">\n",
       "      <th></th>\n",
       "      <th></th>\n",
       "      <th>count</th>\n",
       "    </tr>\n",
       "    <tr>\n",
       "      <th>述語</th>\n",
       "      <th>助詞</th>\n",
       "      <th></th>\n",
       "    </tr>\n",
       "  </thead>\n",
       "  <tbody>\n",
       "    <tr>\n",
       "      <th rowspan=\"2\" valign=\"top\">返事をする</th>\n",
       "      <th>と</th>\n",
       "      <td>4</td>\n",
       "    </tr>\n",
       "    <tr>\n",
       "      <th>は と</th>\n",
       "      <td>3</td>\n",
       "    </tr>\n",
       "    <tr>\n",
       "      <th>喧嘩をする</th>\n",
       "      <th>と</th>\n",
       "      <td>3</td>\n",
       "    </tr>\n",
       "    <tr>\n",
       "      <th>話をつづける</th>\n",
       "      <th>は</th>\n",
       "      <td>2</td>\n",
       "    </tr>\n",
       "    <tr>\n",
       "      <th>往来をあるく</th>\n",
       "      <th>て</th>\n",
       "      <td>2</td>\n",
       "    </tr>\n",
       "  </tbody>\n",
       "</table>\n",
       "</div>"
      ]
     },
     "execution_count": 10,
     "metadata": {},
     "output_type": "execute_result"
    }
   ],
   "source": [
    "df = pd.read_csv('data/47.tsv', delimiter='\\t', header=None, names=['述語', '助詞', '文節'])\n",
    "df['count'] = 1\n",
    "df = df.groupby(by=['述語','助詞']).sum().sort_values(by='count',ascending=False)\n",
    "df.head()"
   ]
  },
  {
   "cell_type": "markdown",
   "metadata": {},
   "source": [
    "## 48. 名詞から根へのパスの抽出"
   ]
  },
  {
   "cell_type": "code",
   "execution_count": 11,
   "metadata": {},
   "outputs": [
    {
     "name": "stdout",
     "output_type": "stream",
     "text": [
      "吾輩は -> 猫である。\n名前は -> 無い。\n　どこで -> 生れたか -> つかぬ。\n見当が -> つかぬ。\n何でも -> 薄暗い -> 所で -> 泣いて -> 記憶している。\n所で -> 泣いて -> 記憶している。\nニャーニャー -> 泣いて -> 記憶している。\nいた事だけは -> 記憶している。\n吾輩は -> 見た。\nここで -> 始めて -> 人間という -> ものを -> 見た。\n人間という -> ものを -> 見た。\nものを -> 見た。\n"
     ]
    }
   ],
   "source": [
    "def return_path(sentence_num, chunk_num):\n",
    "    path_list = []\n",
    "    chunk_list = []\n",
    "    exist_noun = False\n",
    "    for i in range(len(d[sentence_num][chunk_num].morphs)):\n",
    "        chunk_list.append(d[sentence_num][chunk_num].morphs[i].surface)\n",
    "        if d[sentence_num][chunk_num].morphs[i].pos == '名詞':\n",
    "            exist_noun = True\n",
    "    path_list.append(''.join(chunk_list))\n",
    "    next = int(d[sentence_num][chunk_num].dst)\n",
    "    if next != -1 and exist_noun:        \n",
    "        while next != -1:\n",
    "            chunk_list = []\n",
    "            for j in range(len(d[sentence_num][next].morphs)):\n",
    "                chunk_list.append(d[sentence_num][next].morphs[j].surface)\n",
    "            path_list.append(''.join(chunk_list))\n",
    "            next = int(d[sentence_num][next].dst)\n",
    "        print(' -> '.join(path_list))\n",
    "\n",
    "d = {}\n",
    "sentence_num = 0\n",
    "chunk_num = -1\n",
    "\n",
    "with open(f) as reader:\n",
    "    for line in reader:\n",
    "        if \"EOS\" == line[0:3]:\n",
    "            chunk_num = -1\n",
    "            for i in d[sentence_num]:\n",
    "                if d[sentence_num][i].dst != \"-1\":\n",
    "                    d[sentence_num][int(d[sentence_num][i].dst)].srcs.append(i)\n",
    "            sentence_num += 1\n",
    "            d[sentence_num] = {}\n",
    "        elif \"*\" == line[0:1]:\n",
    "            token = line.split(' ')\n",
    "            chunk_num += 1\n",
    "            d.setdefault(sentence_num, {})\n",
    "            d[sentence_num][chunk_num] = Chunk()\n",
    "            d[sentence_num][chunk_num].dst = token[2][:-1]\n",
    "        else:\n",
    "            d[sentence_num][chunk_num].morphs.append(Morph(line))\n",
    "\n",
    "for N in range(len(d)):\n",
    "    for i in range(len(d[N])):\n",
    "        return_path(N, i)\n",
    "    if N > 4: break"
   ]
  },
  {
   "cell_type": "markdown",
   "metadata": {},
   "source": [
    "## 49. 名詞間の係り受けパスの抽出"
   ]
  },
  {
   "cell_type": "code",
   "execution_count": 12,
   "metadata": {},
   "outputs": [
    {
     "name": "stdout",
     "output_type": "stream",
     "text": [
      "吾輩は -> 猫である。\n名前は -> 無い。\n　どこで -> 生れたか -> つかぬ。\n見当が -> つかぬ。\n何でも -> 薄暗い -> 所で -> 泣いて -> 記憶している。\n所で -> 泣いて -> 記憶している。\nニャーニャー -> 泣いて -> 記憶している。\nいた事だけは -> 記憶している。\n吾輩は -> 見た。\nここで -> 始めて -> 人間という -> ものを -> 見た。\n人間という -> ものを -> 見た。\nものを -> 見た。\n"
     ]
    }
   ],
   "source": [
    "def return_path(sentence_num, chunk_num):\n",
    "    path_list = []\n",
    "    chunk_list = []\n",
    "    exist_noun = False\n",
    "    for i in range(len(d[sentence_num][chunk_num].morphs)):\n",
    "        chunk_list.append(d[sentence_num][chunk_num].morphs[i].surface)\n",
    "        if d[sentence_num][chunk_num].morphs[i].pos == '名詞':\n",
    "            exist_noun = True\n",
    "    path_list.append(''.join(chunk_list))\n",
    "    next = int(d[sentence_num][chunk_num].dst)\n",
    "    if next != -1 and exist_noun:        \n",
    "        while next != -1:\n",
    "            chunk_list = []\n",
    "            for j in range(len(d[sentence_num][next].morphs)):\n",
    "                chunk_list.append(d[sentence_num][next].morphs[j].surface)\n",
    "            path_list.append(''.join(chunk_list))\n",
    "            next = int(d[sentence_num][next].dst)\n",
    "        print(' -> '.join(path_list))\n",
    "\n",
    "d = {}\n",
    "sentence_num = 0\n",
    "chunk_num = -1\n",
    "\n",
    "with open(f) as reader:\n",
    "    for line in reader:\n",
    "        if \"EOS\" == line[0:3]:\n",
    "            chunk_num = -1\n",
    "            for i in d[sentence_num]:\n",
    "                if d[sentence_num][i].dst != \"-1\":\n",
    "                    d[sentence_num][int(d[sentence_num][i].dst)].srcs.append(i)\n",
    "            sentence_num += 1\n",
    "            d[sentence_num] = {}\n",
    "        elif \"*\" == line[0:1]:\n",
    "            token = line.split(' ')\n",
    "            chunk_num += 1\n",
    "            d.setdefault(sentence_num, {})\n",
    "            d[sentence_num][chunk_num] = Chunk()\n",
    "            d[sentence_num][chunk_num].dst = token[2][:-1]\n",
    "        else:\n",
    "            d[sentence_num][chunk_num].morphs.append(Morph(line))\n",
    "\n",
    "for N in range(len(d)):\n",
    "    for i in range(len(d[N])):\n",
    "        return_path(N, i)\n",
    "    if N > 4: break"
   ]
  },
  {
   "cell_type": "code",
   "execution_count": 14,
   "metadata": {},
   "outputs": [
    {
     "name": "stdout",
     "output_type": "stream",
     "text": [
      "Xは -> Y\n　Xで -> 生れたか | Yが | つかぬ。\nXでも -> 薄暗い -> Y\nXでも -> 薄暗い -> 所で | Y | 泣いて -> 記憶している。\nXでも -> 薄暗い -> 所で -> 泣いて | Yだけは | 記憶している。\nXでも -> 薄暗い -> 所で -> 泣いて -> Y\nXで | Y | 泣いて -> 記憶している。\nXで -> 泣いて | Yだけは | 記憶している。\nXで -> 泣いて -> Y\nX -> 泣いて | Yだけは | 記憶している。\nX -> 泣いて -> Y\nXだけは -> Y\nXは | Yで -> 始めて -> 人間という -> ものを | 見た。\nXは | Yという -> ものを | 見た。\nXは | Yを | 見た。\nXで -> 始めて -> Y\nXで -> 始めて -> 人間という -> Y\nXという -> Y\n"
     ]
    }
   ],
   "source": [
    "def search_noun(sentence_num):\n",
    "    noun_list = []\n",
    "    for i in range(len(d[sentence_num])):\n",
    "        for j in range(len(d[sentence_num][i].morphs)):\n",
    "            if d[sentence_num][i].morphs[j].pos == '名詞':\n",
    "                noun_list.append(i)\n",
    "    return noun_list\n",
    "\n",
    "\n",
    "def check_XtoY(sentence_num, combi):\n",
    "    z_list = []\n",
    "    Xi = int(combi[0])\n",
    "    Yi = int(combi[1])\n",
    "    # X\n",
    "    next = int(d[sentence_num][Xi].dst)\n",
    "    z_list.append(next)    \n",
    "    while next != -1:\n",
    "        if next == Yi:\n",
    "            return [True, next]\n",
    "        next = int(d[sentence_num][next].dst)\n",
    "        z_list.append(next)\n",
    "    # Y\n",
    "    next = int(d[sentence_num][Yi].dst) \n",
    "    while next != -1:\n",
    "        if next in z_list:\n",
    "            return [False, next]\n",
    "        next = int(d[sentence_num][next].dst)\n",
    "    return [False, -1]\n",
    "\n",
    "\n",
    "def show_XtoY(sentence_num, combi):\n",
    "    Xi = int(combi[0])\n",
    "    Yi = int(combi[1])\n",
    "    path_list = []\n",
    "    chunk_list = []\n",
    "    for i in range(len(d[sentence_num][Xi].morphs)):\n",
    "        if d[sentence_num][Xi].morphs[i].pos == '名詞':\n",
    "            chunk_list.append('X')\n",
    "        else:\n",
    "            chunk_list.append(d[sentence_num][Xi].morphs[i].surface)\n",
    "    path_list.append(''.join(chunk_list))\n",
    "    next = int(d[sentence_num][Xi].dst)      \n",
    "    while next != -1:\n",
    "        if next == Yi:\n",
    "            path_list.append('Y')\n",
    "            break\n",
    "        else:\n",
    "            chunk_list = []\n",
    "            for j in range(len(d[sentence_num][next].morphs)):\n",
    "                chunk_list.append(d[sentence_num][next].morphs[j].surface)\n",
    "            path_list.append(''.join(chunk_list))\n",
    "            next = int(d[sentence_num][next].dst)\n",
    "    print(' -> '.join(path_list))\n",
    "        \n",
    "        \n",
    "def show_XandYtoZ(sentence_num, combi ,Zi):\n",
    "    path_list = []\n",
    "    Xi = int(combi[0])\n",
    "    Yi = int(combi[1])  \n",
    "    # X -> Z\n",
    "    small_path_list = []\n",
    "    chunk_list = []\n",
    "    for i in range(len(d[sentence_num][Xi].morphs)):\n",
    "        if d[sentence_num][Xi].morphs[i].pos == '名詞':\n",
    "            chunk_list.append('X')\n",
    "        else:\n",
    "            chunk_list.append(d[sentence_num][Xi].morphs[i].surface)\n",
    "    small_path_list.append(''.join(chunk_list))\n",
    "    next = int(d[sentence_num][Xi].dst)        \n",
    "\n",
    "    while next != Zi:\n",
    "        chunk_list = []\n",
    "        for j in range(len(d[sentence_num][next].morphs)):\n",
    "            chunk_list.append(d[sentence_num][next].morphs[j].surface)\n",
    "        small_path_list.append(''.join(chunk_list))\n",
    "        next = int(d[sentence_num][next].dst)\n",
    "    \n",
    "    if len(small_path_list) > 1:\n",
    "        path_list.append(' -> '.join(small_path_list))\n",
    "    else:\n",
    "        path_list.append(small_path_list[0])\n",
    "\n",
    "    # Y -> Z\n",
    "    small_path_list = []\n",
    "    chunk_list = []\n",
    "    for i in range(len(d[sentence_num][Yi].morphs)):\n",
    "        if d[sentence_num][Yi].morphs[i].pos == '名詞':\n",
    "            chunk_list.append('Y')\n",
    "        else:\n",
    "            chunk_list.append(d[sentence_num][Yi].morphs[i].surface)\n",
    "    small_path_list.append(''.join(chunk_list))\n",
    "    next = int(d[sentence_num][Yi].dst)        \n",
    "\n",
    "    while next != Zi:\n",
    "        chunk_list = []\n",
    "        for j in range(len(d[sentence_num][next].morphs)):\n",
    "            chunk_list.append(d[sentence_num][next].morphs[j].surface)\n",
    "        small_path_list.append(''.join(chunk_list))\n",
    "        next = int(d[sentence_num][next].dst)\n",
    "    \n",
    "    if len(small_path_list) > 1:\n",
    "        path_list.append(' -> '.join(small_path_list))\n",
    "    else:\n",
    "        path_list.append(small_path_list[0])\n",
    "    \n",
    "    # Z -> -1\n",
    "    small_path_list = []\n",
    "    chunk_list = []\n",
    "    for i in range(len(d[sentence_num][Zi].morphs)):\n",
    "        chunk_list.append(d[sentence_num][Zi].morphs[i].surface)\n",
    "    small_path_list.append(''.join(chunk_list))\n",
    "    next = int(d[sentence_num][Zi].dst)        \n",
    "\n",
    "    while next != -1:\n",
    "        chunk_list = []\n",
    "        for j in range(len(d[sentence_num][next].morphs)):\n",
    "            chunk_list.append(d[sentence_num][next].morphs[j].surface)\n",
    "        small_path_list.append(''.join(chunk_list))\n",
    "        next = int(d[sentence_num][next].dst)\n",
    "    \n",
    "    if len(small_path_list) > 1:\n",
    "        path_list.append(' -> '.join(small_path_list))\n",
    "    else:\n",
    "        path_list.append(small_path_list[0])\n",
    "    \n",
    "    print(' | '.join(path_list))\n",
    "    \n",
    "for N in range(len(d)):\n",
    "    noun_conbi = list(itertools.combinations(search_noun(N),2))\n",
    "    for t in noun_conbi:\n",
    "        if check_XtoY(N,t)[0]:\n",
    "            show_XtoY(N,t)\n",
    "        else:\n",
    "            show_XandYtoZ(N,t,check_XtoY(N,t)[1])\n",
    "    if N > 4: break"
   ]
  }
 ],
 "metadata": {
  "kernelspec": {
   "display_name": "Python 2",
   "language": "python",
   "name": "python2"
  },
  "language_info": {
   "codemirror_mode": {
    "name": "ipython",
    "version": 2.0
   },
   "file_extension": ".py",
   "mimetype": "text/x-python",
   "name": "python",
   "nbconvert_exporter": "python",
   "pygments_lexer": "ipython2",
   "version": "2.7.6"
  }
 },
 "nbformat": 4,
 "nbformat_minor": 0
}