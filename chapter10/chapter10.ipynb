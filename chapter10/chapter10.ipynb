{
 "cells": [
  {
   "cell_type": "markdown",
   "metadata": {
    "collapsed": true
   },
   "source": [
    "# nlp100 chapter10\n",
    "\n",
    "Try:http://www.cl.ecei.tohoku.ac.jp/nlp100"
   ]
  },
  {
   "cell_type": "markdown",
   "metadata": {},
   "source": [
    "## 90. word2vecによる学習"
   ]
  },
  {
   "cell_type": "code",
   "execution_count": 1,
   "metadata": {},
   "outputs": [],
   "source": [
    "from gensim.models import word2vec\n",
    "\n",
    "data = word2vec.Text8Corpus('data/80.txt')\n",
    "model = word2vec.Word2Vec(data, size=300)\n",
    "voc = model.wv.vocab.keys()\n",
    "\n",
    "with open('data/90.txt', 'w') as writer:\n",
    "    for x in voc:\n",
    "        writer.write(x)\n",
    "        for y in model[x]:\n",
    "            writer.write(' '+str(y))\n",
    "        writer.write('\\n')"
   ]
  },
  {
   "cell_type": "markdown",
   "metadata": {},
   "source": [
    "## 91. アナロジーデータの準備"
   ]
  },
  {
   "cell_type": "code",
   "execution_count": 2,
   "metadata": {},
   "outputs": [],
   "source": [
    "import re\n",
    "\n",
    "with open('data/91.txt', 'w') as writer:\n",
    "    with open('data/questions-words.txt') as reader:\n",
    "        family = False\n",
    "        for line in reader:\n",
    "            string = re.split(\" \",line[:-1])\n",
    "            if string[0] == \":\":\n",
    "                if string[1] == \"family\":\n",
    "                    family = True\n",
    "                else:\n",
    "                    family = False\n",
    "            if family == True:\n",
    "                writer.write(line)"
   ]
  },
  {
   "cell_type": "markdown",
   "metadata": {},
   "source": [
    "## 92. アナロジーデータへの適用"
   ]
  },
  {
   "cell_type": "code",
   "execution_count": 3,
   "metadata": {},
   "outputs": [],
   "source": [
    "from sklearn.metrics.pairwise import cosine_similarity\n",
    "import numpy as np\n",
    "import warnings\n",
    "warnings.filterwarnings(\"ignore\")\n",
    "import copy\n",
    "\n",
    "\n",
    "def getallvec():\n",
    "    vecdict = {}\n",
    "    with open('data/85vec.txt') as reader:\n",
    "        for line in reader:\n",
    "            string1 = re.split(\" \", line[:-1])\n",
    "            a = [float(x) for x in string1[1:301]]\n",
    "            vecdict[string1[0]] = copy.deepcopy(np.array(a))\n",
    "    return vecdict\n",
    "\n",
    "\n",
    "def getsim(v, worddict, writer): #類似度計算\n",
    "    string = ''\n",
    "    cos_sim1 = 0\n",
    "    for k, v1 in worddict.items():\n",
    "        npe = v1\n",
    "        cos_sim2 = cosine_similarity(v, npe)[0][0]\n",
    "        if cos_sim2 > cos_sim1:\n",
    "            cos_sim1 = cos_sim2\n",
    "            string = k\n",
    "    writer.write(' '+string+' ')\n",
    "    writer.write(str(cos_sim1)+'\\n')\n",
    "\n",
    "\n",
    "worddict = getallvec()\n",
    "\n",
    "with open('data/92_85.txt', 'w') as writer:\n",
    "    with open('data/91.txt') as reader:\n",
    "        for line in reader:\n",
    "            string = re.split(\" \",line[:-1])  \n",
    "            if not string[1] in worddict:\n",
    "                continue\n",
    "            else:\n",
    "                npa = worddict[string[1]]\n",
    "        \n",
    "            if not string[0] in worddict:\n",
    "                continue\n",
    "            else:\n",
    "                npb = worddict[string[0]]\n",
    "        \n",
    "            if not string[2] in worddict:\n",
    "                continue\n",
    "            else:\n",
    "                npc = worddict[string[2]]\n",
    "              \n",
    "            npd = npa - npb + npc\n",
    "            writer.write(string[1]+\"-\"+string[0]+\"+\"+string[2]+' '+string[3])\n",
    "            getsim(npd, worddict, writer)"
   ]
  },
  {
   "cell_type": "code",
   "execution_count": 4,
   "metadata": {},
   "outputs": [
    {
     "name": "stdout",
     "output_type": "stream",
     "text": [
      "grandma  not exist.\ngrandma  not exist.\ngrandma  not exist.\ngrandma  not exist.\ngrandma  not exist.\ngrandma  not exist.\ngrandma  not exist.\ngrandma  not exist.\ngrandma  not exist.\ngrandma  not exist.\ngrandma  not exist.\ngrandma  not exist.\ngrandma  not exist.\ngrandma  not exist.\ngrandma  not exist.\ngrandma  not exist.\ngrandma  not exist.\ngrandma  not exist.\ngrandma  not exist.\ngrandma  not exist.\ngrandma  not exist.\ngrandma  not exist.\n"
     ]
    },
    {
     "name": "stdout",
     "output_type": "stream",
     "text": [
      "policewoman  not exist.\npolicewoman  not exist.\npolicewoman  not exist.\npolicewoman  not exist.\npolicewoman  not exist.\npolicewoman  not exist.\npolicewoman  not exist.\npolicewoman  not exist.\npolicewoman  not exist.\npolicewoman  not exist.\npolicewoman  not exist.\npolicewoman  not exist.\npolicewoman  not exist.\npolicewoman  not exist.\npolicewoman  not exist.\npolicewoman  not exist.\npolicewoman  not exist.\npolicewoman  not exist.\npolicewoman  not exist.\npolicewoman  not exist.\npolicewoman  not exist.\npolicewoman  not exist.\n"
     ]
    },
    {
     "name": "stdout",
     "output_type": "stream",
     "text": [
      "stepsister  not exist.\nstepsister  not exist.\nstepsister  not exist.\nstepsister  not exist.\nstepsister  not exist.\nstepsister  not exist.\nstepsister  not exist.\nstepsister  not exist.\nstepsister  not exist.\nstepsister  not exist.\nstepsister  not exist.\nstepsister  not exist.\nstepsister  not exist.\nstepsister  not exist.\nstepsister  not exist.\nstepsister  not exist.\nstepsister  not exist.\nstepsister  not exist.\nstepsister  not exist.\nstepsister  not exist.\nstepsister  not exist.\nstepsister  not exist.\n"
     ]
    }
   ],
   "source": [
    "from sklearn.metrics.pairwise import cosine_similarity\n",
    "import numpy as np\n",
    "import warnings\n",
    "warnings.filterwarnings(\"ignore\")\n",
    "import copy\n",
    "\n",
    "\n",
    "def getallvec():\n",
    "    vecdict = {}\n",
    "    with open('data/90.txt') as reader:\n",
    "        for line in reader:\n",
    "            string1 = re.split(\" \", line[:-1])\n",
    "            a = [float(x) for x in string1[1:301]]\n",
    "            vecdict[string1[0]] = copy.deepcopy(np.array(a))\n",
    "    return vecdict\n",
    "\n",
    "\n",
    "def getsim(v, worddict, writer): #類似度計算\n",
    "    string = ''\n",
    "    cos_sim1 = 0\n",
    "    for k, v1 in worddict.items():\n",
    "        npe = v1\n",
    "        cos_sim2 = cosine_similarity(v, npe)[0][0]\n",
    "        if cos_sim2 > cos_sim1:\n",
    "            cos_sim1 = cos_sim2\n",
    "            string = k\n",
    "    writer.write(' '+string+' ')\n",
    "    writer.write(str(cos_sim1)+'\\n')\n",
    "\n",
    "\n",
    "worddict = getallvec()\n",
    "\n",
    "with open('data/92_90.txt', 'w') as writer:\n",
    "    with open('data/91.txt') as reader:\n",
    "        for line in reader:\n",
    "            string = re.split(\" \",line[:-1])  \n",
    "            if not string[1] in worddict:\n",
    "                print(string[1],\" not exist.\")\n",
    "                continue\n",
    "            else:\n",
    "                npa = worddict[string[1]]\n",
    "        \n",
    "            if not string[0] in worddict:\n",
    "                continue\n",
    "            else:\n",
    "                npb = worddict[string[0]]\n",
    "        \n",
    "            if not string[2] in worddict:\n",
    "                continue\n",
    "            else:\n",
    "                npc = worddict[string[2]]\n",
    "              \n",
    "            npd = npa - npb + npc\n",
    "            writer.write(string[1]+\"-\"+string[0]+\"+\"+string[2]+' '+string[3])\n",
    "            getsim(npd, worddict, writer)"
   ]
  },
  {
   "cell_type": "markdown",
   "metadata": {},
   "source": [
    "## 93. アナロジータスクの正解率の計算"
   ]
  },
  {
   "cell_type": "code",
   "execution_count": 5,
   "metadata": {},
   "outputs": [
    {
     "name": "stdout",
     "output_type": "stream",
     "text": [
      "     507 data/91.txt\r\n"
     ]
    }
   ],
   "source": [
    "!wc -l data/91.txt"
   ]
  },
  {
   "cell_type": "code",
   "execution_count": 6,
   "metadata": {},
   "outputs": [
    {
     "name": "stdout",
     "output_type": "stream",
     "text": [
      "90: 49 9.664694280078894 %\n85: 1 0.19723865877712032 %\n"
     ]
    }
   ],
   "source": [
    "N = 507\n",
    "\n",
    "collect = 0\n",
    "with open('data/92_90.txt') as reader:\n",
    "    for line in reader:\n",
    "        token = line.split(' ')\n",
    "        if token[1] == token[2]:\n",
    "            collect += 1\n",
    "print('90:', collect, collect/N*100, '%')\n",
    "\n",
    "collect = 0\n",
    "with open('data/92_85.txt') as reader:\n",
    "    for line in reader:\n",
    "        token = line.split(' ')\n",
    "        if token[1] == token[2]:\n",
    "            collect += 1\n",
    "print('85:', collect, collect/N*100, '%')"
   ]
  },
  {
   "cell_type": "markdown",
   "metadata": {},
   "source": [
    "## 94. WordSimilarity-353での類似度計算"
   ]
  },
  {
   "cell_type": "code",
   "execution_count": 7,
   "metadata": {},
   "outputs": [],
   "source": [
    "import re\n",
    "import numpy as np\n",
    "import copy\n",
    "\n",
    "\n",
    "def getallvec():\n",
    "    npxdict = {}\n",
    "    with open('data/85vec.txt') as reader:\n",
    "        for line in reader:\n",
    "            string1 = re.split(\" \", line[:-1])\n",
    "            a = [float(x) for x in string1[1:301]]\n",
    "            npxdict[string1[0]] = copy.deepcopy(np.array(a))\n",
    "    return npxdict\n",
    "\n",
    "worddict = getallvec()\n",
    "\n",
    "with open('data/set1_85.txt', 'w') as writer:\n",
    "    with open('data/wordsim353/set1.tab') as reader:\n",
    "        reader.readline()\n",
    "        for line in reader:\n",
    "            string = re.split(\"\\t\", line[:-2]) \n",
    "            if not string[0] in worddict:\n",
    "                continue\n",
    "            else:\n",
    "                npa = worddict[string[0]]\n",
    "            if not string[1] in worddict:\n",
    "                continue\n",
    "            else:\n",
    "                npb = worddict[string[1]]\n",
    "            writer.write(string[1]+'\\t'+string[0]+'\\t'+\n",
    "                          \"{0:f}\".format(cosine_similarity(npa, npb)[0][0])+'\\n')\n",
    "\n",
    "with open('data/set2_85.txt', 'w') as writer:\n",
    "    with open('data/wordsim353/set2.tab') as reader:\n",
    "        reader.readline()\n",
    "        for line in reader:\n",
    "            string = re.split(\"\\t\", line[:-2]) \n",
    "            if not string[0] in worddict:\n",
    "                continue\n",
    "            else:\n",
    "                npa = worddict[string[0]]\n",
    "            if not string[1] in worddict:\n",
    "                continue\n",
    "            else:\n",
    "                npb = worddict[string[1]]\n",
    "            writer.write(string[1]+'\\t'+string[0]+'\\t'+\n",
    "                          \"{0:f}\".format(cosine_similarity(npa, npb)[0][0])+'\\n')"
   ]
  },
  {
   "cell_type": "code",
   "execution_count": 8,
   "metadata": {},
   "outputs": [],
   "source": [
    "def getallvec():\n",
    "    npxdict = {}\n",
    "    with open('data/90.txt') as reader:\n",
    "        for line in reader:\n",
    "            string1 = re.split(\" \", line[:-1])\n",
    "            a = [float(x) for x in string1[1:301]]\n",
    "            npxdict[string1[0]] = copy.deepcopy(np.array(a))\n",
    "    return npxdict\n",
    "\n",
    "worddict = getallvec()\n",
    "\n",
    "with open('data/set1_90.txt', 'w') as writer:\n",
    "    with open('data/wordsim353/set1.tab') as reader:\n",
    "        reader.readline()\n",
    "        for line in reader:\n",
    "            string = re.split(\"\\t\", line[:-2]) \n",
    "            if not string[0] in worddict:\n",
    "                continue\n",
    "            else:\n",
    "                npa = worddict[string[0]]\n",
    "            if not string[1] in worddict:\n",
    "                continue\n",
    "            else:\n",
    "                npb = worddict[string[1]]\n",
    "            writer.write(string[1]+'\\t'+string[0]+'\\t'+\n",
    "                          \"{0:f}\".format(cosine_similarity(npa, npb)[0][0])+'\\n')\n",
    "\n",
    "with open('data/set2_90.txt', 'w') as writer:\n",
    "    with open('data/wordsim353/set2.tab') as reader:\n",
    "        reader.readline()\n",
    "        for line in reader:\n",
    "            string = re.split(\"\\t\", line[:-2]) \n",
    "            if not string[0] in worddict:\n",
    "                continue\n",
    "            else:\n",
    "                npa = worddict[string[0]]\n",
    "            if not string[1] in worddict:\n",
    "                continue\n",
    "            else:\n",
    "                npb = worddict[string[1]]\n",
    "            writer.write(string[1]+'\\t'+string[0]+'\\t'+\n",
    "                          \"{0:f}\".format(cosine_similarity(npa, npb)[0][0])+'\\n')"
   ]
  },
  {
   "cell_type": "markdown",
   "metadata": {},
   "source": [
    "## 95. WordSimilarity-353での評価"
   ]
  },
  {
   "cell_type": "code",
   "execution_count": 9,
   "metadata": {},
   "outputs": [
    {
     "name": "stdout",
     "output_type": "stream",
     "text": [
      "set1 85: 0.214228111178\nset1 90: 0.508009221056\nset2 85: 0.36973143084\nset2 90: 0.535878708199\n"
     ]
    }
   ],
   "source": [
    "from scipy import stats\n",
    "\n",
    "human_eval = {}\n",
    "with open('data/wordsim353/set1.tab') as reader:\n",
    "    reader.readline()\n",
    "    for line in reader:\n",
    "        token = line.split('\\t')\n",
    "        human_eval[token[1]+','+token[0]] = float(token[2])\n",
    "        \n",
    "with open('data/wordsim353/set2.tab') as reader:\n",
    "    reader.readline()\n",
    "    for line in reader:\n",
    "        token = line.split('\\t')\n",
    "        human_eval[token[1]+','+token[0]] = float(token[2])        \n",
    "\n",
    "with open('data/set1_85.txt') as reader:\n",
    "    a = []\n",
    "    b = []\n",
    "    for line in reader:\n",
    "        token = line.rstrip().split('\\t')\n",
    "        if token[0]+','+token[1] in human_eval:\n",
    "            a.append(float(token[2]))\n",
    "            b.append(human_eval[token[0]+','+token[1]])\n",
    "    print('set1 85:', stats.spearmanr(a, b)[0])\n",
    "\n",
    "with open('data/set1_90.txt') as reader:\n",
    "    a = []\n",
    "    b = []\n",
    "    for line in reader:\n",
    "        token = line.rstrip().split('\\t')\n",
    "        if token[0]+','+token[1] in human_eval:\n",
    "            a.append(float(token[2]))\n",
    "            b.append(human_eval[token[0]+','+token[1]])\n",
    "    print('set1 90:', stats.spearmanr(a, b)[0])\n",
    "\n",
    "with open('data/set2_85.txt') as reader:\n",
    "    a = []\n",
    "    b = []\n",
    "    for line in reader:\n",
    "        token = line.rstrip().split('\\t')\n",
    "        if token[0]+','+token[1] in human_eval:\n",
    "            a.append(float(token[2]))\n",
    "            b.append(human_eval[token[0]+','+token[1]])\n",
    "    print('set2 85:', stats.spearmanr(a, b)[0])\n",
    "\n",
    "with open('data/set2_90.txt') as reader:\n",
    "    a = []\n",
    "    b = []\n",
    "    for line in reader:\n",
    "        token = line.rstrip().split('\\t')\n",
    "        if token[0]+','+token[1] in human_eval:\n",
    "            a.append(float(token[2]))\n",
    "            b.append(human_eval[token[0]+','+token[1]])\n",
    "    print('set2 90:', stats.spearmanr(a, b)[0])"
   ]
  },
  {
   "cell_type": "markdown",
   "metadata": {},
   "source": [
    "## 96. 国名に関するベクトルの抽出"
   ]
  },
  {
   "cell_type": "code",
   "execution_count": 10,
   "metadata": {},
   "outputs": [],
   "source": [
    "def getallvec():\n",
    "    npxdict = {}\n",
    "    with open('data/90.txt') as reader:\n",
    "        for line in reader:\n",
    "            string = re.split(\" \",line[:-1])\n",
    "            a = [float(x) for x in string[1:301]]\n",
    "            npxdict[string[0]] = copy.deepcopy(np.array(a))\n",
    "    return npxdict\n",
    "\n",
    "worddict = getallvec()\n",
    "\n",
    "with open('data/96.txt', 'w') as writer:\n",
    "    with open('data/country_list.txt') as reader:\n",
    "        for line in reader:\n",
    "            country = line.rstrip()\n",
    "            if country in worddict:\n",
    "                npa = worddict[country]\n",
    "                writer.write(country)\n",
    "                for y in npa:\n",
    "                    writer.write(' '+str(y))\n",
    "                writer.write('\\n')"
   ]
  },
  {
   "cell_type": "markdown",
   "metadata": {},
   "source": [
    "## 97. k-meansクラスタリング"
   ]
  },
  {
   "cell_type": "code",
   "execution_count": 11,
   "metadata": {},
   "outputs": [],
   "source": [
    "from sklearn.cluster import KMeans\n",
    "\n",
    "def getallvec():\n",
    "    namelist = []\n",
    "    npxlist = [] \n",
    "    with open('data/96.txt') as reader:\n",
    "        for line in reader:\n",
    "            string = re.split(\" \",line[:-1])\n",
    "            a = [float(x) for x in string[1:301]]\n",
    "            namelist.append(string[0])\n",
    "            npxlist.append(copy.deepcopy(np.array(a)))\n",
    "        npxarray = np.array(npxlist)\n",
    "    return namelist, npxarray\n",
    "\n",
    "namelist, npxarray = getallvec()\n",
    "kmeans_model = KMeans(n_clusters=5, random_state=10).fit(npxarray)\n",
    "labels = kmeans_model.labels_\n",
    "\n",
    "n = 0\n",
    "with open('data/97.txt', 'w') as writer:\n",
    "    for n, l in zip(namelist, labels):\n",
    "        writer.write(n+'\\t'+str(l)+'\\n')"
   ]
  },
  {
   "cell_type": "markdown",
   "metadata": {},
   "source": [
    "## 98. Ward法によるクラスタリング"
   ]
  },
  {
   "cell_type": "code",
   "execution_count": 12,
   "metadata": {},
   "outputs": [
    {
     "data": {
      "image/png": "[encoded data removed]",
      "text/plain": [
       "<matplotlib.figure.Figure at 0x11057ee80>"
      ]
     },
     "metadata": {},
     "output_type": "display_data"
    }
   ],
   "source": [
    "%matplotlib inline\n",
    "import matplotlib.pyplot as plt\n",
    "import scipy\n",
    "from matplotlib.pyplot import show\n",
    "from scipy.cluster.hierarchy import ward, dendrogram\n",
    "\n",
    "namelist,npxarray = getallvec()\n",
    "result_w = scipy.cluster.hierarchy.ward(npxarray)\n",
    "plt.figure(figsize=(20, 3))\n",
    "dendrogram(result_w, labels=namelist)\n",
    "plt.savefig('data/98.png', dpi=300)"
   ]
  },
  {
   "cell_type": "markdown",
   "metadata": {},
   "source": [
    "## 99. t-SNEによる可視化"
   ]
  },
  {
   "cell_type": "code",
   "execution_count": 13,
   "metadata": {},
   "outputs": [
    {
     "data": {
      "image/png": "[encoded data removed]",
      "text/plain": [
       "<matplotlib.figure.Figure at 0x110ec6630>"
      ]
     },
     "metadata": {},
     "output_type": "display_data"
    }
   ],
   "source": [
    "from sklearn.manifold import TSNE\n",
    "from matplotlib import pyplot as plt\n",
    "\n",
    "namelist, npxarray = getallvec()\n",
    "model = TSNE(n_components=2)\n",
    "tsne_result = model.fit_transform(npxarray)\n",
    "plt.plot(tsne_result[:,0], tsne_result[:,1], \".\")\n",
    "plt.show()"
   ]
  }
 ],
 "metadata": {
  "kernelspec": {
   "display_name": "Python 2",
   "language": "python",
   "name": "python2"
  },
  "language_info": {
   "codemirror_mode": {
    "name": "ipython",
    "version": 2.0
   },
   "file_extension": ".py",
   "mimetype": "text/x-python",
   "name": "python",
   "nbconvert_exporter": "python",
   "pygments_lexer": "ipython2",
   "version": "2.7.6"
  }
 },
 "nbformat": 4,
 "nbformat_minor": 0
}