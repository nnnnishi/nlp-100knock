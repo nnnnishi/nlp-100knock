{
 "cells": [
  {
   "cell_type": "markdown",
   "metadata": {
    "collapsed": true
   },
   "source": [
    "# nlp100 chapter1\n",
    "\n",
    "Try:http://www.cl.ecei.tohoku.ac.jp/nlp100/"
   ]
  },
  {
   "cell_type": "markdown",
   "metadata": {},
   "source": [
    "## 00. 文字列の逆順\n",
    "reference:http://qiita.com/kakk_a/items/54e81346d8f35733ab5e"
   ]
  },
  {
   "cell_type": "code",
   "execution_count": 1,
   "metadata": {},
   "outputs": [
    {
     "data": {
      "text/plain": [
       "'desserts'"
      ]
     },
     "execution_count": 1,
     "metadata": {},
     "output_type": "execute_result"
    }
   ],
   "source": [
    "s = 'stressed'\n",
    "s[::-1]"
   ]
  },
  {
   "cell_type": "markdown",
   "metadata": {},
   "source": [
    "## 01. 「パタトクカシーー」"
   ]
  },
  {
   "cell_type": "code",
   "execution_count": 2,
   "metadata": {},
   "outputs": [
    {
     "data": {
      "text/plain": [
       "'パトカー'"
      ]
     },
     "execution_count": 2,
     "metadata": {},
     "output_type": "execute_result"
    }
   ],
   "source": [
    "s = 'パタトクカシーー'\n",
    "s[::2]"
   ]
  },
  {
   "cell_type": "markdown",
   "metadata": {},
   "source": [
    "## 02. 「パトカー」＋「タクシー」＝「パタトクカシーー」\n",
    "reference:http://qiita.com/y__sama/items/a2c458de97c4aa5a98e7"
   ]
  },
  {
   "cell_type": "code",
   "execution_count": 3,
   "metadata": {},
   "outputs": [
    {
     "data": {
      "text/plain": [
       "'パタトクカシーー'"
      ]
     },
     "execution_count": 3,
     "metadata": {},
     "output_type": "execute_result"
    }
   ],
   "source": [
    "s1 = 'パトカー'\n",
    "s2 = 'タクシー'\n",
    "''.join([''.join(j) for i in zip(s1, s2) for j in i])"
   ]
  },
  {
   "cell_type": "markdown",
   "metadata": {},
   "source": [
    "## 03. 円周率"
   ]
  },
  {
   "cell_type": "code",
   "execution_count": 4,
   "metadata": {},
   "outputs": [
    {
     "name": "stdout",
     "output_type": "stream",
     "text": [
      "['Now', 'I', 'need', 'a', 'drink', 'alcoholic', 'of', 'course', 'after', 'the', 'heavy', 'lectures', 'involving', 'quantum', 'mechanics']\n"
     ]
    },
    {
     "data": {
      "text/plain": [
       "[3, 1, 4, 1, 5, 9, 2, 6, 5, 3, 5, 8, 9, 7, 9]"
      ]
     },
     "execution_count": 4,
     "metadata": {},
     "output_type": "execute_result"
    }
   ],
   "source": [
    "s = 'Now I need a drink, alcoholic of course,' \\\n",
    "    ' after the heavy lectures involving quantum mechanics.'\n",
    "words = [w.strip(',').strip('.') for w in s.split(' ')]\n",
    "print(words)\n",
    "[len(w) for w in words]"
   ]
  },
  {
   "cell_type": "markdown",
   "metadata": {},
   "source": [
    "## 04. 元素記号"
   ]
  },
  {
   "cell_type": "code",
   "execution_count": 5,
   "metadata": {},
   "outputs": [
    {
     "name": "stdout",
     "output_type": "stream",
     "text": [
      "H 0\nHe 1\nLi 2\nBe 3\nB 4\nC 5\nN 6\nO 7\nF 8\nNe 9\nNa 10\nMi 11\nAl 12\nSi 13\nP 14\nS 15\nCl 16\nAr 17\nK 18\nCa 19\n"
     ]
    }
   ],
   "source": [
    "s = 'Hi He Lied Because Boron Could Not Oxidize Fluorine.' \\\n",
    "    ' New Nations Might Also Sign Peace Security Clause. Arthur King Can.'\n",
    "d = {}\n",
    "for i, w in enumerate([w.strip(',').strip('.') for w in s.split(' ')]):\n",
    "    if i+1 in [1, 5, 6, 7, 8, 9, 15, 16, 19]:\n",
    "        d[w[0]] = i\n",
    "    else:\n",
    "        d[w[:2]] = i\n",
    "for k, v in sorted(d.items(), key=lambda x: x[1]):\n",
    "    print(k, v)"
   ]
  },
  {
   "cell_type": "markdown",
   "metadata": {},
   "source": [
    "## 05. n-gram"
   ]
  },
  {
   "cell_type": "code",
   "execution_count": 6,
   "metadata": {},
   "outputs": [
    {
     "name": "stdout",
     "output_type": "stream",
     "text": [
      "[['I', 'am'], ['am', 'an'], ['an', 'NLPer']]\n[['I', ' '], [' ', 'a'], ['a', 'm'], ['m', ' '], [' ', 'a'], ['a', 'n'], ['n', ' '], [' ', 'N'], ['N', 'L'], ['L', 'P'], ['P', 'e'], ['e', 'r']]\n"
     ]
    }
   ],
   "source": [
    "def ngram(l, N):\n",
    "    return [l[i:i+N] for i in range(len(l)-N+1)]\n",
    "\n",
    "s = 'I am an NLPer'\n",
    "words = s.split(' ')\n",
    "strings = list(s)\n",
    "\n",
    "print(ngram(words, 2))\n",
    "print(ngram(strings, 2))"
   ]
  },
  {
   "cell_type": "markdown",
   "metadata": {},
   "source": [
    "## 06. 集合"
   ]
  },
  {
   "cell_type": "code",
   "execution_count": 7,
   "metadata": {},
   "outputs": [
    {
     "name": "stdout",
     "output_type": "stream",
     "text": [
      "{'di', 'ra', 'ar', 'se', 'ag', 'pa', 'ad', 'gr', 'is', 'ap', 'ph'}\n{'ar', 'pa', 'ra', 'ap'}\n{'is', 'ad', 'di', 'se'}\nTrue\nFalse\n"
     ]
    }
   ],
   "source": [
    "x = 'paraparaparadise'\n",
    "y = 'paragraph'\n",
    "\n",
    "X = set(ngram(x,2))\n",
    "Y = set(ngram(y,2))\n",
    "\n",
    "print(X.union(Y))\n",
    "print(X.intersection(Y))\n",
    "print(X.difference(Y))\n",
    "print('se' in X)\n",
    "print('se' in Y)"
   ]
  },
  {
   "cell_type": "markdown",
   "metadata": {},
   "source": [
    "## 07. テンプレートによる文生成"
   ]
  },
  {
   "cell_type": "code",
   "execution_count": 8,
   "metadata": {},
   "outputs": [
    {
     "name": "stdout",
     "output_type": "stream",
     "text": [
      "12時の気温は22.4\n"
     ]
    }
   ],
   "source": [
    "def weather_forecast(x, y, z):\n",
    "    print('{0}時の{1}は{2}'.format(x, y, z))\n",
    "\n",
    "weather_forecast(12, '気温', 22.4)"
   ]
  },
  {
   "cell_type": "markdown",
   "metadata": {},
   "source": [
    "## 08. 暗号文\n",
    "reference:http://docs.python.jp/3/library/functions.html#ord"
   ]
  },
  {
   "cell_type": "code",
   "execution_count": 9,
   "metadata": {},
   "outputs": [
    {
     "name": "stdout",
     "output_type": "stream",
     "text": [
      "Hvool, dliow!!\nHello, world!!\n"
     ]
    }
   ],
   "source": [
    "def cipher(s):\n",
    "    strings = list(s)\n",
    "    output = []\n",
    "    for c in strings:\n",
    "        if c.islower():\n",
    "            output.append(chr(219-ord(c)))\n",
    "        else:\n",
    "            output.append(c)\n",
    "    return ''.join(output)\n",
    "\n",
    "encrypted = cipher('Hello, world!!')\n",
    "print(encrypted)\n",
    "decoded = cipher(encrypted)\n",
    "print(decoded)"
   ]
  },
  {
   "cell_type": "markdown",
   "metadata": {},
   "source": [
    "## 09. Typoglycemia"
   ]
  },
  {
   "cell_type": "code",
   "execution_count": 10,
   "metadata": {},
   "outputs": [
    {
     "name": "stdout",
     "output_type": "stream",
     "text": [
      "I couldn't believe that I could actually understand what I was reading : the phenomenal power of the human mind .\nI cu'nldot belveie that I could alluacty usendratnd what I was reaindg : the pnhmanoeel peowr of the huamn mind .\n"
     ]
    }
   ],
   "source": [
    "import random\n",
    "def typoglycemia(s):\n",
    "    print(s)\n",
    "    new_s = []\n",
    "    words = s.split(' ')\n",
    "    for w in words:\n",
    "        if len(list(w)) <= 4:\n",
    "            new_s.append(w)\n",
    "        else:\n",
    "            x = list(w[1:-1])\n",
    "            new_s.append(w[0]+''.join(random.sample(x,len(x)))+w[-1])\n",
    "    print(' '.join(new_s))\n",
    "    \n",
    "\n",
    "typoglycemia(\"I couldn't believe that I could actually understand\" \\\n",
    "    \" what I was reading : the phenomenal power of the human mind .\")"
   ]
  }
 ],
 "metadata": {
  "kernelspec": {
   "display_name": "Python 2",
   "language": "python",
   "name": "python2"
  },
  "language_info": {
   "codemirror_mode": {
    "name": "ipython",
    "version": 2.0
   },
   "file_extension": ".py",
   "mimetype": "text/x-python",
   "name": "python",
   "nbconvert_exporter": "python",
   "pygments_lexer": "ipython2",
   "version": "2.7.6"
  }
 },
 "nbformat": 4,
 "nbformat_minor": 0
}