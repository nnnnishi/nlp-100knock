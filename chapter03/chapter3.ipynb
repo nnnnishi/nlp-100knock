{
 "cells": [
  {
   "cell_type": "markdown",
   "metadata": {
    "collapsed": true
   },
   "source": [
    "# nlp100 chapter3\n",
    "\n",
    "Try:http://www.cl.ecei.tohoku.ac.jp/nlp100/"
   ]
  },
  {
   "cell_type": "markdown",
   "metadata": {},
   "source": [
    "## 20. JSONデータの読み込み"
   ]
  },
  {
   "cell_type": "code",
   "execution_count": 1,
   "metadata": {},
   "outputs": [],
   "source": [
    "import os\n",
    "import pandas as pd\n",
    "import numpy as np\n",
    "import re\n",
    "os.chdir('../../nnnnishi/nlp-100knock')"
   ]
  },
  {
   "cell_type": "code",
   "execution_count": 2,
   "metadata": {},
   "outputs": [],
   "source": [
    "import json\n",
    "\n",
    "f = os.path.join('data', 'jawiki-country.json')\n",
    "\n",
    "with open(f, 'r') as reader:\n",
    "    for line in reader:\n",
    "        d = json.loads(line)\n",
    "        if d[\"title\"] == \"イギリス\":\n",
    "            d_uk = d\n",
    "            with open('data/UK.txt', 'w') as writer:\n",
    "                writer.write(d[\"text\"])"
   ]
  },
  {
   "cell_type": "markdown",
   "metadata": {},
   "source": [
    "## 21. カテゴリ名を含む行を抽出"
   ]
  },
  {
   "cell_type": "code",
   "execution_count": 3,
   "metadata": {},
   "outputs": [
    {
     "name": "stdout",
     "output_type": "stream",
     "text": [
      "[[Category:イギリス|*]]\n[[Category:英連邦王国|*]]\n[[Category:G8加盟国]]\n[[Category:欧州連合加盟国]]\n[[Category:海洋国家]]\n[[Category:君主国]]\n[[Category:島国|くれいとふりてん]]\n[[Category:1801年に設立された州・地域]]\n"
     ]
    }
   ],
   "source": [
    "f = os.path.join('data', 'UK.txt')\n",
    "with open(f) as reader:\n",
    "    for line in reader:\n",
    "        if re.search('Category:', line):\n",
    "            print(line.rstrip())"
   ]
  },
  {
   "cell_type": "markdown",
   "metadata": {},
   "source": [
    "## 22. カテゴリ名の抽出"
   ]
  },
  {
   "cell_type": "code",
   "execution_count": 4,
   "metadata": {},
   "outputs": [
    {
     "name": "stdout",
     "output_type": "stream",
     "text": [
      "イギリス\n英連邦王国\nG8加盟国\n欧州連合加盟国\n海洋国家\n君主国\n島国くれいとふりてん\n1801年に設立された州・地域\n"
     ]
    }
   ],
   "source": [
    "f = os.path.join('data', 'UK.txt')\n",
    "with open(f) as reader:\n",
    "    for line in reader:\n",
    "        if 'Category' in line:\n",
    "            token = line.rstrip().split(':')\n",
    "            print(re.sub('[\\]\\*\\|]', '', token[1]))"
   ]
  },
  {
   "cell_type": "markdown",
   "metadata": {},
   "source": [
    "## 23. セクション構造"
   ]
  },
  {
   "cell_type": "code",
   "execution_count": 5,
   "metadata": {},
   "outputs": [
    {
     "name": "stdout",
     "output_type": "stream",
     "text": [
      "1.国名\n1.歴史\n1.地理\n  2.気候\n1.政治\n1.外交と軍事\n1.地方行政区分\n  2.主要都市\n1.科学技術\n1.経済\n  2.鉱業\n  2.農業\n  2.貿易\n  2.通貨\n  2.企業\n1.交通\n  2.道路\n  2.鉄道\n  2.海運\n  2.航空\n1.通信\n1.国民\n  2.言語\n  2.宗教\n  2. 婚姻 \n  2.教育\n1.文化\n  2.食文化\n  2.文学\n  2. 哲学 \n  2.音楽\n    3.イギリスのポピュラー音楽\n  2.映画\n  2.コメディ\n  2.国花\n  2.世界遺産\n  2.祝祭日\n1.スポーツ\n  2.サッカー\n  2.競馬\n  2.モータースポーツ\n1.脚注\n1.関連項目\n1.外部リンク\n"
     ]
    }
   ],
   "source": [
    "f = os.path.join('data', 'UK.txt')\n",
    "with open(f) as reader:\n",
    "    for line in reader:\n",
    "        if \"==\" in line:\n",
    "            token = re.sub(r'={2,4}$', '', line)\n",
    "            token = re.sub(r'[\\r\\n]+', '', token)\n",
    "            token = re.sub(r'^={4}', '    3.', token)\n",
    "            token = re.sub(r'^={3}', '  2.', token)\n",
    "            token = re.sub(r'^={2}', '1.', token)\n",
    "            print(token)"
   ]
  },
  {
   "cell_type": "markdown",
   "metadata": {},
   "source": [
    "## 24. ファイル参照の抽出"
   ]
  },
  {
   "cell_type": "code",
   "execution_count": 6,
   "metadata": {},
   "outputs": [
    {
     "name": "stdout",
     "output_type": "stream",
     "text": [
      "Royal Coat of Arms of the United Kingdom.svg\nBattle of Waterloo 1815.PNG\nThe British Empire.png\nUk topo en.jpg\nBenNevis2005.jpg\nElizabeth II greets NASA GSFC employees, May 8, 2007 edit.jpg\nPalace of Westminster, London - Feb 2007.jpg\nDavid Cameron and Barack Obama at the G20 Summit in Toronto.jpg\nSoldiers Trooping the Colour, 16th June 2007.jpg\nScotland Parliament Holyrood.jpg\nLondon.bankofengland.arp.jpg\nCity of London skyline from London City Hall - Oct 2008.jpg\nOil platform in the North SeaPros.jpg\nEurostar at St Pancras Jan 2008.jpg\nHeathrow T5.jpg\nAnglospeak.svg\nCHANDOS3.jpg\nThe Fabs.JPG\nPalaceOfWestminsterAtNight.jpg\nWestminster Abbey - West Door.jpg\nEdinburgh Cockburn St dsc06789.jpg\nCanterbury Cathedral - Portal Nave Cross-spire.jpeg\nKew Gardens Palm House, London - July 2009.jpg\n2005-06-27 - United Kingdom - England - London - Greenwich.jpg\nStonehenge2007 07 30.jpg\nYard2.jpg\nDurham Kathedrale Nahaufnahme.jpg\nRoman Baths in Bath Spa, England - July 2006.jpg\nFountains Abbey view02 2005-08-27.jpg\nBlenheim Palace IMG 3673.JPG\nLiverpool Pier Head by night.jpg\nHadrian's Wall view near Greenhead.jpg\nLondon Tower (1).JPG\nWembley Stadium, illuminated.jpg\n"
     ]
    }
   ],
   "source": [
    "f = os.path.join('data', 'UK.txt')\n",
    "with open(f) as reader:\n",
    "    for line in reader:\n",
    "        if re.search(r'file:|ファイル', line.lower()):\n",
    "            print(line.split(':')[1].split('|')[0])"
   ]
  },
  {
   "cell_type": "markdown",
   "metadata": {},
   "source": [
    "## 25. テンプレートの抽出"
   ]
  },
  {
   "cell_type": "code",
   "execution_count": 7,
   "metadata": {},
   "outputs": [
    {
     "name": "stdout",
     "output_type": "stream",
     "text": [
      "{'位置画像': 'Location_UK_EU_Europe_001.svg', '確立形態4': \"現在の国号「'''グレートブリテン及び北アイルランド連合王国'''」に変更\", '面積大きさ': '1 E11', 'GDP統計年MER': '2012', '国旗画像': 'Flag of the United Kingdom.svg', 'GDP順位MER': '5', '通貨コード': 'GBP', '時間帯': '±0', '公用語': '[[英語]]（事実上）', '国章リンク': '（[[イギリスの国章|国章]]）', '注記': '<references />', '国際電話番号': '44', '人口順位': '22', '日本語国名': 'グレートブリテン及び北アイルランド連合王国', '人口統計年': '2011', 'GDP統計年元': '2012', '確立年月日4': '[[1927年]]', '人口密度値': '246', '国章画像': '[[ファイル:Royal Coat of Arms of the United Kingdom.svg|85px|イギリスの国章]]', 'ccTLD': '[[.uk]] / [[.gb]]<ref>使用は.ukに比べ圧倒的少数。</ref>', '確立年月日2': '[[1707年]]', 'GDP値': '2兆3162億<ref name=\"imf-statistics-gdp\" />', '元首等肩書': '[[イギリスの君主|女王]]', 'GDP順位': '6', 'GDP/人': '36,727<ref name=\"imf-statistics-gdp\" />', 'ISO 3166-1': 'GB / GBR', '確立形態3': '[[グレートブリテン及びアイルランド連合王国]]建国<br />（[[連合法 (1800年)|1800年連合法]]）', '確立年月日3': '[[1801年]]', '首相等肩書': '[[イギリスの首相|首相]]', '首都': '[[ロンドン]]', '略名': 'イギリス', 'GDP統計年': '2012', '確立形態1': '[[イングランド王国]]／[[スコットランド王国]]<br />（両国とも[[連合法 (1707年)|1707年連合法]]まで）', '通貨': '[[スターリング・ポンド|UKポンド]] (&pound;)', '水面積率': '1.3%', '標語': '{{lang|fr|Dieu et mon droit}}<br/>（[[フランス語]]:神と私の権利）', '公式国名': '{{lang|en|United Kingdom of Great Britain and Northern Ireland}}<ref>英語以外での正式国名:<br/>', '首相等氏名': '[[デーヴィッド・キャメロン]]', '人口値': '63,181,775<ref>[http://esa.un.org/unpd/wpp/Excel-Data/population.htm United Nations Department of Economic and Social Affairs>Population Division>Data>Population>Total Population]</ref>', '面積順位': '76', '面積値': '244,820', '建国形態': '建国', '人口大きさ': '1 E7', '最大都市': 'ロンドン', 'GDP値元': '1兆5478億<ref name=\"imf-statistics-gdp\">[http://www.imf.org/external/pubs/ft/weo/2012/02/weodata/weorept.aspx?pr.x=70&pr.y=13&sy=2010&ey=2012&scsm=1&ssd=1&sort=country&ds=.&br=1&c=112&s=NGDP%2CNGDPD%2CPPPGDP%2CPPPPC&grp=0&a= IMF>Data and Statistics>World Economic Outlook Databases>By Countrise>United Kingdom]</ref>', 'GDP値MER': '2兆4337億<ref name=\"imf-statistics-gdp\" />', '国歌': '[[女王陛下万歳|神よ女王陛下を守り給え]]', '夏時間': '+1', '元首等氏名': '[[エリザベス2世]]', '確立年月日1': '[[927年]]／[[843年]]', '確立形態2': '[[グレートブリテン王国]]建国<br />（[[連合法 (1707年)|1707年連合法]]）'}\n"
     ]
    }
   ],
   "source": [
    "f = os.path.join('data', 'UK.txt')\n",
    "d = {}\n",
    "with open(f) as reader:\n",
    "    for line in reader:\n",
    "        if re.search('^\\}\\}$',line):\n",
    "          break\n",
    "        elif re.search('^\\|',line):\n",
    "          token = re.sub('^\\|','',line)\n",
    "          token = re.split(\"\\s\\=\\s\",token)\n",
    "          token[1] = re.sub(r\"\\n\",\"\",token[1])\n",
    "          d[token[0]] = token[1]\n",
    "print(d)"
   ]
  },
  {
   "cell_type": "markdown",
   "metadata": {},
   "source": [
    "## 26. 強調マークアップの除去"
   ]
  },
  {
   "cell_type": "code",
   "execution_count": 8,
   "metadata": {},
   "outputs": [
    {
     "name": "stdout",
     "output_type": "stream",
     "text": [
      "{'位置画像': 'Location_UK_EU_Europe_001.svg', '確立形態4': '現在の国号「グレートブリテン及び北アイルランド連合王国」に変更', '面積大きさ': '1 E11', 'GDP統計年MER': '2012', '国旗画像': 'Flag of the United Kingdom.svg', 'GDP順位MER': '5', '通貨コード': 'GBP', '時間帯': '±0', '公用語': '[[英語]]（事実上）', '国章リンク': '（[[イギリスの国章国章]]）', '注記': '<references />', '国際電話番号': '44', '人口順位': '22', '日本語国名': 'グレートブリテン及び北アイルランド連合王国', '人口統計年': '2011', 'GDP統計年元': '2012', '確立年月日4': '[[1927年]]', '人口密度値': '246', '国章画像': '[[ファイル:Royal Coat of Arms of the United Kingdom.svg85pxイギリスの国章]]', 'ccTLD': '[[.uk]] / [[.gb]]<ref>使用は.ukに比べ圧倒的少数。</ref>', '確立年月日2': '[[1707年]]', 'GDP値': '2兆3162億<ref name=\"imf-statistics-gdp\" />', '元首等肩書': '[[イギリスの君主女王]]', 'GDP順位': '6', 'GDP/人': '36,727<ref name=\"imf-statistics-gdp\" />', 'ISO 3166-1': 'GB / GBR', '確立形態3': '[[グレートブリテン及びアイルランド連合王国]]建国<br />（[[連合法 (1800年)1800年連合法]]）', '確立年月日3': '[[1801年]]', '首相等肩書': '[[イギリスの首相首相]]', '首都': '[[ロンドン]]', '略名': 'イギリス', 'GDP統計年': '2012', '確立形態1': '[[イングランド王国]]／[[スコットランド王国]]<br />（両国とも[[連合法 (1707年)1707年連合法]]まで）', '通貨': '[[スターリング・ポンドUKポンド]] (&pound;)', '水面積率': '1.3%', '標語': '{{langfrDieu et mon droit}}<br/>（[[フランス語]]:神と私の権利）', '公式国名': '{{langenUnited Kingdom of Great Britain and Northern Ireland}}<ref>英語以外での正式国名:<br/>', '首相等氏名': '[[デーヴィッド・キャメロン]]', '人口値': '63,181,775<ref>[http://esa.un.org/unpd/wpp/Excel-Data/population.htm United Nations Department of Economic and Social Affairs>Population Division>Data>Population>Total Population]</ref>', '面積順位': '76', '面積値': '244,820', '建国形態': '建国', '人口大きさ': '1 E7', '最大都市': 'ロンドン', 'GDP値元': '1兆5478億<ref name=\"imf-statistics-gdp\">[http://www.imf.org/external/pubs/ft/weo/2012/02/weodata/weorept.aspx?pr.x=70&pr.y=13&sy=2010&ey=2012&scsm=1&ssd=1&sort=country&ds=.&br=1&c=112&s=NGDP%2CNGDPD%2CPPPGDP%2CPPPPC&grp=0&a= IMF>Data and Statistics>World Economic Outlook Databases>By Countrise>United Kingdom]</ref>', 'GDP値MER': '2兆4337億<ref name=\"imf-statistics-gdp\" />', '国歌': '[[女王陛下万歳神よ女王陛下を守り給え]]', '夏時間': '+1', '元首等氏名': '[[エリザベス2世]]', '確立年月日1': '[[927年]]／[[843年]]', '確立形態2': '[[グレートブリテン王国]]建国<br />（[[連合法 (1707年)1707年連合法]]）'}\n"
     ]
    }
   ],
   "source": [
    "f = os.path.join('data', 'UK.txt')\n",
    "d = {}\n",
    "with open(f) as reader:\n",
    "    for line in reader:\n",
    "        if re.search('^\\}\\}$',line):\n",
    "          break\n",
    "        elif re.search('^\\|',line):\n",
    "          token = re.sub('^\\|','',line)\n",
    "          token = re.split(\"\\s\\=\\s\",token)\n",
    "          token[1] = re.sub(r\"['\\n|\\'*]\",\"\",token[1])\n",
    "          d[token[0]] = token[1]\n",
    "print(d)"
   ]
  },
  {
   "cell_type": "markdown",
   "metadata": {},
   "source": [
    "## 27. 内部リンクの除去"
   ]
  },
  {
   "cell_type": "code",
   "execution_count": 9,
   "metadata": {},
   "outputs": [
    {
     "name": "stdout",
     "output_type": "stream",
     "text": [
      "{'位置画像': 'Location_UK_EU_Europe_001.svg', '確立形態4': '現在の国号「グレートブリテン及び北アイルランド連合王国」に変更', '面積大きさ': '1 E11', 'GDP統計年MER': '2012', '国旗画像': 'Flag of the United Kingdom.svg', 'GDP順位MER': '5', '通貨コード': 'GBP', '時間帯': '±0', '公用語': '英語（事実上）', '国章リンク': '（イギリスの国章国章）', '注記': '<references />', '国際電話番号': '44', '人口順位': '22', '日本語国名': 'グレートブリテン及び北アイルランド連合王国', '人口統計年': '2011', 'GDP統計年元': '2012', '確立年月日4': '1927年', '人口密度値': '246', '国章画像': 'ファイル:Royal Coat of Arms of the United Kingdom.svg85pxイギリスの国章', 'ccTLD': '.uk / .gb<ref>使用は.ukに比べ圧倒的少数。</ref>', '確立年月日2': '1707年', 'GDP値': '2兆3162億<ref name=\"imf-statistics-gdp\" />', '元首等肩書': 'イギリスの君主女王', 'GDP順位': '6', 'GDP/人': '36,727<ref name=\"imf-statistics-gdp\" />', 'ISO 3166-1': 'GB / GBR', '確立形態3': 'グレートブリテン及びアイルランド連合王国建国<br />（連合法 (1800年)1800年連合法）', '確立年月日3': '1801年', '首相等肩書': 'イギリスの首相首相', '首都': 'ロンドン', '略名': 'イギリス', 'GDP統計年': '2012', '確立形態1': 'イングランド王国／スコットランド王国<br />（両国とも連合法 (1707年)1707年連合法まで）', '通貨': 'スターリング・ポンドUKポンド (&pound;)', '水面積率': '1.3%', '標語': '{{langfrDieu et mon droit}}<br/>（フランス語:神と私の権利）', '公式国名': '{{langenUnited Kingdom of Great Britain and Northern Ireland}}<ref>英語以外での正式国名:<br/>', '首相等氏名': 'デーヴィッド・キャメロン', '人口値': '63,181,775<ref>http://esa.un.org/unpd/wpp/Excel-Data/population.htm United Nations Department of Economic and Social Affairs>Population Division>Data>Population>Total Population</ref>', '面積順位': '76', '面積値': '244,820', '建国形態': '建国', '人口大きさ': '1 E7', '最大都市': 'ロンドン', 'GDP値元': '1兆5478億<ref name=\"imf-statistics-gdp\">http://www.imf.org/external/pubs/ft/weo/2012/02/weodata/weorept.aspx?pr.x=70&pr.y=13&sy=2010&ey=2012&scsm=1&ssd=1&sort=country&ds=.&br=1&c=112&s=NGDP%2CNGDPD%2CPPPGDP%2CPPPPC&grp=0&a= IMF>Data and Statistics>World Economic Outlook Databases>By Countrise>United Kingdom</ref>', 'GDP値MER': '2兆4337億<ref name=\"imf-statistics-gdp\" />', '国歌': '女王陛下万歳神よ女王陛下を守り給え', '夏時間': '+1', '元首等氏名': 'エリザベス2世', '確立年月日1': '927年／843年', '確立形態2': 'グレートブリテン王国建国<br />（連合法 (1707年)1707年連合法）'}\n"
     ]
    }
   ],
   "source": [
    "f = os.path.join('data', 'UK.txt')\n",
    "d = {}\n",
    "with open(f) as reader:\n",
    "    for line in reader:\n",
    "        if re.search('^\\}\\}$',line):\n",
    "          break\n",
    "        elif re.search('^\\|',line):\n",
    "          token = re.sub('^\\|','',line)\n",
    "          token = re.split(\"\\s\\=\\s\",token)\n",
    "          token[1] = re.sub(r\"['\\n|\\'*]\",\"\",token[1])\n",
    "          token[1] = re.sub(r\"['\\n|\\'*|\\[\\[|\\]\\]]\",\"\",token[1])\n",
    "          d[token[0]] = token[1]\n",
    "print(d)"
   ]
  },
  {
   "cell_type": "markdown",
   "metadata": {},
   "source": [
    "## 28. MediaWikiマークアップの除去"
   ]
  },
  {
   "cell_type": "code",
   "execution_count": 10,
   "metadata": {},
   "outputs": [
    {
     "name": "stdout",
     "output_type": "stream",
     "text": [
      "{'位置画像': 'Location_UK_EU_Europe_001.svg', '確立形態4': '現在の国号「グレートブリテン及び北アイルランド連合王国」に変更', '面積大きさ': '1 E11', 'GDP統計年MER': '2012', '国旗画像': 'Flag of the United Kingdom.svg', 'GDP順位MER': '5', '通貨コード': 'GBP', '時間帯': '±0', '公用語': '英語（事実上）', '国章リンク': '（イギリスの国章国章）', '注記': '', '国際電話番号': '44', '人口順位': '22', '日本語国名': 'グレートブリテン及び北アイルランド連合王国', '人口統計年': '2011', 'GDP統計年元': '2012', '確立年月日4': '1927年', '人口密度値': '246', '国章画像': 'ファイル:Royal Coat of Arms of the United Kingdom.svg85pxイギリスの国章', 'ccTLD': '.uk / .gb使用は.ukに比べ圧倒的少数。', '確立年月日2': '1707年', 'GDP値': '2兆3162億', '元首等肩書': 'イギリスの君主女王', 'GDP順位': '6', 'GDP/人': '36,727', 'ISO 3166-1': 'GB / GBR', '確立形態3': 'グレートブリテン及びアイルランド連合王国建国（連合法 (1800年)1800年連合法）', '確立年月日3': '1801年', '首相等肩書': 'イギリスの首相首相', '首都': 'ロンドン', '略名': 'イギリス', 'GDP統計年': '2012', '確立形態1': 'イングランド王国／スコットランド王国（両国とも連合法 (1707年)1707年連合法まで）', '通貨': 'スターリング・ポンドUKポンド (&pound;)', '水面積率': '1.3%', '標語': '{{langfrDieu et mon droit}}（フランス語:神と私の権利）', '公式国名': '{{langenUnited Kingdom of Great Britain and Northern Ireland}}英語以外での正式国名:', '首相等氏名': 'デーヴィッド・キャメロン', '人口値': '63,181,775http://esa.un.org/unpd/wpp/Excel-Data/population.htm United Nations Department of Economic and Social Affairs>Population Division>Data>Population>Total Population', '面積順位': '76', '面積値': '244,820', '建国形態': '建国', '人口大きさ': '1 E7', '最大都市': 'ロンドン', 'GDP値元': '1兆5478億http://www.imf.org/external/pubs/ft/weo/2012/02/weodata/weorept.aspx?pr.x=70&pr.y=13&sy=2010&ey=2012&scsm=1&ssd=1&sort=country&ds=.&br=1&c=112&s=NGDP%2CNGDPD%2CPPPGDP%2CPPPPC&grp=0&a= IMF>Data and Statistics>World Economic Outlook Databases>By Countrise>United Kingdom', 'GDP値MER': '2兆4337億', '国歌': '女王陛下万歳神よ女王陛下を守り給え', '夏時間': '+1', '元首等氏名': 'エリザベス2世', '確立年月日1': '927年／843年', '確立形態2': 'グレートブリテン王国建国（連合法 (1707年)1707年連合法）'}\n"
     ]
    }
   ],
   "source": [
    "f = os.path.join('data', 'UK.txt')\n",
    "d = {}\n",
    "with open(f) as reader:\n",
    "    for line in reader:\n",
    "        if re.search('^\\}\\}$',line):\n",
    "          break\n",
    "        elif re.search('^\\|',line):\n",
    "          token = re.sub('^\\|','',line)\n",
    "          token = re.split(\"\\s\\=\\s\",token)\n",
    "          token[1] = re.sub(r\"['\\n|\\'*]\",\"\",token[1])\n",
    "          token[1] = re.sub(r\"['\\n|\\'*|\\[\\[|\\]\\]]\", \"\", token[1])\n",
    "          token[1] = re.sub(\"<(\\\".*?\\\"|'.*?'|[^'\\\"])*?>\", \"\", token[1])\n",
    "          d[token[0]] = token[1]\n",
    "print(d)"
   ]
  },
  {
   "cell_type": "markdown",
   "metadata": {},
   "source": [
    "## 29. 国旗画像のURLを取得する"
   ]
  },
  {
   "cell_type": "code",
   "execution_count": 11,
   "metadata": {},
   "outputs": [
    {
     "name": "stdout",
     "output_type": "stream",
     "text": [
      "https://upload.wikimedia.org/wikipedia/commons/a/ae/Flag_of_the_United_Kingdom.svg\n"
     ]
    }
   ],
   "source": [
    "import urllib.request\n",
    "import urllib.parse\n",
    "from ast import literal_eval\n",
    "\n",
    "image = urllib.parse.quote_plus(d['国旗画像'])\n",
    "src = \"https://commons.wikimedia.org/w/api.php?format=json&action=query&titles=File:\" + image + \"&prop=imageinfo&&iiprop=url\"\n",
    "response = urllib.request.urlopen(src)\n",
    "html = response.read()\n",
    "data = literal_eval(html.decode('utf-8'))\n",
    "print(data[\"query\"][\"pages\"][\"347935\"][\"imageinfo\"][0][\"url\"])"
   ]
  }
 ],
 "metadata": {
  "kernelspec": {
   "display_name": "Python 2",
   "language": "python",
   "name": "python2"
  },
  "language_info": {
   "codemirror_mode": {
    "name": "ipython",
    "version": 2.0
   },
   "file_extension": ".py",
   "mimetype": "text/x-python",
   "name": "python",
   "nbconvert_exporter": "python",
   "pygments_lexer": "ipython2",
   "version": "2.7.6"
  }
 },
 "nbformat": 4,
 "nbformat_minor": 0
}