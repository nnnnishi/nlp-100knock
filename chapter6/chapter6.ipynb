{
 "cells": [
  {
   "cell_type": "markdown",
   "metadata": {
    "collapsed": true
   },
   "source": [
    "# nlp100 chapter6\n",
    "\n",
    "Try:http://www.cl.ecei.tohoku.ac.jp/nlp100"
   ]
  },
  {
   "cell_type": "code",
   "execution_count": 1,
   "metadata": {},
   "outputs": [],
   "source": [
    "%matplotlib inline\n",
    "import os\n",
    "import sys\n",
    "import re\n",
    "import MeCab\n",
    "import ngram\n",
    "import numpy as np\n",
    "import pandas as pd\n",
    "import pydot\n",
    "from PIL import Image\n",
    "import itertools\n",
    "import CaboCha\n",
    "import matplotlib.pyplot as plt\n",
    "os.chdir('../../nnnnishi/nlp-100knock')"
   ]
  },
  {
   "cell_type": "markdown",
   "metadata": {},
   "source": [
    "## 50. 文区切り"
   ]
  },
  {
   "cell_type": "code",
   "execution_count": 2,
   "metadata": {},
   "outputs": [
    {
     "name": "stdout",
     "output_type": "stream",
     "text": [
      "Natural language processing\nFrom Wikipedia, the free encyclopedia\n\nNatural language processing (NLP) is a field of computer science, artificial intelligence, and linguistics concerned with the interactions between computers and human (natural) languages. \nAs such, NLP is related to the area of humani-computer interaction. \nMany challenges in NLP involve natural language understanding, that is, enabling computers to derive meaning from human or natural language input, and others involve natural language generation.\n\nHistory\n\nThe history of NLP generally starts in the 1950s, although work can be found from earlier periods. \nIn 1950, Alan Turing published an article titled \"Computing Machinery and Intelligence\" which proposed what is now called the Turing test as a criterion of intelligence.\n"
     ]
    }
   ],
   "source": [
    "with open('data/nlp.txt') as reader:\n",
    "    punctuation = ''\n",
    "    count = 0\n",
    "    for line in reader:\n",
    "        count += 1\n",
    "        for c in line:\n",
    "            punctuation = punctuation + c\n",
    "            if len(punctuation) > 3:\n",
    "                punctuation = punctuation[1:4]\n",
    "                if re.search(r'\\.\\s[A-Z]|\\;\\s[A-Z]|\\:\\s[A-Z]|\\?\\s[A-Z]|\\!\\s[A-Z]'\n",
    "                             , punctuation):\n",
    "                    print('')\n",
    "            if c != '\\n':\n",
    "                print(c, end='')\n",
    "        print('')\n",
    "        if count > 7: break"
   ]
  },
  {
   "cell_type": "markdown",
   "metadata": {},
   "source": [
    "## 51. 単語の切り出し"
   ]
  },
  {
   "cell_type": "code",
   "execution_count": 3,
   "metadata": {},
   "outputs": [
    {
     "name": "stdout",
     "output_type": "stream",
     "text": [
      "Natural \nlanguage \nprocessing\nFrom \nWikipedia, \nthe \nfree \nencyclopedia\n\nNatural \nlanguage \nprocessing \n(NLP) \nis \na \nfield \nof \ncomputer \nscience, \nartificial \nintelligence, \nand \nlinguistics \nconcerned \nwith \nthe \ninteractions \nbetween \ncomputers \nand \nhuman \n(natural) \nlanguages. \n\nAs \nsuch, \nNLP \nis \nrelated \nto \nthe \narea \nof \nhumani-computer \ninteraction. \n\nMany \nchallenges \nin \nNLP \ninvolve \nnatural \nlanguage \nunderstanding, \nthat \nis, \nenabling \ncomputers \nto \nderive \nmeaning \nfrom \nhuman \nor \nnatural \nlanguage \ninput, \nand \nothers \ninvolve \nnatural \nlanguage \ngeneration.\n\nHistory\n\nThe \nhistory \nof \nNLP \ngenerally \nstarts \nin \nthe \n1950s, \nalthough \nwork \ncan \nbe \nfound \nfrom \nearlier \nperiods. \n\nIn \n1950, \nAlan \nTuring \npublished \nan \narticle \ntitled \n\"Computing \nMachinery \nand \nIntelligence\" \nwhich \nproposed \nwhat \nis \nnow \ncalled \nthe \nTuring \ntest \nas \na \ncriterion \nof \nintelligence.\n"
     ]
    }
   ],
   "source": [
    "with open('data/nlp_words.txt', 'w') as writer:\n",
    "    with open('data/nlp.txt') as reader:\n",
    "        punctuation = ''\n",
    "        count = 0\n",
    "        for line in reader:\n",
    "            count += 1\n",
    "            for c in line:\n",
    "                punctuation = punctuation + c\n",
    "                if len(punctuation) > 3:\n",
    "                    punctuation = punctuation[1:4]\n",
    "                    if re.search(r'\\.\\s[A-Z]|\\;\\s[A-Z]|\\:\\s[A-Z]|\\?\\s[A-Z]|\\!\\s[A-Z]'\n",
    "                                 , punctuation):\n",
    "                        print('')\n",
    "                if c != '\\n' and ';' and '.' and ',' and ':' and '?' and '!':\n",
    "                    if c == ' ':\n",
    "                        print(c)\n",
    "                        writer.write(c+'\\n')\n",
    "                    else:\n",
    "                        print(c, end='')\n",
    "                        writer.write(c)\n",
    "            print('')\n",
    "            writer.write('\\n')\n",
    "            if count > 7: break"
   ]
  },
  {
   "cell_type": "markdown",
   "metadata": {},
   "source": [
    "## 52. ステミング"
   ]
  },
  {
   "cell_type": "code",
   "execution_count": 4,
   "metadata": {},
   "outputs": [
    {
     "name": "stdout",
     "output_type": "stream",
     "text": [
      "Natural\tNatur\nlanguage\tlanguag\nprocessing\tprocess\nFrom\tFrom\nWikipedia,\tWikipedia,\nthe\tthe\nfree\tfree\nencyclopedia\tencyclopedia\n\t\nNatural\tNatur\nlanguage\tlanguag\n"
     ]
    }
   ],
   "source": [
    "from stemming.porter2 import stem\n",
    "\n",
    "count = 0\n",
    "with open('data/nlp_words.txt') as reader:\n",
    "    for line in reader:\n",
    "        word = line.rstrip()\n",
    "        print(word+'\\t'+stem(word))\n",
    "        count += 1\n",
    "        if count > 10:\n",
    "            break"
   ]
  },
  {
   "cell_type": "markdown",
   "metadata": {},
   "source": [
    "## 53. Tokenization"
   ]
  },
  {
   "cell_type": "code",
   "execution_count": 5,
   "metadata": {},
   "outputs": [
    {
     "name": "stdout",
     "output_type": "stream",
     "text": [
      "Natural\nlanguage\nprocessing\nFrom\nWikipedia\nthe\nfree\nencyclopedia\nNatural\nlanguage\nprocessing\n"
     ]
    }
   ],
   "source": [
    "w = re.compile(r\"<word>(\\w+)</word>\")\n",
    "\n",
    "count = 0\n",
    "with open('data/nlp.txt.xml', 'r') as reader:\n",
    "    for line in reader:\n",
    "        word = w.search(line.strip())\n",
    "        if word:\n",
    "            print(word.group(1))\n",
    "            count += 1\n",
    "        if count > 10:\n",
    "            break"
   ]
  },
  {
   "cell_type": "markdown",
   "metadata": {},
   "source": [
    "## 54. 品詞タグ付け"
   ]
  },
  {
   "cell_type": "code",
   "execution_count": 15,
   "metadata": {},
   "outputs": [
    {
     "name": "stdout",
     "output_type": "stream",
     "text": [
      "Natural\tnatural\tJJ\nlanguage\tlanguage\tNN\nprocessing\tprocessing\tNN\nFrom\tfrom\tIN\nWikipedia\tWikipedia\tNNP\nthe\tthe\tDT\nfree\tfree\tJJ\nencyclopedia\tencyclopedia\tNN\nNatural\tnatural\tJJ\nlanguage\tlanguage\tNN\nprocessing\tprocessing\tNN\n"
     ]
    }
   ],
   "source": [
    "w = re.compile(r\"<word>(\\w+)</word>\")\n",
    "l = re.compile(r\"<lemma>(\\w+)</lemma>\")\n",
    "p = re.compile(r\"<POS>(\\w+)</POS>\")\n",
    "\n",
    "count = 0\n",
    "with open('data/nlp.txt.xml', 'r') as reader:\n",
    "    for line in reader:\n",
    "        word = w.search(line.strip())\n",
    "        lemma = l.search(line.strip())\n",
    "        pos = p.search(line.strip())\n",
    "        if word:\n",
    "            print(word.group(1), end='\\t')\n",
    "        if lemma:\n",
    "            print(lemma.group(1), end='\\t')\n",
    "        if pos:\n",
    "            print(pos.group(1))\n",
    "            count += 1\n",
    "        if count > 10:\n",
    "            break"
   ]
  },
  {
   "cell_type": "markdown",
   "metadata": {},
   "source": [
    "## 55. 固有表現抽出"
   ]
  },
  {
   "cell_type": "code",
   "execution_count": 20,
   "metadata": {},
   "outputs": [
    {
     "name": "stdout",
     "output_type": "stream",
     "text": [
      "Alan\nTuring\nJoseph\nWeizenbaum\nMARGIE\nSchank\nWilensky\nMeehan\nLehnert\nCarbonell\nLehnert\n"
     ]
    }
   ],
   "source": [
    "w = re.compile(r\"<word>(\\w+)</word>\")\n",
    "n = re.compile(r\"<NER>PERSON</NER>\")\n",
    "\n",
    "count = 0\n",
    "with open('data/nlp.txt.xml', 'r') as reader:\n",
    "    for line in reader:\n",
    "        word = w.search(line.strip())\n",
    "        if word:\n",
    "            word_tmp = word\n",
    "        nel = n.search(line.strip())\n",
    "        if nel:\n",
    "            print(word_tmp.group(1))\n",
    "            count += 1\n",
    "        if count > 10:\n",
    "            break"
   ]
  },
  {
   "cell_type": "markdown",
   "metadata": {},
   "source": [
    "## 56. 共参照解析"
   ]
  },
  {
   "cell_type": "code",
   "execution_count": 69,
   "metadata": {},
   "outputs": [
    {
     "name": "stdout",
     "output_type": "stream",
     "text": [
      "\nthe free encyclopedia Natural language processing ( NLP )\t(a field of computer science)(language processing)\ncomputers\t(computers)\nNLP\t(NLP)\nAlan Turing\t(Turing)\na solved problem\t(machine translation)(machine translation , due especially to work at IBM Research , where successively more complicated statistical models were developed)\nthe late 1980s\t(the 1980s)(the late 1980s)\nELIZA\t(ELIZA)\nSHRDLU\t(a natural language system working in restricted `` blocks worlds '' with restricted vocabularies)\nthe `` patient ''\t(My)\nMy head\t(your head)\nyou\t(your)\nLehnert\t"
     ]
    }
   ],
   "source": [
    "count = 0\n",
    "rm = ''\n",
    "with open('data/nlp.txt.xml', 'r') as reader:\n",
    "    for line in reader:\n",
    "        line = re.sub(r'-LRB-',r'(',line)\n",
    "        line = re.sub(r'-RRB-',r')',line)       \n",
    "        if '<mention representative=\"true\">' in line:\n",
    "            rm = 1\n",
    "            print()\n",
    "            mset = set()\n",
    "        if '</mention>' in line:\n",
    "            rm = 0\n",
    "            count += 1\n",
    "        if rm == 0 or rm == 1:\n",
    "            t = re.search(r\"<text>.+</text>\", line)\n",
    "            if t:\n",
    "                if rm == 1:\n",
    "                    print(t.group()[6:-7], end='\\t')\n",
    "                else:\n",
    "                    if t.group()[6:-7] not in mset:\n",
    "                        print('('+t.group()[6:-7]+')', end='')\n",
    "                    mset.add(t.group()[6:-7])\n",
    "            if count > 30:\n",
    "                break"
   ]
  },
  {
   "cell_type": "markdown",
   "metadata": {},
   "source": [
    "## 57. 係り受け解析"
   ]
  },
  {
   "cell_type": "code",
   "execution_count": 113,
   "metadata": {},
   "outputs": [
    {
     "data": {
      "image/png": "[encoded data removed]",
      "text/plain": [
       "<matplotlib.figure.Figure at 0x11a209cc0>"
      ]
     },
     "metadata": {},
     "output_type": "display_data"
    }
   ],
   "source": [
    "from xml.etree import ElementTree\n",
    "\n",
    "tree = ElementTree.parse(\"data/nlp.txt.xml\") \n",
    "root = tree.getroot() \n",
    "\n",
    "sentences = []\n",
    "dependencies = []\n",
    "\n",
    "for sentence in root[0][0]:\n",
    "    for dep in sentence[3]:\n",
    "      if dep[1].text != \".\" and dep[1].text != \",\":\n",
    "        dependencies.append([dep[0].text,dep[1].text])\n",
    "    sentences.append(dependencies)\n",
    "    dependencies = []\n",
    "    \n",
    "edges = sentences[5]\n",
    "g=pydot.graph_from_edges(edges, directed=True)\n",
    "\n",
    "g.write_jpeg('data/nlp_57.jpg', prog='dot')\n",
    "im = Image.open(\"data/nlp_57.jpg\")\n",
    "im_list = np.asarray(im)\n",
    "plt.imshow(im_list)\n",
    "plt.show()"
   ]
  },
  {
   "cell_type": "markdown",
   "metadata": {},
   "source": [
    "## 58. タプルの抽出"
   ]
  },
  {
   "cell_type": "code",
   "execution_count": 133,
   "metadata": {},
   "outputs": [
    {
     "name": "stdout",
     "output_type": "stream",
     "text": [
      "主語:understanding \t 述語:enabling\t目的語:computers\n主語:others \t 述語:involve\t目的語:generation\n主語:Turing \t 述語:published\t目的語:article\n主語:experiment \t 述語:involved\t目的語:translation\n主語:ELIZA \t 述語:provided\t目的語:interaction\n主語:patient \t 述語:exceeded\t目的語:base\n主語:ELIZA \t 述語:provide\t目的語:response\n主語:which \t 述語:structured\t目的語:information\n主語:underpinnings \t 述語:discouraged\t目的語:sort\n主語:that \t 述語:underlies\t目的語:approach\n主語:Some \t 述語:produced\t目的語:systems\n主語:which \t 述語:make\t目的語:decisions\n主語:systems \t 述語:rely\t目的語:which\n主語:that \t 述語:contains\t目的語:errors\n主語:implementations \t 述語:involved\t目的語:coding\n主語:algorithms \t 述語:take\t目的語:set\n主語:Some \t 述語:produced\t目的語:systems\n主語:which \t 述語:make\t目的語:decisions\n主語:models \t 述語:have\t目的語:advantage\n主語:they \t 述語:express\t目的語:certainty\n主語:Systems \t 述語:have\t目的語:advantages\n主語:Automatic \t 述語:make\t目的語:use\n主語:that \t 述語:make\t目的語:decisions\n"
     ]
    }
   ],
   "source": [
    "tree = ElementTree.parse(\"data/nlp.txt.xml\")\n",
    "root = tree.getroot() \n",
    "\n",
    "sentences = []\n",
    "dependencies = []\n",
    "depnsubj = []\n",
    "depdobj = []\n",
    "\n",
    "for sentence in root[0][0]:\n",
    "    for dep in sentence[3]:\n",
    "        deptype = dep.attrib\n",
    "        \n",
    "        if deptype[\"type\"] == \"nsubj\":\n",
    "            gidx = dep[0].attrib\n",
    "            didx = dep[1].attrib\n",
    "            dependencies.append([deptype[\"type\"],gidx[\"idx\"],dep[0].text,didx[\"idx\"],dep[1].text])\n",
    "        \n",
    "        if deptype[\"type\"] == \"dobj\":\n",
    "            gidx = dep[0].attrib\n",
    "            didx = dep[1].attrib\n",
    "            dependencies.append([deptype[\"type\"],gidx[\"idx\"],dep[0].text,didx[\"idx\"],dep[1].text])\n",
    "        \n",
    "    sentences.append(dependencies)\n",
    "    dependencies = []\n",
    "    \n",
    "for dependence in sentences:\n",
    "    for dep in dependence:\n",
    "        if dep[0] == \"nsubj\":\n",
    "            nsubj = dep[1]\n",
    "            for dobj in dependence:\n",
    "                if dobj[0] == \"dobj\" and dobj[1] == nsubj:\n",
    "                    print('主語:'+dep[4],\"\\t\",'述語:'+dep[2],end=\"\\t\")\n",
    "                    print('目的語:'+dobj[4])\n",
    "                    nsubj = 0"
   ]
  },
  {
   "cell_type": "markdown",
   "metadata": {},
   "source": [
    "## 59. S式の解析"
   ]
  },
  {
   "cell_type": "code",
   "execution_count": 140,
   "metadata": {},
   "outputs": [
    {
     "name": "stdout",
     "output_type": "stream",
     "text": [
      "\nNatural language processing \nWikipedia \nthe free encyclopedia Natural language processing ( NLP ) \nthe free encyclopedia Natural language processing \nNLP \na field of computer science , artificial intelligence , and linguistics concerned with the interactions between computers and human ( natural ) languages \na field of computer science \na field \ncomputer science \nartificial intelligence \nlinguistics concerned with the interactions between computers and human ( natural ) languages \nlinguistics \nthe interactions between computers and human ( natural ) languages \nthe interactions \ncomputers and human ( natural ) languages \ncomputers \nhuman ( natural ) languages \n\nsuch \nNLP \nthe area of humani-computer interaction \nthe area \nhumani-computer interaction \n\nMany challenges in NLP \nMany challenges \nNLP \nnatural language understanding , that is , \nnatural language understanding \ncomputers \nmeaning \nhuman or natural language input \nothers \nnatural language generation \n\nHistory The history of NLP \nHistory The history \nNLP \nthe 1950s \nwork \nearlier periods \n\n1950 \nAlan Turing \nan article titled `` Computing Machinery and Intelligence '' which proposed what is now called the Turing test as a criterion of intelligence \nan article \nComputing Machinery and Intelligence \nthe Turing test \na criterion of intelligence \na criterion \nintelligence \n\nThe Georgetown experiment in 1954 \nThe Georgetown experiment \n1954 \nfully automatic translation of more than sixty Russian sentences \nfully automatic translation \nmore than sixty Russian sentences \nEnglish \n\nThe authors \nthree or five years \nmachine translation \na solved problem \n\nreal progress \nthe ALPAC report in 1966 , which found that ten year long research had failed to fulfill the expectations \nthe ALPAC report \n1966 \nlong research \nthe expectations \nmachine \ntranslation \n\nLittle further research in machine translation \nLittle further research \nmachine translation \nthe late 1980s , when the first statistical machine translation systems were developed \nthe late 1980s \nthe first statistical machine translation systems \nthe first statistical machine \ntranslation systems \n\nSome notably successful NLP systems developed in the 1960s \nSome notably successful NLP systems \nthe 1960s \nSHRDLU , a natural language system working in restricted `` blocks worlds '' with restricted vocabularies \nSHRDLU \na natural language system working in restricted `` blocks worlds '' with restricted vocabularies \na natural language system \nrestricted `` blocks worlds '' \nrestricted \nblocks worlds \nrestricted vocabularies \nELIZA , a simulation of a Rogerian psychotherapist , \nELIZA \na simulation of a Rogerian psychotherapist \na simulation \na Rogerian psychotherapist \nJoseph Weizenbaum between 1964 to 1966 \nJoseph Weizenbaum \n1964 to 1966 \n\nalmost no information \nhuman thought or emotion \nELIZA \na startlingly human-like interaction \n\nthe `` patient '' \nthe very small knowledge base \nELIZA \na generic response , for example , responding to `` My head hurts \na generic response \nexample \nMy head \nyou \nyour head \n\n. \n\nthe 1970s \nmany programmers \nconceptual ontologies ' , which structured real-world information into computer-understandable data \nconceptual ontologies ' \nconceptual \nontologies ' \nreal-world information \ncomputer-understandable data \n\nExamples \nMARGIE ( Schank , 1975 ) , SAM ( Cullingford , 1978 ) , PAM ( Wilensky , 1978 ) , TaleSpin ( Meehan , 1976 ) , QUALM ( Lehnert , 1977 ) , Politics ( Carbonell , 1979 ) , and Plot Units ( Lehnert 1981 ) \nMARGIE ( Schank , 1975 ) \nMARGIE \nSchank \n1975 \nSAM ( Cullingford , 1978 ) , PAM ( Wilensky , 1978 ) , TaleSpin ( Meehan , 1976 ) , QUALM ( Lehnert , 1977 ) , Politics ( Carbonell , 1979 ) , and Plot Units ( Lehnert 1981 ) \nSAM ( Cullingford , 1978 ) \nSAM \nCullingford \n1978 \nPAM ( Wilensky , 1978 ) \nPAM \nWilensky \n1978 \nTaleSpin ( Meehan , 1976 ) \nTaleSpin \nMeehan \n1976 \nQUALM ( Lehnert , 1977 ) \nQUALM \nLehnert \n1977 \nPolitics ( Carbonell , 1979 ) \nPolitics \nCarbonell \n1979 \nPlot Units ( Lehnert 1981 ) \nPlot Units \nLehnert 1981 \n\nthis time \nmany chatterbots \nPARRY , Racter , and Jabberwacky \n\nthe 1980s \nmost NLP systems \ncomplex sets of hand-written rules \ncomplex sets \nhand-written rules \n\nthe late 1980s \nthere \na revolution in NLP \na revolution \nNLP \nthe introduction of machine learning algorithms for language processing \nthe introduction \nmachine learning algorithms for language processing \nmachine learning algorithms \nlanguage processing \n\nThis \nboth the steady increase \ncomputational power resulting from Moore 's Law and the gradual lessening of the dominance of Chomskyan theories of linguistics ( e.g. transformational grammar ) , whose theoretical underpinnings discouraged the sort of corpus linguistics that underlies the machine-learning approach to language processing \ncomputational power \nMoore 's Law and the gradual lessening of the dominance of Chomskyan theories of linguistics ( e.g. transformational grammar ) , whose theoretical underpinnings discouraged the sort of corpus linguistics that underlies the machine-learning approach to language processing \nMoore 's Law \nMoore 's \nthe gradual lessening of the dominance of Chomskyan theories of linguistics ( e.g. transformational grammar ) , whose theoretical underpinnings discouraged the sort of corpus linguistics that underlies the machine-learning approach to language processing \nthe gradual lessening \nthe dominance of Chomskyan theories \nthe dominance \nChomskyan theories \nlinguistics ( e.g. transformational grammar ) \nlinguistics \ne.g. transformational grammar \ne.g. \ntransformational grammar \ntheoretical underpinnings \nthe sort of corpus linguistics that underlies the machine-learning approach to language processing \nthe sort \ncorpus linguistics \nthe machine-learning approach \nlanguage processing \n\nSome of the earliest-used machine learning algorithms , such as decision trees , \nSome \nthe earliest-used machine learning algorithms , such as decision trees , \nthe earliest-used machine \nalgorithms , such as decision trees , \nalgorithms \ndecision trees \nsystems of hard if-then rules similar to existing hand-written rules \nsystems \nhard if-then rules similar to existing hand-written rules \nhard if-then rules \nexisting hand-written rules \n\nPart of speech \nPart \nspeech \nthe use of Hidden Markov Models \nthe use \nHidden Markov Models \nNLP \nresearch \nstatistical models , which make soft , probabilistic decisions based on attaching real-valued weights to the features making up the input data \nstatistical models \nsoft , probabilistic decisions \nreal-valued weights \nthe features making up the input data \nthe features \nthe input data \n\nThe cache language models upon which many speech recognition systems now rely \nThe cache language models \nmany speech recognition systems \nexamples of such statistical models \nexamples \nsuch statistical models \n\nSuch models \nunfamiliar input , especially input that contains errors ( as is very common for real-world data ) , \nunfamiliar input \ninput that contains errors ( as is very common for real-world data ) \ninput \nerrors ( as is very common for real-world data ) \nerrors \nreal-world data \nmore reliable results \na larger system comprising multiple subtasks \na larger system \nmultiple subtasks \n\nMany of the notable early successes \nMany \nthe notable early successes \nthe field of machine translation , due especially to work at IBM Research , where successively more complicated statistical models were developed \nthe field \nmachine translation , due especially to work at IBM Research , where successively more complicated statistical models were developed \nmachine translation \nIBM Research \nmore complicated statistical models \n\nThese systems \nadvantage of existing multilingual textual corpora that had been produced by the Parliament of Canada and the European Union as a result of laws calling for the translation of all governmental proceedings into all official languages of the corresponding systems of government \nadvantage \nexisting multilingual textual corpora that had been produced by the Parliament of Canada and the European Union as a result of laws calling for the translation of all governmental proceedings into all official languages of the corresponding systems of government \nexisting multilingual textual corpora \nthe Parliament of Canada and the European Union \nthe Parliament \nCanada and the European Union \nCanada \nthe European Union \na result of laws calling for the translation of all governmental proceedings into all official languages of the corresponding systems of government \na result \nlaws calling for the translation of all governmental proceedings into all official languages of the corresponding systems of government \nlaws \nthe translation of all governmental proceedings \nthe translation \nall governmental proceedings \nall official languages of the corresponding systems of government \nall official languages \nthe corresponding systems of government \nthe corresponding systems \ngovernment \n\nmost other systems \ncorpora \nthe tasks implemented by these systems , which was ( and often continues to be ) \nthe tasks \nthese systems , which was ( and often continues to be ) \nthese systems \na major limitation in the success of these systems \na major limitation \nthe success of these systems \nthe success \nthese systems \n\na result \na great deal of research \na great deal \nresearch \nmethods of more effectively learning from limited amounts of data \nmethods \nmore effectively learning from limited amounts of data \nmore \nlimited amounts of data \nlimited amounts \ndata \n\nRecent research \nunsupervised and semi-supervised learning algorithms \n\nSuch algorithms \ndata that has not been hand-annotated with the desired answers \ndata \nthe desired answers \na combination of annotated and non-annotated data \na combination \nannotated and non-annotated data \n\nthis task \nsupervised learning \nless accurate results for a given amount of input data \nless accurate results \na given amount of input data \na given amount \ninput data \n\nthere \nan enormous amount of non-annotated data available ( including , among other things , the entire content of the World Wide Web ) , which can often make up for the inferior results \nan enormous amount of non-annotated data available \nan enormous amount \nnon-annotated data available \nnon-annotated data \nother things \nthe entire content of the World Wide Web \nthe entire content \nthe World Wide Web \nthe inferior results \n\nNLP using machine learning Modern NLP algorithms \nNLP \nmachine learning Modern NLP algorithms \nmachine learning , especially statistical machine learning \nmachine learning \nstatistical machine learning \n\nThe paradigm of machine learning \nThe paradigm \nmachine learning \nthat of most prior attempts \nthat \nmost prior attempts \nlanguage processing \n\nimplementations of language-processing tasks \nimplementations \nlanguage-processing tasks \nthe direct hand coding of large sets of rules \nthe direct hand coding \nlarge sets of rules \nlarge sets \nrules \n\nThe machine-learning paradigm \ngeneral learning algorithms - often \ngeneral learning algorithms \nstatistical inference \nsuch rules \nthe analysis of large corpora of typical real-world examples \nthe analysis \nlarge corpora of typical real-world examples \nlarge corpora \ntypical real-world examples \n\nA corpus ( plural , `` corpora '' ) \nA corpus \nplural , `` corpora '' \nplural \n`` corpora '' \na set of documents ( or sometimes , individual sentences ) that have been hand-annotated with the correct values to be learned \na set \ndocuments ( or sometimes , individual sentences ) that have been hand-annotated with the correct values to be learned \ndocuments \nindividual sentences \nthe correct values \n\nMany different classes of machine learning algorithms \nMany different classes \nmachine learning algorithms \nNLP tasks \n\nThese algorithms \nas input \na large set of `` features '' that are generated from the input data \na large set \n`` features '' that are generated from the input data \n`` features '' \nthe input data \n\nSome of the earliest-used algorithms , such as decision trees , \nSome \nthe earliest-used algorithms \ndecision trees \nsystems of hard if-then rules similar to the systems of hand-written rules that were then common \nsystems \nhard if-then rules similar to the systems of hand-written rules that were then common \nhard if-then rules \nthe systems of hand-written rules that were then common \nthe systems \nhand-written rules \n\nresearch \nstatistical models , which make soft , probabilistic decisions based on attaching real-valued weights to each input feature \nstatistical models \nsoft , probabilistic decisions \nreal-valued weights \neach input feature \n\nSuch models \nthe advantage \nthey \nthe relative certainty of many different possible answers rather than only one \nthe relative certainty \nmany different possible answers rather than only one \nmany different possible answers \nonly one \nmore reliable results \nsuch a model \na component of a larger system \na component \na larger system \n\nSystems based on machine-learning algorithms \nSystems \nmachine-learning algorithms \nmany advantages over hand-produced rules \nmany advantages \nhand-produced rules \nThe learning procedures used during machine learning \nThe learning procedures \nmachine learning \nthe most common cases , whereas when writing rules by hand it is often not obvious at all where the effort should be directed \nthe most common cases \nrules \nhand \nit \nall \nthe effort \n\nAutomatic learning procedures \nAutomatic \nprocedures \nuse of statistical inference algorithms \nuse \nstatistical inference algorithms \nmodels that are robust to unfamiliar input ( e.g. containing words or structures that have not been seen before ) and to erroneous input ( e.g. with misspelled words or words accidentally omitted ) \nmodels \nunfamiliar input \nwords or structures that have not been seen before \nwords or structures \nerroneous input ( e.g. with misspelled words or words accidentally omitted ) \ne.g. with misspelled words or words accidentally omitted \ne.g. \nwords or words accidentally omitted \nwords or words \n\nsuch input gracefully with hand-written rules -- or more \nsuch input \nhand-written rules \nsystems of hand-written rules that make soft decisions -- extremely difficult , error-prone and time-consuming \nsystems \nhand-written rules \nsoft decisions -- extremely difficult , error-prone and time-consuming \nsoft decisions \n\nSystems based on automatically learning the rules \nSystems \nthe rules \nmore input data \n\nsystems based on hand-written rules \nsystems \nhand-written rules \nthe complexity of the rules , which is a much more difficult task \nthe complexity \nthe rules , which is a much more difficult task \nthe rules \na much more difficult task \n\nthere \na limit to the complexity of systems based on hand-crafted rules , beyond which the systems become more and more unmanageable \na limit \nthe complexity of systems based on hand-crafted rules , beyond which the systems become more and more unmanageable \nthe complexity \nsystems based on hand-crafted rules , beyond which the systems become more and more unmanageable \nsystems \nhand-crafted rules , beyond which the systems become more and more unmanageable \nhand-crafted rules \nthe systems \n\nmore data \ninput \nmachine-learning systems \na corresponding increase in the number of man-hours \na corresponding increase \nthe number of man-hours \nthe number \nman-hours \nsignificant increases in the complexity of the annotation process \nsignificant increases \nthe complexity of the annotation process \nthe complexity \nthe annotation process \n\nThe subfield of NLP devoted to learning approaches is known as Natural Language Learning ( NLL ) and its conference CoNLL and peak body SIGNLL \nThe subfield \nNLP devoted to learning approaches is known as Natural Language Learning ( NLL ) and its conference CoNLL and peak body SIGNLL \nNLP \napproaches \nNatural Language Learning ( NLL ) \nNatural Language Learning \nNLL \nits conference CoNLL and peak body \nSIGNLL \nACL \ntheir links \nComputational Linguistics and Language Acquisition \nComputational Linguistics \nLanguage Acquisition \n\nthe aims of computational language learning research \nthe aims \ncomputational language learning research \ncomputational language \nresearch \nmore \nhuman language acquisition , or psycholinguistics \nhuman language acquisition \npsycholinguistics \nNLL \nthe related field of Computational Psycholinguistics \nthe related field \nComputational Psycholinguistics \n"
     ]
    }
   ],
   "source": [
    "tree = ElementTree.parse(\"data/nlp.txt.xml\") \n",
    "root = tree.getroot() \n",
    "\n",
    "sentences = []\n",
    "\n",
    "for sentence in root[0][0]:\n",
    "    perse = re.sub(r'\\)', r' )', sentence[1].text)\n",
    "    perse = re.sub(r'\\(', r'( ', perse)\n",
    "    tokens = re.split(\" \", perse)\n",
    "    sentences.append(tokens)\n",
    "\n",
    "n = 0\n",
    "RBcounter = 0\n",
    "for perse in sentences:\n",
    "    for token in perse:\n",
    "        NPtokenlist = []\n",
    "        if token == \"NP\":\n",
    "            NPlist = perse[n+1:]\n",
    "            for NPtoken in NPlist:\n",
    "                if NPtoken == \"(\":\n",
    "                    RBcounter += 1\n",
    "                if NPtoken == \")\":\n",
    "                    RBcounter -= 1\n",
    "                if RBcounter == -1:\n",
    "                    print(\"\")\n",
    "                    break\n",
    "                NPtokenlist.append(NPtoken)\n",
    "            LRBflag = 0\n",
    "            for NPtoken in NPtokenlist:\n",
    "                if NPtoken == \")\":\n",
    "                    continue\n",
    "                if NPtoken == \"(\":\n",
    "                    LRBflag = 1\n",
    "                    continue\n",
    "                if NPtoken != \"(\" and LRBflag == 1:\n",
    "                    LRBflag -= 1\n",
    "                else:\n",
    "                    if NPtoken == \"-LRB-\":\n",
    "                        print(\"(\", end=\" \")\n",
    "                    elif NPtoken == \"-RRB-\":\n",
    "                        print(\")\", end=\" \")\n",
    "                    else:\n",
    "                        print(NPtoken, end=\" \")        \n",
    "            RBcounter = 0 \n",
    "        n += 1\n",
    "    print(\"\")\n",
    "    n = 0"
   ]
  }
 ],
 "metadata": {
  "kernelspec": {
   "display_name": "Python 2",
   "language": "python",
   "name": "python2"
  },
  "language_info": {
   "codemirror_mode": {
    "name": "ipython",
    "version": 2.0
   },
   "file_extension": ".py",
   "mimetype": "text/x-python",
   "name": "python",
   "nbconvert_exporter": "python",
   "pygments_lexer": "ipython2",
   "version": "2.7.6"
  }
 },
 "nbformat": 4,
 "nbformat_minor": 0
}